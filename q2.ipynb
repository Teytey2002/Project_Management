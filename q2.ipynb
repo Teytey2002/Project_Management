{
 "cells": [
  {
   "cell_type": "code",
   "metadata": {
    "ExecuteTime": {
     "end_time": "2024-12-06T14:29:45.062278Z",
     "start_time": "2024-12-06T14:29:45.053720Z"
    }
   },
   "source": [
    "import pandas as pd\n",
    "import numpy as np\n",
    "import matplotlib.pyplot as plt\n",
    "import seaborn as sns\n",
    "from sklearn.metrics import classification_report, accuracy_score, precision_score, recall_score, f1_score\n",
    "from sklearn.model_selection import train_test_split, GridSearchCV\n",
    "from sklearn.preprocessing import LabelEncoder, OneHotEncoder, StandardScaler\n",
    "from sklearn.compose import ColumnTransformer\n",
    "from sklearn.linear_model import LogisticRegression\n",
    "from sklearn.pipeline import Pipeline\n",
    "from sklearn.impute import SimpleImputer\n",
    "from xgboost import XGBClassifier\n",
    "import shap\n",
    "\n",
    "from aif360.metrics import BinaryLabelDatasetMetric, ClassificationMetric\n",
    "from aif360.datasets import AdultDataset, BinaryLabelDataset\n",
    "from aif360.algorithms.preprocessing import Reweighing\n",
    "from aif360.algorithms.preprocessing.optim_preproc_helpers.data_preproc_functions import load_preproc_data_adult\n",
    "\n",
    "from IPython.display import Markdown, display\n",
    "\n",
    "%matplotlib inline\n"
   ],
   "outputs": [],
   "execution_count": 15
  },
  {
   "cell_type": "code",
   "metadata": {
    "ExecuteTime": {
     "end_time": "2024-12-06T14:29:45.300771Z",
     "start_time": "2024-12-06T14:29:45.296218Z"
    }
   },
   "source": [
    "np.random.seed(1)"
   ],
   "outputs": [],
   "execution_count": 16
  },
  {
   "cell_type": "code",
   "metadata": {
    "ExecuteTime": {
     "end_time": "2024-12-06T14:29:45.359855Z",
     "start_time": "2024-12-06T14:29:45.350960Z"
    }
   },
   "source": [
    "columns = [\n",
    "    \"age\", \"workclass\", \"fnlwgt\", \"education\", \"education-num\",\n",
    "    \"marital-status\", \"occupation\", \"relationship\", \"race\", \"sex\",\n",
    "    \"capital-gain\", \"capital-loss\", \"hours-per-week\", \"native-country\", \"income\"\n",
    "]\n",
    "# We want to difine a custom preprocesing function (custom_preprocessing(df)) from the standat dataset class \n",
    "# that will be used to transform the dataset\n",
    "\n",
    "def custom_preprocessing(df):\n",
    "    median_age = df['age'].median()\n",
    "    df['age_binary'] = df['age'].apply(lambda x: 0 if x <= median_age else 1)\n",
    "    df = df.drop('age', axis=1)\n",
    "    df['race'] = df['race'].apply(lambda x: 1 if x ==\"White\"  else 0)\n",
    "    df['sex'] =df['sex'].apply(lambda x: 1 if x ==\"Male\"  else 0)\n",
    "    return df\n",
    "# So what we did is to add a new column 'age_binary' to the dataset and drop the 'age' column, in order to \n",
    "# binarise the age column.\n",
    "# Load the dataset with the library aif360\n",
    "dataset= AdultDataset(custom_preprocessing=custom_preprocessing,\n",
    "                          protected_attribute_names=['age_binary', 'sex'], # race will remain because in the original library is defined with this protecte attribute\n",
    "                          privileged_classes=[np.array([1.0]),np.array([1.0]) ]) # We supposed that the privileged class is the old white male. It's also defined like this in the original library\n",
    "\n",
    "dataset_orig_train, dataset_orig_vt = dataset.split([0.7], shuffle=True)\n",
    "dataset_orig_valid, dataset_orig_test = dataset_orig_vt.split([0.5], shuffle=True)\n"
   ],
   "outputs": [
    {
     "name": "stdout",
     "output_type": "stream",
     "text": [
      "IOError: [Errno 2] No such file or directory: 'C:\\\\Users\\\\kerim\\\\PycharmProjects\\\\pythonProject\\\\.venv\\\\Lib\\\\site-packages\\\\aif360\\\\datasets\\\\..\\\\data\\\\raw\\\\adult\\\\adult.data'\n",
      "To use this class, please download the following files:\n",
      "\n",
      "\thttps://archive.ics.uci.edu/ml/machine-learning-databases/adult/adult.data\n",
      "\thttps://archive.ics.uci.edu/ml/machine-learning-databases/adult/adult.test\n",
      "\thttps://archive.ics.uci.edu/ml/machine-learning-databases/adult/adult.names\n",
      "\n",
      "and place them, as-is, in the folder:\n",
      "\n",
      "\tC:\\Users\\kerim\\PycharmProjects\\pythonProject\\.venv\\Lib\\site-packages\\aif360\\data\\raw\\adult\n",
      "\n"
     ]
    },
    {
     "ename": "SystemExit",
     "evalue": "1",
     "output_type": "error",
     "traceback": [
      "An exception has occurred, use %tb to see the full traceback.\n",
      "\u001B[1;31mSystemExit\u001B[0m\u001B[1;31m:\u001B[0m 1\n"
     ]
    }
   ],
   "execution_count": 17
  },
  {
   "cell_type": "markdown",
   "metadata": {},
   "source": [
    "#### Clean up training data"
   ]
  },
  {
   "cell_type": "code",
   "metadata": {
    "ExecuteTime": {
     "end_time": "2024-12-06T14:29:45.429809Z",
     "start_time": "2024-12-06T14:29:45.407366Z"
    }
   },
   "source": [
    "# print out some labels, names, etc.\n",
    "display(Markdown(\"#### Training Dataset shape\"))\n",
    "print(dataset_orig_train.features.shape)\n",
    "display(Markdown(\"#### Favorable and unfavorable labels\"))\n",
    "print(dataset_orig_train.favorable_label, dataset_orig_train.unfavorable_label)\n",
    "display(Markdown(\"#### Protected attribute names\"))\n",
    "print(dataset_orig_train.protected_attribute_names)\n",
    "\n",
    "display(Markdown(\"#### Privileged and unprivileged protected attribute values\"))\n",
    "print(dataset_orig_train.privileged_protected_attributes, \n",
    "      dataset_orig_train.unprivileged_protected_attributes)\n",
    "\n",
    "display(Markdown(\"#### Dataset feature names\"))\n",
    "print(dataset_orig_train.feature_names)"
   ],
   "outputs": [
    {
     "data": {
      "text/plain": [
       "<IPython.core.display.Markdown object>"
      ],
      "text/markdown": "#### Training Dataset shape"
     },
     "metadata": {},
     "output_type": "display_data"
    },
    {
     "ename": "NameError",
     "evalue": "name 'dataset_orig_train' is not defined",
     "output_type": "error",
     "traceback": [
      "\u001B[1;31m---------------------------------------------------------------------------\u001B[0m",
      "\u001B[1;31mNameError\u001B[0m                                 Traceback (most recent call last)",
      "Cell \u001B[1;32mIn[18], line 3\u001B[0m\n\u001B[0;32m      1\u001B[0m \u001B[38;5;66;03m# print out some labels, names, etc.\u001B[39;00m\n\u001B[0;32m      2\u001B[0m display(Markdown(\u001B[38;5;124m\"\u001B[39m\u001B[38;5;124m#### Training Dataset shape\u001B[39m\u001B[38;5;124m\"\u001B[39m))\n\u001B[1;32m----> 3\u001B[0m \u001B[38;5;28mprint\u001B[39m(\u001B[43mdataset_orig_train\u001B[49m\u001B[38;5;241m.\u001B[39mfeatures\u001B[38;5;241m.\u001B[39mshape)\n\u001B[0;32m      4\u001B[0m display(Markdown(\u001B[38;5;124m\"\u001B[39m\u001B[38;5;124m#### Favorable and unfavorable labels\u001B[39m\u001B[38;5;124m\"\u001B[39m))\n\u001B[0;32m      5\u001B[0m \u001B[38;5;28mprint\u001B[39m(dataset_orig_train\u001B[38;5;241m.\u001B[39mfavorable_label, dataset_orig_train\u001B[38;5;241m.\u001B[39munfavorable_label)\n",
      "\u001B[1;31mNameError\u001B[0m: name 'dataset_orig_train' is not defined"
     ]
    }
   ],
   "execution_count": 18
  },
  {
   "cell_type": "markdown",
   "metadata": {},
   "source": [
    "Step 3 Compute fairness metric on original training dataset\n",
    "The fairness metric is Statistical Parity Difference whitch measures the disparity in positive outcomes between unprivileged and privileged groups. It compares the probability of receiving a positive outcome for members of the unprivileged group against that for members of the privileged group."
   ]
  },
  {
   "cell_type": "code",
   "metadata": {
    "ExecuteTime": {
     "end_time": "2024-12-06T14:29:45.463508Z",
     "start_time": "2024-12-06T14:29:45.458970Z"
    }
   },
   "source": [
    "# Define the privileged and unprivileged groups in order to compute the disparate impact\n",
    "privileged_groups = [{'age_binary': 1, 'sex': 1}]  # Old males\n",
    "unprivileged_groups = [{'age_binary': 0, 'sex': 0}]  # Young females\n"
   ],
   "outputs": [],
   "execution_count": 19
  },
  {
   "cell_type": "code",
   "metadata": {
    "ExecuteTime": {
     "end_time": "2024-12-06T14:29:45.760608Z",
     "start_time": "2024-12-06T14:29:45.757144Z"
    }
   },
   "source": [],
   "outputs": [],
   "execution_count": 19
  },
  {
   "cell_type": "markdown",
   "metadata": {},
   "source": [
    "As it can be seen from the privious cell, we conclude that there is a bias in this dataset because the statistical paity metric is not equal to zero. More specifficaly, in the unprivileged group we have 2% of peopele are suffering of unfairness.  \n"
   ]
  },
  {
   "cell_type": "markdown",
   "metadata": {},
   "source": [
    " Step 4 Mitigate bias by transforming the original dataset via technique to ensure the classifier is fair. Here we want to use the Pre-Processing method Reweighting for fairness. This method will simply assigns weights to samples to balance the representation of protected groups in the training process."
   ]
  },
  {
   "cell_type": "code",
   "metadata": {
    "ExecuteTime": {
     "end_time": "2024-12-06T14:29:45.833430Z",
     "start_time": "2024-12-06T14:29:45.828940Z"
    }
   },
   "source": [],
   "outputs": [],
   "execution_count": 19
  },
  {
   "cell_type": "code",
   "metadata": {
    "ExecuteTime": {
     "end_time": "2024-12-06T14:29:45.878211Z",
     "start_time": "2024-12-06T14:29:45.858522Z"
    }
   },
   "source": [
    "# Compute the fairness metric statistical parity measure, which is the difference in the mean prediction between the unprivileged and privileged groups.\n",
    "# A negative value indicates less favorable outcomes for the unprivileged groups. in order to see if the dataset is biased\n",
    "metric_orig_train = BinaryLabelDatasetMetric(dataset_orig_train, \n",
    "                                             unprivileged_groups=unprivileged_groups,\n",
    "                                             privileged_groups=privileged_groups)\n",
    "display(Markdown(\"#### Original training dataset\"))\n",
    "print(\"Difference in mean outcomes between unprivileged and privileged groups = %f\" % metric_orig_train.mean_difference())"
   ],
   "outputs": [
    {
     "ename": "NameError",
     "evalue": "name 'dataset_orig_train' is not defined",
     "output_type": "error",
     "traceback": [
      "\u001B[1;31m---------------------------------------------------------------------------\u001B[0m",
      "\u001B[1;31mNameError\u001B[0m                                 Traceback (most recent call last)",
      "Cell \u001B[1;32mIn[20], line 3\u001B[0m\n\u001B[0;32m      1\u001B[0m \u001B[38;5;66;03m# Compute the fairness metric statistical parity measure, which is the difference in the mean prediction between the unprivileged and privileged groups.\u001B[39;00m\n\u001B[0;32m      2\u001B[0m \u001B[38;5;66;03m# A negative value indicates less favorable outcomes for the unprivileged groups. in order to see if the dataset is biased\u001B[39;00m\n\u001B[1;32m----> 3\u001B[0m metric_orig_train \u001B[38;5;241m=\u001B[39m BinaryLabelDatasetMetric(\u001B[43mdataset_orig_train\u001B[49m, \n\u001B[0;32m      4\u001B[0m                                              unprivileged_groups\u001B[38;5;241m=\u001B[39munprivileged_groups,\n\u001B[0;32m      5\u001B[0m                                              privileged_groups\u001B[38;5;241m=\u001B[39mprivileged_groups)\n\u001B[0;32m      6\u001B[0m display(Markdown(\u001B[38;5;124m\"\u001B[39m\u001B[38;5;124m#### Original training dataset\u001B[39m\u001B[38;5;124m\"\u001B[39m))\n\u001B[0;32m      7\u001B[0m \u001B[38;5;28mprint\u001B[39m(\u001B[38;5;124m\"\u001B[39m\u001B[38;5;124mDifference in mean outcomes between unprivileged and privileged groups = \u001B[39m\u001B[38;5;132;01m%f\u001B[39;00m\u001B[38;5;124m\"\u001B[39m \u001B[38;5;241m%\u001B[39m metric_orig_train\u001B[38;5;241m.\u001B[39mmean_difference())\n",
      "\u001B[1;31mNameError\u001B[0m: name 'dataset_orig_train' is not defined"
     ]
    }
   ],
   "execution_count": 20
  },
  {
   "cell_type": "code",
   "metadata": {
    "ExecuteTime": {
     "end_time": "2024-12-06T14:29:45.956180Z",
     "start_time": "2024-12-06T14:29:45.939351Z"
    }
   },
   "source": [
    "print('The 50 first instance weights originally:')\n",
    "dataset.instance_weights[:50]"
   ],
   "outputs": [
    {
     "name": "stdout",
     "output_type": "stream",
     "text": [
      "The 50 first instance weights originally:\n"
     ]
    },
    {
     "ename": "NameError",
     "evalue": "name 'dataset' is not defined",
     "output_type": "error",
     "traceback": [
      "\u001B[1;31m---------------------------------------------------------------------------\u001B[0m",
      "\u001B[1;31mNameError\u001B[0m                                 Traceback (most recent call last)",
      "Cell \u001B[1;32mIn[21], line 2\u001B[0m\n\u001B[0;32m      1\u001B[0m \u001B[38;5;28mprint\u001B[39m(\u001B[38;5;124m'\u001B[39m\u001B[38;5;124mThe 50 first instance weights originally:\u001B[39m\u001B[38;5;124m'\u001B[39m)\n\u001B[1;32m----> 2\u001B[0m \u001B[43mdataset\u001B[49m\u001B[38;5;241m.\u001B[39minstance_weights[:\u001B[38;5;241m50\u001B[39m]\n",
      "\u001B[1;31mNameError\u001B[0m: name 'dataset' is not defined"
     ]
    }
   ],
   "execution_count": 21
  },
  {
   "cell_type": "markdown",
   "metadata": {},
   "source": [
    "We can clearly see from the cell above that the reweight method of transforming the dataset into a fair one worked.\n"
   ]
  },
  {
   "cell_type": "markdown",
   "metadata": {},
   "source": [
    "Step 5 Compute fairness metric on transformed dataset\n"
   ]
  },
  {
   "cell_type": "code",
   "metadata": {
    "ExecuteTime": {
     "end_time": "2024-12-06T14:29:45.986037Z",
     "start_time": "2024-12-06T14:29:45.971851Z"
    }
   },
   "source": [
    "RW = Reweighing(unprivileged_groups=unprivileged_groups,\n",
    "               privileged_groups=privileged_groups)\n",
    "RW.fit(dataset_orig_train)\n",
    "dataset_transf_train = RW.transform(dataset_orig_train)"
   ],
   "outputs": [
    {
     "ename": "NameError",
     "evalue": "name 'dataset_orig_train' is not defined",
     "output_type": "error",
     "traceback": [
      "\u001B[1;31m---------------------------------------------------------------------------\u001B[0m",
      "\u001B[1;31mNameError\u001B[0m                                 Traceback (most recent call last)",
      "Cell \u001B[1;32mIn[22], line 3\u001B[0m\n\u001B[0;32m      1\u001B[0m RW \u001B[38;5;241m=\u001B[39m Reweighing(unprivileged_groups\u001B[38;5;241m=\u001B[39munprivileged_groups,\n\u001B[0;32m      2\u001B[0m                privileged_groups\u001B[38;5;241m=\u001B[39mprivileged_groups)\n\u001B[1;32m----> 3\u001B[0m RW\u001B[38;5;241m.\u001B[39mfit(\u001B[43mdataset_orig_train\u001B[49m)\n\u001B[0;32m      4\u001B[0m dataset_transf_train \u001B[38;5;241m=\u001B[39m RW\u001B[38;5;241m.\u001B[39mtransform(dataset_orig_train)\n",
      "\u001B[1;31mNameError\u001B[0m: name 'dataset_orig_train' is not defined"
     ]
    }
   ],
   "execution_count": 22
  },
  {
   "cell_type": "code",
   "metadata": {
    "ExecuteTime": {
     "end_time": "2024-12-06T14:29:46.059251Z",
     "start_time": "2024-12-06T14:29:46.040209Z"
    }
   },
   "source": [
    "print('The 50 first instance weights after reweighing:')\n",
    "dataset_transf_train.instance_weights[:50]"
   ],
   "outputs": [
    {
     "name": "stdout",
     "output_type": "stream",
     "text": [
      "The 50 first instance weights after reweighing:\n"
     ]
    },
    {
     "ename": "NameError",
     "evalue": "name 'dataset_transf_train' is not defined",
     "output_type": "error",
     "traceback": [
      "\u001B[1;31m---------------------------------------------------------------------------\u001B[0m",
      "\u001B[1;31mNameError\u001B[0m                                 Traceback (most recent call last)",
      "Cell \u001B[1;32mIn[23], line 2\u001B[0m\n\u001B[0;32m      1\u001B[0m \u001B[38;5;28mprint\u001B[39m(\u001B[38;5;124m'\u001B[39m\u001B[38;5;124mThe 50 first instance weights after reweighing:\u001B[39m\u001B[38;5;124m'\u001B[39m)\n\u001B[1;32m----> 2\u001B[0m \u001B[43mdataset_transf_train\u001B[49m\u001B[38;5;241m.\u001B[39minstance_weights[:\u001B[38;5;241m50\u001B[39m]\n",
      "\u001B[1;31mNameError\u001B[0m: name 'dataset_transf_train' is not defined"
     ]
    }
   ],
   "execution_count": 23
  },
  {
   "cell_type": "code",
   "metadata": {
    "ExecuteTime": {
     "end_time": "2024-12-06T14:29:46.086142Z",
     "start_time": "2024-12-06T14:29:46.070012Z"
    }
   },
   "source": [
    "metric_transf_train = BinaryLabelDatasetMetric(dataset_transf_train, \n",
    "                                               unprivileged_groups=unprivileged_groups,\n",
    "                                               privileged_groups=privileged_groups)\n",
    "display(Markdown(\"#### Transformed training dataset\"))\n",
    "print(\"Difference in mean outcomes between unprivileged and privileged groups = %f\" % metric_transf_train.mean_difference())\n"
   ],
   "outputs": [
    {
     "ename": "NameError",
     "evalue": "name 'dataset_transf_train' is not defined",
     "output_type": "error",
     "traceback": [
      "\u001B[1;31m---------------------------------------------------------------------------\u001B[0m",
      "\u001B[1;31mNameError\u001B[0m                                 Traceback (most recent call last)",
      "Cell \u001B[1;32mIn[24], line 1\u001B[0m\n\u001B[1;32m----> 1\u001B[0m metric_transf_train \u001B[38;5;241m=\u001B[39m BinaryLabelDatasetMetric(\u001B[43mdataset_transf_train\u001B[49m, \n\u001B[0;32m      2\u001B[0m                                                unprivileged_groups\u001B[38;5;241m=\u001B[39munprivileged_groups,\n\u001B[0;32m      3\u001B[0m                                                privileged_groups\u001B[38;5;241m=\u001B[39mprivileged_groups)\n\u001B[0;32m      4\u001B[0m display(Markdown(\u001B[38;5;124m\"\u001B[39m\u001B[38;5;124m#### Transformed training dataset\u001B[39m\u001B[38;5;124m\"\u001B[39m))\n\u001B[0;32m      5\u001B[0m \u001B[38;5;28mprint\u001B[39m(\u001B[38;5;124m\"\u001B[39m\u001B[38;5;124mDifference in mean outcomes between unprivileged and privileged groups = \u001B[39m\u001B[38;5;132;01m%f\u001B[39;00m\u001B[38;5;124m\"\u001B[39m \u001B[38;5;241m%\u001B[39m metric_transf_train\u001B[38;5;241m.\u001B[39mmean_difference())\n",
      "\u001B[1;31mNameError\u001B[0m: name 'dataset_transf_train' is not defined"
     ]
    }
   ],
   "execution_count": 24
  },
  {
   "cell_type": "markdown",
   "metadata": {},
   "source": [
    "### Train classifier on original data\n"
   ]
  },
  {
   "cell_type": "code",
   "metadata": {
    "ExecuteTime": {
     "end_time": "2024-12-06T14:29:46.153013Z",
     "start_time": "2024-12-06T14:29:46.129869Z"
    }
   },
   "source": [
    "# Extract data for the original training set\n",
    "X_train = dataset_orig_train.features\n",
    "y_train = dataset_orig_train.labels.ravel()\n",
    "\n",
    "X_valid = dataset_orig_valid.features\n",
    "y_valid = dataset_orig_valid.labels.ravel()\n",
    "\n",
    "X_test = dataset_orig_test.features\n",
    "y_test = dataset_orig_test.labels.ravel()\n",
    "\n",
    "# Extract data for the reweighted (fair) training set\n",
    "X_train_transf = dataset_transf_train.features\n",
    "y_train_transf = dataset_transf_train.labels.ravel()\n",
    "w_train_transf = dataset_transf_train.instance_weights\n",
    "\n",
    "# Prepare a scaler to normalize features (helpful for logistic regression)\n",
    "scaler = StandardScaler()\n",
    "X_train_scaled = scaler.fit_transform(X_train)\n",
    "X_valid_scaled = scaler.transform(X_valid)\n",
    "X_test_scaled = scaler.transform(X_test)\n",
    "\n",
    "X_train_transf_scaled = scaler.fit_transform(X_train_transf)\n",
    "X_valid_transf_scaled = scaler.transform(X_valid)  # validation set stays the same\n",
    "X_test_transf_scaled = scaler.transform(X_test)"
   ],
   "outputs": [
    {
     "ename": "NameError",
     "evalue": "name 'dataset_orig_train' is not defined",
     "output_type": "error",
     "traceback": [
      "\u001B[1;31m---------------------------------------------------------------------------\u001B[0m",
      "\u001B[1;31mNameError\u001B[0m                                 Traceback (most recent call last)",
      "Cell \u001B[1;32mIn[25], line 2\u001B[0m\n\u001B[0;32m      1\u001B[0m \u001B[38;5;66;03m# Extract data for the original training set\u001B[39;00m\n\u001B[1;32m----> 2\u001B[0m X_train \u001B[38;5;241m=\u001B[39m \u001B[43mdataset_orig_train\u001B[49m\u001B[38;5;241m.\u001B[39mfeatures\n\u001B[0;32m      3\u001B[0m y_train \u001B[38;5;241m=\u001B[39m dataset_orig_train\u001B[38;5;241m.\u001B[39mlabels\u001B[38;5;241m.\u001B[39mravel()\n\u001B[0;32m      5\u001B[0m X_valid \u001B[38;5;241m=\u001B[39m dataset_orig_valid\u001B[38;5;241m.\u001B[39mfeatures\n",
      "\u001B[1;31mNameError\u001B[0m: name 'dataset_orig_train' is not defined"
     ]
    }
   ],
   "execution_count": 25
  },
  {
   "cell_type": "code",
   "metadata": {
    "ExecuteTime": {
     "end_time": "2024-12-06T14:29:46.202633Z",
     "start_time": "2024-12-06T14:29:46.183504Z"
    }
   },
   "source": [
    "# ===========================\n",
    "# Model Without Fairness Mitigation\n",
    "# ===========================\n",
    "clf_orig = LogisticRegression(solver='lbfgs', max_iter=200)\n",
    "clf_orig.fit(X_train_scaled, y_train)\n",
    "\n",
    "y_pred_test_orig = clf_orig.predict(X_test_scaled)\n",
    "\n",
    "# Evaluate performance\n",
    "print(\"===== Original Classifier (No Fairness Mitigation) =====\")\n",
    "print(\"Accuracy on test set:\", accuracy_score(y_test, y_pred_test_orig))\n",
    "print(classification_report(y_test, y_pred_test_orig))\n",
    "\n",
    "# Compute fairness metrics on test set\n",
    "test_bld_orig = dataset_orig_test.copy(deepcopy=True)\n",
    "test_bld_orig.labels = y_pred_test_orig.reshape(-1,1)\n",
    "\n",
    "metric_test_orig = ClassificationMetric(dataset_orig_test,\n",
    "                                        test_bld_orig,\n",
    "                                        unprivileged_groups=unprivileged_groups,\n",
    "                                        privileged_groups=privileged_groups)\n",
    "print(\"Statistical parity difference (original):\", metric_test_orig.statistical_parity_difference())\n",
    "print(\"Equal opportunity difference (original):\", metric_test_orig.equal_opportunity_difference())"
   ],
   "outputs": [
    {
     "ename": "NameError",
     "evalue": "name 'X_train_scaled' is not defined",
     "output_type": "error",
     "traceback": [
      "\u001B[1;31m---------------------------------------------------------------------------\u001B[0m",
      "\u001B[1;31mNameError\u001B[0m                                 Traceback (most recent call last)",
      "Cell \u001B[1;32mIn[26], line 5\u001B[0m\n\u001B[0;32m      1\u001B[0m \u001B[38;5;66;03m# ===========================\u001B[39;00m\n\u001B[0;32m      2\u001B[0m \u001B[38;5;66;03m# Model Without Fairness Mitigation\u001B[39;00m\n\u001B[0;32m      3\u001B[0m \u001B[38;5;66;03m# ===========================\u001B[39;00m\n\u001B[0;32m      4\u001B[0m clf_orig \u001B[38;5;241m=\u001B[39m LogisticRegression(solver\u001B[38;5;241m=\u001B[39m\u001B[38;5;124m'\u001B[39m\u001B[38;5;124mlbfgs\u001B[39m\u001B[38;5;124m'\u001B[39m, max_iter\u001B[38;5;241m=\u001B[39m\u001B[38;5;241m200\u001B[39m)\n\u001B[1;32m----> 5\u001B[0m clf_orig\u001B[38;5;241m.\u001B[39mfit(\u001B[43mX_train_scaled\u001B[49m, y_train)\n\u001B[0;32m      7\u001B[0m y_pred_test_orig \u001B[38;5;241m=\u001B[39m clf_orig\u001B[38;5;241m.\u001B[39mpredict(X_test_scaled)\n\u001B[0;32m      9\u001B[0m \u001B[38;5;66;03m# Evaluate performance\u001B[39;00m\n",
      "\u001B[1;31mNameError\u001B[0m: name 'X_train_scaled' is not defined"
     ]
    }
   ],
   "execution_count": 26
  },
  {
   "cell_type": "code",
   "metadata": {
    "ExecuteTime": {
     "end_time": "2024-12-06T14:29:46.254382Z",
     "start_time": "2024-12-06T14:29:46.233910Z"
    }
   },
   "source": [
    "# ===========================\n",
    "# Model With Fairness Mitigation (Reweighted)\n",
    "# ===========================\n",
    "clf_transf = LogisticRegression(solver='lbfgs', max_iter=200)\n",
    "# Important: use the instance weights when training on the reweighted dataset\n",
    "clf_transf.fit(X_train_transf_scaled, y_train_transf, sample_weight=w_train_transf)\n",
    "\n",
    "y_pred_test_transf = clf_transf.predict(X_test_transf_scaled)\n",
    "\n",
    "print(\"\\n===== Fairness Mitigated Classifier (Reweighted) =====\")\n",
    "print(\"Accuracy on test set:\", accuracy_score(y_test, y_pred_test_transf))\n",
    "print(classification_report(y_test, y_pred_test_transf))\n",
    "\n",
    "# Compute fairness metrics on test set for the fairness mitigated classifier\n",
    "test_bld_transf = dataset_orig_test.copy(deepcopy=True)\n",
    "test_bld_transf.labels = y_pred_test_transf.reshape(-1,1)\n",
    "\n",
    "metric_test_transf = ClassificationMetric(dataset_orig_test,\n",
    "                                          test_bld_transf,\n",
    "                                          unprivileged_groups=unprivileged_groups,\n",
    "                                          privileged_groups=privileged_groups)\n",
    "print(\"Statistical parity difference (reweighted):\", metric_test_transf.statistical_parity_difference())\n",
    "print(\"Equal opportunity difference (reweighted):\", metric_test_transf.equal_opportunity_difference())"
   ],
   "outputs": [
    {
     "ename": "NameError",
     "evalue": "name 'X_train_transf_scaled' is not defined",
     "output_type": "error",
     "traceback": [
      "\u001B[1;31m---------------------------------------------------------------------------\u001B[0m",
      "\u001B[1;31mNameError\u001B[0m                                 Traceback (most recent call last)",
      "Cell \u001B[1;32mIn[27], line 6\u001B[0m\n\u001B[0;32m      4\u001B[0m clf_transf \u001B[38;5;241m=\u001B[39m LogisticRegression(solver\u001B[38;5;241m=\u001B[39m\u001B[38;5;124m'\u001B[39m\u001B[38;5;124mlbfgs\u001B[39m\u001B[38;5;124m'\u001B[39m, max_iter\u001B[38;5;241m=\u001B[39m\u001B[38;5;241m200\u001B[39m)\n\u001B[0;32m      5\u001B[0m \u001B[38;5;66;03m# Important: use the instance weights when training on the reweighted dataset\u001B[39;00m\n\u001B[1;32m----> 6\u001B[0m clf_transf\u001B[38;5;241m.\u001B[39mfit(\u001B[43mX_train_transf_scaled\u001B[49m, y_train_transf, sample_weight\u001B[38;5;241m=\u001B[39mw_train_transf)\n\u001B[0;32m      8\u001B[0m y_pred_test_transf \u001B[38;5;241m=\u001B[39m clf_transf\u001B[38;5;241m.\u001B[39mpredict(X_test_transf_scaled)\n\u001B[0;32m     10\u001B[0m \u001B[38;5;28mprint\u001B[39m(\u001B[38;5;124m\"\u001B[39m\u001B[38;5;130;01m\\n\u001B[39;00m\u001B[38;5;124m===== Fairness Mitigated Classifier (Reweighted) =====\u001B[39m\u001B[38;5;124m\"\u001B[39m)\n",
      "\u001B[1;31mNameError\u001B[0m: name 'X_train_transf_scaled' is not defined"
     ]
    }
   ],
   "execution_count": 27
  },
  {
   "cell_type": "code",
   "metadata": {
    "ExecuteTime": {
     "end_time": "2024-12-06T14:29:46.296526Z",
     "start_time": "2024-12-06T14:29:46.276981Z"
    }
   },
   "source": [
    "\n",
    "\n",
    "\n",
    "\n",
    "\n",
    "\n",
    "\n",
    "# ===========================\n",
    "# Comparison & Conclusions\n",
    "# ===========================\n",
    "print(\"\\nComparison of Results:\")\n",
    "print(\"Original vs Reweighted:\")\n",
    "print(\" - Test Accuracy: {:.4f} vs {:.4f}\".format(accuracy_score(y_test, y_pred_test_orig), accuracy_score(y_test, y_pred_test_transf)))\n",
    "print(\" - Statistical Parity Difference: {:.4f} vs {:.4f}\".format(metric_test_orig.statistical_parity_difference(),\n",
    "                                                                  metric_test_transf.statistical_parity_difference()))\n",
    "print(\" - Equal Opportunity Difference: {:.4f} vs {:.4f}\".format(metric_test_orig.equal_opportunity_difference(),\n",
    "                                                                 metric_test_transf.equal_opportunity_difference()))\n",
    "\n"
   ],
   "outputs": [
    {
     "name": "stdout",
     "output_type": "stream",
     "text": [
      "\n",
      "Comparison of Results:\n",
      "Original vs Reweighted:\n"
     ]
    },
    {
     "ename": "NameError",
     "evalue": "name 'y_test' is not defined",
     "output_type": "error",
     "traceback": [
      "\u001B[1;31m---------------------------------------------------------------------------\u001B[0m",
      "\u001B[1;31mNameError\u001B[0m                                 Traceback (most recent call last)",
      "Cell \u001B[1;32mIn[28], line 6\u001B[0m\n\u001B[0;32m      4\u001B[0m \u001B[38;5;28mprint\u001B[39m(\u001B[38;5;124m\"\u001B[39m\u001B[38;5;130;01m\\n\u001B[39;00m\u001B[38;5;124mComparison of Results:\u001B[39m\u001B[38;5;124m\"\u001B[39m)\n\u001B[0;32m      5\u001B[0m \u001B[38;5;28mprint\u001B[39m(\u001B[38;5;124m\"\u001B[39m\u001B[38;5;124mOriginal vs Reweighted:\u001B[39m\u001B[38;5;124m\"\u001B[39m)\n\u001B[1;32m----> 6\u001B[0m \u001B[38;5;28mprint\u001B[39m(\u001B[38;5;124m\"\u001B[39m\u001B[38;5;124m - Test Accuracy: \u001B[39m\u001B[38;5;132;01m{:.4f}\u001B[39;00m\u001B[38;5;124m vs \u001B[39m\u001B[38;5;132;01m{:.4f}\u001B[39;00m\u001B[38;5;124m\"\u001B[39m\u001B[38;5;241m.\u001B[39mformat(accuracy_score(\u001B[43my_test\u001B[49m, y_pred_test_orig), accuracy_score(y_test, y_pred_test_transf)))\n\u001B[0;32m      7\u001B[0m \u001B[38;5;28mprint\u001B[39m(\u001B[38;5;124m\"\u001B[39m\u001B[38;5;124m - Statistical Parity Difference: \u001B[39m\u001B[38;5;132;01m{:.4f}\u001B[39;00m\u001B[38;5;124m vs \u001B[39m\u001B[38;5;132;01m{:.4f}\u001B[39;00m\u001B[38;5;124m\"\u001B[39m\u001B[38;5;241m.\u001B[39mformat(metric_test_orig\u001B[38;5;241m.\u001B[39mstatistical_parity_difference(),\n\u001B[0;32m      8\u001B[0m                                                                   metric_test_transf\u001B[38;5;241m.\u001B[39mstatistical_parity_difference()))\n\u001B[0;32m      9\u001B[0m \u001B[38;5;28mprint\u001B[39m(\u001B[38;5;124m\"\u001B[39m\u001B[38;5;124m - Equal Opportunity Difference: \u001B[39m\u001B[38;5;132;01m{:.4f}\u001B[39;00m\u001B[38;5;124m vs \u001B[39m\u001B[38;5;132;01m{:.4f}\u001B[39;00m\u001B[38;5;124m\"\u001B[39m\u001B[38;5;241m.\u001B[39mformat(metric_test_orig\u001B[38;5;241m.\u001B[39mequal_opportunity_difference(),\n\u001B[0;32m     10\u001B[0m                                                                  metric_test_transf\u001B[38;5;241m.\u001B[39mequal_opportunity_difference()))\n",
      "\u001B[1;31mNameError\u001B[0m: name 'y_test' is not defined"
     ]
    }
   ],
   "execution_count": 28
  },
  {
   "cell_type": "code",
   "metadata": {
    "ExecuteTime": {
     "end_time": "2024-12-06T14:29:46.363626Z",
     "start_time": "2024-12-06T14:29:46.361106Z"
    }
   },
   "source": [],
   "outputs": [],
   "execution_count": 28
  },
  {
   "cell_type": "code",
   "metadata": {
    "ExecuteTime": {
     "end_time": "2024-12-06T14:29:46.444092Z",
     "start_time": "2024-12-06T14:29:46.441699Z"
    }
   },
   "source": [],
   "outputs": [],
   "execution_count": 28
  },
  {
   "cell_type": "code",
   "metadata": {
    "ExecuteTime": {
     "end_time": "2024-12-06T14:29:46.507418Z",
     "start_time": "2024-12-06T14:29:46.504604Z"
    }
   },
   "source": [],
   "outputs": [],
   "execution_count": 28
  },
  {
   "cell_type": "code",
   "metadata": {
    "ExecuteTime": {
     "end_time": "2024-12-06T14:29:46.577783Z",
     "start_time": "2024-12-06T14:29:46.575500Z"
    }
   },
   "source": [],
   "outputs": [],
   "execution_count": 28
  },
  {
   "cell_type": "code",
   "metadata": {
    "ExecuteTime": {
     "end_time": "2024-12-06T14:29:46.618129Z",
     "start_time": "2024-12-06T14:29:46.614564Z"
    }
   },
   "source": [],
   "outputs": [],
   "execution_count": 28
  },
  {
   "cell_type": "code",
   "metadata": {
    "ExecuteTime": {
     "end_time": "2024-12-06T14:29:46.638842Z",
     "start_time": "2024-12-06T14:29:46.634833Z"
    }
   },
   "source": [],
   "outputs": [],
   "execution_count": 28
  },
  {
   "cell_type": "code",
   "metadata": {
    "ExecuteTime": {
     "end_time": "2024-12-06T14:29:46.683610Z",
     "start_time": "2024-12-06T14:29:46.679909Z"
    }
   },
   "source": [],
   "outputs": [],
   "execution_count": 28
  },
  {
   "cell_type": "code",
   "metadata": {
    "ExecuteTime": {
     "end_time": "2024-12-06T14:29:46.719152Z",
     "start_time": "2024-12-06T14:29:46.715519Z"
    }
   },
   "source": [],
   "outputs": [],
   "execution_count": 28
  },
  {
   "cell_type": "code",
   "metadata": {
    "ExecuteTime": {
     "end_time": "2024-12-06T14:29:46.742196Z",
     "start_time": "2024-12-06T14:29:46.739502Z"
    }
   },
   "source": [],
   "outputs": [],
   "execution_count": 28
  },
  {
   "cell_type": "code",
   "metadata": {
    "ExecuteTime": {
     "end_time": "2024-12-06T14:29:46.782673Z",
     "start_time": "2024-12-06T14:29:46.780001Z"
    }
   },
   "source": [],
   "outputs": [],
   "execution_count": 28
  },
  {
   "cell_type": "code",
   "metadata": {
    "ExecuteTime": {
     "end_time": "2024-12-06T14:29:46.809427Z",
     "start_time": "2024-12-06T14:29:46.806463Z"
    }
   },
   "source": [],
   "outputs": [],
   "execution_count": 28
  },
  {
   "cell_type": "code",
   "metadata": {
    "ExecuteTime": {
     "end_time": "2024-12-06T14:29:46.867862Z",
     "start_time": "2024-12-06T14:29:46.864388Z"
    }
   },
   "source": [],
   "outputs": [],
   "execution_count": 28
  },
  {
   "cell_type": "code",
   "metadata": {
    "ExecuteTime": {
     "end_time": "2024-12-06T14:29:46.891948Z",
     "start_time": "2024-12-06T14:29:46.889521Z"
    }
   },
   "source": [],
   "outputs": [],
   "execution_count": 28
  },
  {
   "cell_type": "code",
   "metadata": {
    "ExecuteTime": {
     "end_time": "2024-12-06T14:29:46.934589Z",
     "start_time": "2024-12-06T14:29:46.931571Z"
    }
   },
   "source": [],
   "outputs": [],
   "execution_count": 28
  }
 ],
 "metadata": {
  "kernelspec": {
   "display_name": "omnixai",
   "language": "python",
   "name": "python3"
  },
  "language_info": {
   "codemirror_mode": {
    "name": "ipython",
    "version": 3
   },
   "file_extension": ".py",
   "mimetype": "text/x-python",
   "name": "python",
   "nbconvert_exporter": "python",
   "pygments_lexer": "ipython3",
   "version": "3.11.10"
  }
 },
 "nbformat": 4,
 "nbformat_minor": 2
}

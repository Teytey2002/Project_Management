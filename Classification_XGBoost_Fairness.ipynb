{
 "cells": [
  {
   "cell_type": "markdown",
   "id": "23ae833b",
   "metadata": {},
   "source": [
    "# Classification des Revenus avec XGBoost sur le Jeu de Données Adult\n",
    "Ce notebook présente un projet de science des données responsable visant à prédire si une personne gagne plus de 50 000 $ (`>50K`) par an en utilisant le jeu de données **Adult**. Nous utiliserons **XGBoost**, un algorithme d'apprentissage supervisé basé sur les arbres de décision, pour effectuer cette classification."
   ]
  },
  {
   "cell_type": "code",
   "execution_count": 8,
   "id": "b5d180fd",
   "metadata": {},
   "outputs": [
    {
     "name": "stdout",
     "output_type": "stream",
     "text": [
      "Defaulting to user installation because normal site-packages is not writeable\n",
      "Requirement already satisfied: pandas in /home/plouis/.local/lib/python3.10/site-packages (2.0.3)\n",
      "Requirement already satisfied: numpy in /home/plouis/.local/lib/python3.10/site-packages (1.23.5)\n",
      "Requirement already satisfied: scikit-learn in /home/plouis/.local/lib/python3.10/site-packages (1.4.1.post1)\n",
      "Requirement already satisfied: xgboost in /home/plouis/.local/lib/python3.10/site-packages (2.1.3)\n",
      "Requirement already satisfied: shap in /home/plouis/.local/lib/python3.10/site-packages (0.46.0)\n",
      "Requirement already satisfied: matplotlib in /home/plouis/.local/lib/python3.10/site-packages (3.8.3)\n",
      "Requirement already satisfied: seaborn in /home/plouis/.local/lib/python3.10/site-packages (0.13.2)\n",
      "Requirement already satisfied: pytz>=2020.1 in /home/plouis/.local/lib/python3.10/site-packages (from pandas) (2024.2)\n",
      "Requirement already satisfied: python-dateutil>=2.8.2 in /home/plouis/.local/lib/python3.10/site-packages (from pandas) (2.9.0.post0)\n",
      "Requirement already satisfied: tzdata>=2022.1 in /home/plouis/.local/lib/python3.10/site-packages (from pandas) (2024.2)\n",
      "Requirement already satisfied: joblib>=1.2.0 in /home/plouis/.local/lib/python3.10/site-packages (from scikit-learn) (1.3.2)\n",
      "Requirement already satisfied: scipy>=1.6.0 in /home/plouis/.local/lib/python3.10/site-packages (from scikit-learn) (1.10.1)\n",
      "Requirement already satisfied: threadpoolctl>=2.0.0 in /home/plouis/.local/lib/python3.10/site-packages (from scikit-learn) (3.3.0)\n",
      "Requirement already satisfied: nvidia-nccl-cu12 in /home/plouis/.local/lib/python3.10/site-packages (from xgboost) (2.19.3)\n",
      "Requirement already satisfied: tqdm>=4.27.0 in /home/plouis/.local/lib/python3.10/site-packages (from shap) (4.66.2)\n",
      "Requirement already satisfied: slicer==0.0.8 in /home/plouis/.local/lib/python3.10/site-packages (from shap) (0.0.8)\n",
      "Requirement already satisfied: cloudpickle in /home/plouis/.local/lib/python3.10/site-packages (from shap) (1.2.2)\n",
      "Requirement already satisfied: numba in /home/plouis/.local/lib/python3.10/site-packages (from shap) (0.56.4)\n",
      "Requirement already satisfied: packaging>20.9 in /home/plouis/.local/lib/python3.10/site-packages (from shap) (24.1)\n",
      "Requirement already satisfied: contourpy>=1.0.1 in /home/plouis/.local/lib/python3.10/site-packages (from matplotlib) (1.2.0)\n",
      "Requirement already satisfied: fonttools>=4.22.0 in /home/plouis/.local/lib/python3.10/site-packages (from matplotlib) (4.49.0)\n",
      "Requirement already satisfied: pillow>=8 in /home/plouis/.local/lib/python3.10/site-packages (from matplotlib) (10.1.0)\n",
      "Requirement already satisfied: cycler>=0.10 in /home/plouis/.local/lib/python3.10/site-packages (from matplotlib) (0.12.1)\n",
      "Requirement already satisfied: pyparsing>=2.3.1 in /usr/lib/python3/dist-packages (from matplotlib) (2.4.7)\n",
      "Requirement already satisfied: kiwisolver>=1.3.1 in /home/plouis/.local/lib/python3.10/site-packages (from matplotlib) (1.4.5)\n",
      "Requirement already satisfied: six>=1.5 in /usr/lib/python3/dist-packages (from python-dateutil>=2.8.2->pandas) (1.16.0)\n",
      "Requirement already satisfied: llvmlite<0.40,>=0.39.0dev0 in /home/plouis/.local/lib/python3.10/site-packages (from numba->shap) (0.39.0)\n",
      "Requirement already satisfied: setuptools in /home/plouis/.local/lib/python3.10/site-packages (from numba->shap) (66.1.1)\n"
     ]
    }
   ],
   "source": [
    "\n",
    "!pip install pandas numpy scikit-learn xgboost shap matplotlib seaborn"
   ]
  },
  {
   "cell_type": "code",
   "execution_count": 9,
   "id": "12b98327",
   "metadata": {},
   "outputs": [],
   "source": [
    "import pandas as pd\n",
    "import numpy as np\n",
    "import matplotlib.pyplot as plt\n",
    "import seaborn as sns\n",
    "import xgboost\n",
    "from sklearn.metrics import confusion_matrix\n",
    "\n",
    "from sklearn.model_selection import train_test_split, GridSearchCV\n",
    "from sklearn.preprocessing import LabelEncoder, OneHotEncoder, StandardScaler\n",
    "from sklearn.compose import ColumnTransformer\n",
    "from sklearn.pipeline import Pipeline\n",
    "from sklearn.impute import SimpleImputer\n",
    "from sklearn.metrics import classification_report, accuracy_score, precision_score, recall_score, f1_score\n",
    "\n",
    "from xgboost import XGBClassifier\n",
    "import shap\n",
    "\n",
    "%matplotlib inline"
   ]
  },
  {
   "cell_type": "code",
   "execution_count": 10,
   "id": "f2246e8c",
   "metadata": {},
   "outputs": [
    {
     "name": "stdout",
     "output_type": "stream",
     "text": [
      "                                              age         workclass  \\\n",
      "Name                DOB        SSN            Zip         Workclass   \n",
      "Karrie Trusslove    9/7/1967   732-14-6110  64152         State-gov   \n",
      "Brandise Tripony    6/7/1988   150-19-2766  61523  Self-emp-not-inc   \n",
      "Brenn McNeely       8/6/1991   725-59-9860  95668           Private   \n",
      "Dorry Poter         4/6/2009   659-57-4974  25503           Private   \n",
      "Dick Honnan         9/16/1951  220-93-3811  75387           Private   \n",
      "Allene Raff         8/2/2001   535-53-2336   9820           Private   \n",
      "Clevie Schimoni     10/17/1989 787-78-1258  87125           Private   \n",
      "Erhard Nesbeth      7/25/1971  208-67-0874  60887  Self-emp-not-inc   \n",
      "Hedvige Fairpo      8/10/2001  691-69-7317  81548           Private   \n",
      "Kally Ayers         7/31/1998  632-53-4141  51592           Private   \n",
      "Binni Mc Mechan     6/23/2009  119-26-4980  90245           Private   \n",
      "Hedda Allworthy     6/14/1995  232-09-2296  89259         State-gov   \n",
      "Massimiliano Plett  3/11/1957  870-03-4270  79482           Private   \n",
      "Gwenny Micallef     3/11/1987  531-39-1676  29389           Private   \n",
      "Rollie Gabbatt      5/19/1985  121-55-7484  42065           Private   \n",
      "Devondra Delort     9/27/1968  383-99-3693  76988           Private   \n",
      "Rozella Coulthard   1/16/2010  703-66-0223  32345  Self-emp-not-inc   \n",
      "Tannie Bohlmann     1/25/1979  138-57-2883  71929           Private   \n",
      "Tyne Landeaux       11/24/1958 884-59-8967   3098           Private   \n",
      "Anthe Devine        9/25/1979  875-07-4084  72862  Self-emp-not-inc   \n",
      "Rozalie Rowbottom   8/2/1970   570-73-0139  53155           Private   \n",
      "Mahala Dimberline   9/28/1964  189-87-7998   3691           Private   \n",
      "Averell Maymand     8/10/2012  668-43-2767  92617       Federal-gov   \n",
      "Mignonne Spurrior   7/18/1960  557-99-3930  55466           Private   \n",
      "Marla Dungey        11/3/1960  216-09-1548  32737           Private   \n",
      "Felix Falla         2/22/1960  242-47-2508  58986         Local-gov   \n",
      "Kym Jennery         1/24/1989  868-85-7038  91102           Private   \n",
      "Letty Marcussen     6/18/1952  338-12-9081   8598               NaN   \n",
      "Timothea Disman     6/23/1987  288-49-7728  91341           Private   \n",
      "Walliw Adcock       6/15/1951  297-29-2796  54807           Private   \n",
      "Raul Squire         7/15/1964  813-56-5466  93239         Local-gov   \n",
      "Alayne Pedlingham   2/17/1953  288-31-8670  65932           Private   \n",
      "Darby Tome          1/9/2009   890-14-4832   9717           Private   \n",
      "Laurena Abrahamsohn 8/11/2006  662-32-0909  20061       Federal-gov   \n",
      "Pierson Leyrroyd    4/8/1987   132-55-8586  20149         State-gov   \n",
      "Maye Sauter         7/27/1970  258-66-6115  28032           Private   \n",
      "Fay Simone          11/2/1993  715-75-9668  41136           Private   \n",
      "Florence Tiesman    12/23/1985 862-26-5489  93276           Private   \n",
      "Gwenneth Spriggen   12/6/1951  171-82-0984  58492           Private   \n",
      "\n",
      "                                                  fnlwgt      education  \\\n",
      "Name                DOB        SSN             Education  Education-Num   \n",
      "Karrie Trusslove    9/7/1967   732-14-6110     Bachelors             13   \n",
      "Brandise Tripony    6/7/1988   150-19-2766     Bachelors             13   \n",
      "Brenn McNeely       8/6/1991   725-59-9860       HS-grad              9   \n",
      "Dorry Poter         4/6/2009   659-57-4974          11th              7   \n",
      "Dick Honnan         9/16/1951  220-93-3811     Bachelors             13   \n",
      "Allene Raff         8/2/2001   535-53-2336       Masters             14   \n",
      "Clevie Schimoni     10/17/1989 787-78-1258           9th              5   \n",
      "Erhard Nesbeth      7/25/1971  208-67-0874       HS-grad              9   \n",
      "Hedvige Fairpo      8/10/2001  691-69-7317       Masters             14   \n",
      "Kally Ayers         7/31/1998  632-53-4141     Bachelors             13   \n",
      "Binni Mc Mechan     6/23/2009  119-26-4980  Some-college             10   \n",
      "Hedda Allworthy     6/14/1995  232-09-2296     Bachelors             13   \n",
      "Massimiliano Plett  3/11/1957  870-03-4270     Bachelors             13   \n",
      "Gwenny Micallef     3/11/1987  531-39-1676    Assoc-acdm             12   \n",
      "Rollie Gabbatt      5/19/1985  121-55-7484     Assoc-voc             11   \n",
      "Devondra Delort     9/27/1968  383-99-3693       7th-8th              4   \n",
      "Rozella Coulthard   1/16/2010  703-66-0223       HS-grad              9   \n",
      "Tannie Bohlmann     1/25/1979  138-57-2883       HS-grad              9   \n",
      "Tyne Landeaux       11/24/1958 884-59-8967          11th              7   \n",
      "Anthe Devine        9/25/1979  875-07-4084       Masters             14   \n",
      "Rozalie Rowbottom   8/2/1970   570-73-0139     Doctorate             16   \n",
      "Mahala Dimberline   9/28/1964  189-87-7998       HS-grad              9   \n",
      "Averell Maymand     8/10/2012  668-43-2767           9th              5   \n",
      "Mignonne Spurrior   7/18/1960  557-99-3930          11th              7   \n",
      "Marla Dungey        11/3/1960  216-09-1548       HS-grad              9   \n",
      "Felix Falla         2/22/1960  242-47-2508     Bachelors             13   \n",
      "Kym Jennery         1/24/1989  868-85-7038       HS-grad              9   \n",
      "Letty Marcussen     6/18/1952  338-12-9081  Some-college             10   \n",
      "Timothea Disman     6/23/1987  288-49-7728       HS-grad              9   \n",
      "Walliw Adcock       6/15/1951  297-29-2796       HS-grad              9   \n",
      "Raul Squire         7/15/1964  813-56-5466    Assoc-acdm             12   \n",
      "Alayne Pedlingham   2/17/1953  288-31-8670  Some-college             10   \n",
      "Darby Tome          1/9/2009   890-14-4832     Bachelors             13   \n",
      "Laurena Abrahamsohn 8/11/2006  662-32-0909  Some-college             10   \n",
      "Pierson Leyrroyd    4/8/1987   132-55-8586  Some-college             10   \n",
      "Maye Sauter         7/27/1970  258-66-6115          11th              7   \n",
      "Fay Simone          11/2/1993  715-75-9668  Some-college             10   \n",
      "Florence Tiesman    12/23/1985 862-26-5489       HS-grad              9   \n",
      "Gwenneth Spriggen   12/6/1951  171-82-0984  Some-college             10   \n",
      "\n",
      "                                                    education_num  \\\n",
      "Name                DOB        SSN                 Marital Status   \n",
      "Karrie Trusslove    9/7/1967   732-14-6110          Never-married   \n",
      "Brandise Tripony    6/7/1988   150-19-2766     Married-civ-spouse   \n",
      "Brenn McNeely       8/6/1991   725-59-9860               Divorced   \n",
      "Dorry Poter         4/6/2009   659-57-4974     Married-civ-spouse   \n",
      "Dick Honnan         9/16/1951  220-93-3811     Married-civ-spouse   \n",
      "Allene Raff         8/2/2001   535-53-2336     Married-civ-spouse   \n",
      "Clevie Schimoni     10/17/1989 787-78-1258  Married-spouse-absent   \n",
      "Erhard Nesbeth      7/25/1971  208-67-0874     Married-civ-spouse   \n",
      "Hedvige Fairpo      8/10/2001  691-69-7317          Never-married   \n",
      "Kally Ayers         7/31/1998  632-53-4141     Married-civ-spouse   \n",
      "Binni Mc Mechan     6/23/2009  119-26-4980     Married-civ-spouse   \n",
      "Hedda Allworthy     6/14/1995  232-09-2296     Married-civ-spouse   \n",
      "Massimiliano Plett  3/11/1957  870-03-4270          Never-married   \n",
      "Gwenny Micallef     3/11/1987  531-39-1676          Never-married   \n",
      "Rollie Gabbatt      5/19/1985  121-55-7484     Married-civ-spouse   \n",
      "Devondra Delort     9/27/1968  383-99-3693     Married-civ-spouse   \n",
      "Rozella Coulthard   1/16/2010  703-66-0223          Never-married   \n",
      "Tannie Bohlmann     1/25/1979  138-57-2883          Never-married   \n",
      "Tyne Landeaux       11/24/1958 884-59-8967     Married-civ-spouse   \n",
      "Anthe Devine        9/25/1979  875-07-4084               Divorced   \n",
      "Rozalie Rowbottom   8/2/1970   570-73-0139     Married-civ-spouse   \n",
      "Mahala Dimberline   9/28/1964  189-87-7998              Separated   \n",
      "Averell Maymand     8/10/2012  668-43-2767     Married-civ-spouse   \n",
      "Mignonne Spurrior   7/18/1960  557-99-3930     Married-civ-spouse   \n",
      "Marla Dungey        11/3/1960  216-09-1548               Divorced   \n",
      "Felix Falla         2/22/1960  242-47-2508     Married-civ-spouse   \n",
      "Kym Jennery         1/24/1989  868-85-7038          Never-married   \n",
      "Letty Marcussen     6/18/1952  338-12-9081     Married-civ-spouse   \n",
      "Timothea Disman     6/23/1987  288-49-7728               Divorced   \n",
      "Walliw Adcock       6/15/1951  297-29-2796     Married-civ-spouse   \n",
      "Raul Squire         7/15/1964  813-56-5466          Never-married   \n",
      "Alayne Pedlingham   2/17/1953  288-31-8670          Never-married   \n",
      "Darby Tome          1/9/2009   890-14-4832               Divorced   \n",
      "Laurena Abrahamsohn 8/11/2006  662-32-0909     Married-civ-spouse   \n",
      "Pierson Leyrroyd    4/8/1987   132-55-8586     Married-civ-spouse   \n",
      "Maye Sauter         7/27/1970  258-66-6115          Never-married   \n",
      "Fay Simone          11/2/1993  715-75-9668          Never-married   \n",
      "Florence Tiesman    12/23/1985 862-26-5489      Married-AF-spouse   \n",
      "Gwenneth Spriggen   12/6/1951  171-82-0984     Married-civ-spouse   \n",
      "\n",
      "                                               marital_status     occupation  \\\n",
      "Name                DOB        SSN                 Occupation   Relationship   \n",
      "Karrie Trusslove    9/7/1967   732-14-6110       Adm-clerical  Not-in-family   \n",
      "Brandise Tripony    6/7/1988   150-19-2766    Exec-managerial        Husband   \n",
      "Brenn McNeely       8/6/1991   725-59-9860  Handlers-cleaners  Not-in-family   \n",
      "Dorry Poter         4/6/2009   659-57-4974  Handlers-cleaners        Husband   \n",
      "Dick Honnan         9/16/1951  220-93-3811     Prof-specialty           Wife   \n",
      "Allene Raff         8/2/2001   535-53-2336    Exec-managerial           Wife   \n",
      "Clevie Schimoni     10/17/1989 787-78-1258      Other-service  Not-in-family   \n",
      "Erhard Nesbeth      7/25/1971  208-67-0874    Exec-managerial        Husband   \n",
      "Hedvige Fairpo      8/10/2001  691-69-7317     Prof-specialty  Not-in-family   \n",
      "Kally Ayers         7/31/1998  632-53-4141    Exec-managerial        Husband   \n",
      "Binni Mc Mechan     6/23/2009  119-26-4980    Exec-managerial        Husband   \n",
      "Hedda Allworthy     6/14/1995  232-09-2296     Prof-specialty        Husband   \n",
      "Massimiliano Plett  3/11/1957  870-03-4270       Adm-clerical      Own-child   \n",
      "Gwenny Micallef     3/11/1987  531-39-1676              Sales  Not-in-family   \n",
      "Rollie Gabbatt      5/19/1985  121-55-7484       Craft-repair        Husband   \n",
      "Devondra Delort     9/27/1968  383-99-3693   Transport-moving        Husband   \n",
      "Rozella Coulthard   1/16/2010  703-66-0223    Farming-fishing      Own-child   \n",
      "Tannie Bohlmann     1/25/1979  138-57-2883  Machine-op-inspct      Unmarried   \n",
      "Tyne Landeaux       11/24/1958 884-59-8967              Sales        Husband   \n",
      "Anthe Devine        9/25/1979  875-07-4084    Exec-managerial      Unmarried   \n",
      "Rozalie Rowbottom   8/2/1970   570-73-0139     Prof-specialty        Husband   \n",
      "Mahala Dimberline   9/28/1964  189-87-7998      Other-service      Unmarried   \n",
      "Averell Maymand     8/10/2012  668-43-2767    Farming-fishing        Husband   \n",
      "Mignonne Spurrior   7/18/1960  557-99-3930   Transport-moving        Husband   \n",
      "Marla Dungey        11/3/1960  216-09-1548       Tech-support      Unmarried   \n",
      "Felix Falla         2/22/1960  242-47-2508       Tech-support        Husband   \n",
      "Kym Jennery         1/24/1989  868-85-7038       Craft-repair      Own-child   \n",
      "Letty Marcussen     6/18/1952  338-12-9081                NaN        Husband   \n",
      "Timothea Disman     6/23/1987  288-49-7728    Exec-managerial  Not-in-family   \n",
      "Walliw Adcock       6/15/1951  297-29-2796       Craft-repair        Husband   \n",
      "Raul Squire         7/15/1964  813-56-5466    Protective-serv  Not-in-family   \n",
      "Alayne Pedlingham   2/17/1953  288-31-8670              Sales      Own-child   \n",
      "Darby Tome          1/9/2009   890-14-4832    Exec-managerial      Own-child   \n",
      "Laurena Abrahamsohn 8/11/2006  662-32-0909       Adm-clerical      Own-child   \n",
      "Pierson Leyrroyd    4/8/1987   132-55-8586      Other-service        Husband   \n",
      "Maye Sauter         7/27/1970  258-66-6115  Machine-op-inspct      Unmarried   \n",
      "Fay Simone          11/2/1993  715-75-9668  Machine-op-inspct      Own-child   \n",
      "Florence Tiesman    12/23/1985 862-26-5489       Adm-clerical           Wife   \n",
      "Gwenneth Spriggen   12/6/1951  171-82-0984              Sales        Husband   \n",
      "\n",
      "                                                  relationship    race  \\\n",
      "Name                DOB        SSN                        Race     Sex   \n",
      "Karrie Trusslove    9/7/1967   732-14-6110               White    Male   \n",
      "Brandise Tripony    6/7/1988   150-19-2766               White    Male   \n",
      "Brenn McNeely       8/6/1991   725-59-9860               White    Male   \n",
      "Dorry Poter         4/6/2009   659-57-4974               Black    Male   \n",
      "Dick Honnan         9/16/1951  220-93-3811               Black  Female   \n",
      "Allene Raff         8/2/2001   535-53-2336               White  Female   \n",
      "Clevie Schimoni     10/17/1989 787-78-1258               Black  Female   \n",
      "Erhard Nesbeth      7/25/1971  208-67-0874               White    Male   \n",
      "Hedvige Fairpo      8/10/2001  691-69-7317               White  Female   \n",
      "Kally Ayers         7/31/1998  632-53-4141               White    Male   \n",
      "Binni Mc Mechan     6/23/2009  119-26-4980               Black    Male   \n",
      "Hedda Allworthy     6/14/1995  232-09-2296  Asian-Pac-Islander    Male   \n",
      "Massimiliano Plett  3/11/1957  870-03-4270               White  Female   \n",
      "Gwenny Micallef     3/11/1987  531-39-1676               Black    Male   \n",
      "Rollie Gabbatt      5/19/1985  121-55-7484  Asian-Pac-Islander    Male   \n",
      "Devondra Delort     9/27/1968  383-99-3693  Amer-Indian-Eskimo    Male   \n",
      "Rozella Coulthard   1/16/2010  703-66-0223               White    Male   \n",
      "Tannie Bohlmann     1/25/1979  138-57-2883               White    Male   \n",
      "Tyne Landeaux       11/24/1958 884-59-8967               White    Male   \n",
      "Anthe Devine        9/25/1979  875-07-4084               White  Female   \n",
      "Rozalie Rowbottom   8/2/1970   570-73-0139               White    Male   \n",
      "Mahala Dimberline   9/28/1964  189-87-7998               Black  Female   \n",
      "Averell Maymand     8/10/2012  668-43-2767               Black    Male   \n",
      "Mignonne Spurrior   7/18/1960  557-99-3930               White    Male   \n",
      "Marla Dungey        11/3/1960  216-09-1548               White  Female   \n",
      "Felix Falla         2/22/1960  242-47-2508               White    Male   \n",
      "Kym Jennery         1/24/1989  868-85-7038               White    Male   \n",
      "Letty Marcussen     6/18/1952  338-12-9081  Asian-Pac-Islander    Male   \n",
      "Timothea Disman     6/23/1987  288-49-7728               White    Male   \n",
      "Walliw Adcock       6/15/1951  297-29-2796               White    Male   \n",
      "Raul Squire         7/15/1964  813-56-5466               White    Male   \n",
      "Alayne Pedlingham   2/17/1953  288-31-8670               Black    Male   \n",
      "Darby Tome          1/9/2009   890-14-4832               White    Male   \n",
      "Laurena Abrahamsohn 8/11/2006  662-32-0909               White    Male   \n",
      "Pierson Leyrroyd    4/8/1987   132-55-8586               Black    Male   \n",
      "Maye Sauter         7/27/1970  258-66-6115               White    Male   \n",
      "Fay Simone          11/2/1993  715-75-9668               White    Male   \n",
      "Florence Tiesman    12/23/1985 862-26-5489               White  Female   \n",
      "Gwenneth Spriggen   12/6/1951  171-82-0984               White    Male   \n",
      "\n",
      "                                                       sex   capital_gain  \\\n",
      "Name                DOB        SSN          Hours per week        Country   \n",
      "Karrie Trusslove    9/7/1967   732-14-6110              40  United-States   \n",
      "Brandise Tripony    6/7/1988   150-19-2766              13  United-States   \n",
      "Brenn McNeely       8/6/1991   725-59-9860              40  United-States   \n",
      "Dorry Poter         4/6/2009   659-57-4974              40  United-States   \n",
      "Dick Honnan         9/16/1951  220-93-3811              40           Cuba   \n",
      "Allene Raff         8/2/2001   535-53-2336              40  United-States   \n",
      "Clevie Schimoni     10/17/1989 787-78-1258              16        Jamaica   \n",
      "Erhard Nesbeth      7/25/1971  208-67-0874              45  United-States   \n",
      "Hedvige Fairpo      8/10/2001  691-69-7317              50  United-States   \n",
      "Kally Ayers         7/31/1998  632-53-4141              40  United-States   \n",
      "Binni Mc Mechan     6/23/2009  119-26-4980              80  United-States   \n",
      "Hedda Allworthy     6/14/1995  232-09-2296              40          India   \n",
      "Massimiliano Plett  3/11/1957  870-03-4270              30  United-States   \n",
      "Gwenny Micallef     3/11/1987  531-39-1676              50  United-States   \n",
      "Rollie Gabbatt      5/19/1985  121-55-7484              40            NaN   \n",
      "Devondra Delort     9/27/1968  383-99-3693              45         Mexico   \n",
      "Rozella Coulthard   1/16/2010  703-66-0223              35  United-States   \n",
      "Tannie Bohlmann     1/25/1979  138-57-2883              40  United-States   \n",
      "Tyne Landeaux       11/24/1958 884-59-8967              50  United-States   \n",
      "Anthe Devine        9/25/1979  875-07-4084              45  United-States   \n",
      "Rozalie Rowbottom   8/2/1970   570-73-0139              60  United-States   \n",
      "Mahala Dimberline   9/28/1964  189-87-7998              20  United-States   \n",
      "Averell Maymand     8/10/2012  668-43-2767              40  United-States   \n",
      "Mignonne Spurrior   7/18/1960  557-99-3930              40  United-States   \n",
      "Marla Dungey        11/3/1960  216-09-1548              40  United-States   \n",
      "Felix Falla         2/22/1960  242-47-2508              40  United-States   \n",
      "Kym Jennery         1/24/1989  868-85-7038              40  United-States   \n",
      "Letty Marcussen     6/18/1952  338-12-9081              60          South   \n",
      "Timothea Disman     6/23/1987  288-49-7728              80  United-States   \n",
      "Walliw Adcock       6/15/1951  297-29-2796              40  United-States   \n",
      "Raul Squire         7/15/1964  813-56-5466              52  United-States   \n",
      "Alayne Pedlingham   2/17/1953  288-31-8670              44  United-States   \n",
      "Darby Tome          1/9/2009   890-14-4832              40  United-States   \n",
      "Laurena Abrahamsohn 8/11/2006  662-32-0909              40  United-States   \n",
      "Pierson Leyrroyd    4/8/1987   132-55-8586              15  United-States   \n",
      "Maye Sauter         7/27/1970  258-66-6115              40    Puerto-Rico   \n",
      "Fay Simone          11/2/1993  715-75-9668              40  United-States   \n",
      "Florence Tiesman    12/23/1985 862-26-5489              25  United-States   \n",
      "Gwenneth Spriggen   12/6/1951  171-82-0984              38            NaN   \n",
      "\n",
      "                                           capital_loss hours_per_week  \\\n",
      "Name                DOB        SSN               Target            Age   \n",
      "Karrie Trusslove    9/7/1967   732-14-6110        <=50K             56   \n",
      "Brandise Tripony    6/7/1988   150-19-2766        <=50K             35   \n",
      "Brenn McNeely       8/6/1991   725-59-9860        <=50K             32   \n",
      "Dorry Poter         4/6/2009   659-57-4974        <=50K             14   \n",
      "Dick Honnan         9/16/1951  220-93-3811        <=50K             72   \n",
      "Allene Raff         8/2/2001   535-53-2336        <=50K             22   \n",
      "Clevie Schimoni     10/17/1989 787-78-1258        <=50K             34   \n",
      "Erhard Nesbeth      7/25/1971  208-67-0874         >50K             52   \n",
      "Hedvige Fairpo      8/10/2001  691-69-7317         >50K             22   \n",
      "Kally Ayers         7/31/1998  632-53-4141         >50K             25   \n",
      "Binni Mc Mechan     6/23/2009  119-26-4980         >50K             14   \n",
      "Hedda Allworthy     6/14/1995  232-09-2296         >50K             28   \n",
      "Massimiliano Plett  3/11/1957  870-03-4270        <=50K             66   \n",
      "Gwenny Micallef     3/11/1987  531-39-1676        <=50K             36   \n",
      "Rollie Gabbatt      5/19/1985  121-55-7484         >50K             38   \n",
      "Devondra Delort     9/27/1968  383-99-3693        <=50K             55   \n",
      "Rozella Coulthard   1/16/2010  703-66-0223        <=50K             13   \n",
      "Tannie Bohlmann     1/25/1979  138-57-2883        <=50K             44   \n",
      "Tyne Landeaux       11/24/1958 884-59-8967        <=50K             65   \n",
      "Anthe Devine        9/25/1979  875-07-4084         >50K             44   \n",
      "Rozalie Rowbottom   8/2/1970   570-73-0139         >50K             53   \n",
      "Mahala Dimberline   9/28/1964  189-87-7998        <=50K             59   \n",
      "Averell Maymand     8/10/2012  668-43-2767        <=50K             11   \n",
      "Mignonne Spurrior   7/18/1960  557-99-3930        <=50K             63   \n",
      "Marla Dungey        11/3/1960  216-09-1548        <=50K             63   \n",
      "Felix Falla         2/22/1960  242-47-2508         >50K             63   \n",
      "Kym Jennery         1/24/1989  868-85-7038        <=50K             34   \n",
      "Letty Marcussen     6/18/1952  338-12-9081         >50K             71   \n",
      "Timothea Disman     6/23/1987  288-49-7728        <=50K             36   \n",
      "Walliw Adcock       6/15/1951  297-29-2796        <=50K             72   \n",
      "Raul Squire         7/15/1964  813-56-5466        <=50K             59   \n",
      "Alayne Pedlingham   2/17/1953  288-31-8670        <=50K             70   \n",
      "Darby Tome          1/9/2009   890-14-4832        <=50K             14   \n",
      "Laurena Abrahamsohn 8/11/2006  662-32-0909        <=50K             17   \n",
      "Pierson Leyrroyd    4/8/1987   132-55-8586        <=50K             36   \n",
      "Maye Sauter         7/27/1970  258-66-6115        <=50K             53   \n",
      "Fay Simone          11/2/1993  715-75-9668        <=50K             30   \n",
      "Florence Tiesman    12/23/1985 862-26-5489        <=50K             38   \n",
      "Gwenneth Spriggen   12/6/1951  171-82-0984         >50K             72   \n",
      "\n",
      "                                           native_country        income  \n",
      "Name                DOB        SSN           Capital Gain  Capital Loss  \n",
      "Karrie Trusslove    9/7/1967   732-14-6110           2174             0  \n",
      "Brandise Tripony    6/7/1988   150-19-2766              0             0  \n",
      "Brenn McNeely       8/6/1991   725-59-9860              0             0  \n",
      "Dorry Poter         4/6/2009   659-57-4974              0             0  \n",
      "Dick Honnan         9/16/1951  220-93-3811              0             0  \n",
      "Allene Raff         8/2/2001   535-53-2336              0             0  \n",
      "Clevie Schimoni     10/17/1989 787-78-1258              0             0  \n",
      "Erhard Nesbeth      7/25/1971  208-67-0874              0             0  \n",
      "Hedvige Fairpo      8/10/2001  691-69-7317          14084             0  \n",
      "Kally Ayers         7/31/1998  632-53-4141           5178             0  \n",
      "Binni Mc Mechan     6/23/2009  119-26-4980              0             0  \n",
      "Hedda Allworthy     6/14/1995  232-09-2296              0             0  \n",
      "Massimiliano Plett  3/11/1957  870-03-4270              0             0  \n",
      "Gwenny Micallef     3/11/1987  531-39-1676              0             0  \n",
      "Rollie Gabbatt      5/19/1985  121-55-7484              0             0  \n",
      "Devondra Delort     9/27/1968  383-99-3693              0             0  \n",
      "Rozella Coulthard   1/16/2010  703-66-0223              0             0  \n",
      "Tannie Bohlmann     1/25/1979  138-57-2883              0             0  \n",
      "Tyne Landeaux       11/24/1958 884-59-8967              0             0  \n",
      "Anthe Devine        9/25/1979  875-07-4084              0             0  \n",
      "Rozalie Rowbottom   8/2/1970   570-73-0139              0             0  \n",
      "Mahala Dimberline   9/28/1964  189-87-7998              0             0  \n",
      "Averell Maymand     8/10/2012  668-43-2767              0             0  \n",
      "Mignonne Spurrior   7/18/1960  557-99-3930              0          2042  \n",
      "Marla Dungey        11/3/1960  216-09-1548              0             0  \n",
      "Felix Falla         2/22/1960  242-47-2508              0             0  \n",
      "Kym Jennery         1/24/1989  868-85-7038              0             0  \n",
      "Letty Marcussen     6/18/1952  338-12-9081              0             0  \n",
      "Timothea Disman     6/23/1987  288-49-7728              0             0  \n",
      "Walliw Adcock       6/15/1951  297-29-2796              0             0  \n",
      "Raul Squire         7/15/1964  813-56-5466              0             0  \n",
      "Alayne Pedlingham   2/17/1953  288-31-8670              0             0  \n",
      "Darby Tome          1/9/2009   890-14-4832              0          1408  \n",
      "Laurena Abrahamsohn 8/11/2006  662-32-0909              0             0  \n",
      "Pierson Leyrroyd    4/8/1987   132-55-8586              0             0  \n",
      "Maye Sauter         7/27/1970  258-66-6115              0             0  \n",
      "Fay Simone          11/2/1993  715-75-9668              0             0  \n",
      "Florence Tiesman    12/23/1985 862-26-5489              0             0  \n",
      "Gwenneth Spriggen   12/6/1951  171-82-0984              0             0  \n"
     ]
    }
   ],
   "source": [
    "column_names = [\n",
    "    \"age\", \"workclass\", \"fnlwgt\", \"education\", \"education_num\",\n",
    "    \"marital_status\", \"occupation\", \"relationship\", \"race\", \"sex\",\n",
    "    \"capital_gain\", \"capital_loss\", \"hours_per_week\", \"native_country\", \"income\"\n",
    "]\n",
    "# Charger les données depuis un fichier CSV\n",
    "data = pd.read_csv('adult.data', header=None, names=column_names,na_values=\" ?\")\n",
    "print(data.head(40))"
   ]
  },
  {
   "cell_type": "code",
   "execution_count": 11,
   "id": "10c097e5",
   "metadata": {},
   "outputs": [
    {
     "name": "stdout",
     "output_type": "stream",
     "text": [
      "<class 'pandas.core.frame.DataFrame'>\n",
      "MultiIndex: 32564 entries, ('Name', 'DOB', 'SSN') to ('Hortense Hardesty', '5/11/2012', '690-42-5638')\n",
      "Data columns (total 15 columns):\n",
      " #   Column          Non-Null Count  Dtype \n",
      "---  ------          --------------  ----- \n",
      " 0   age             32564 non-null  object\n",
      " 1   workclass       30728 non-null  object\n",
      " 2   fnlwgt          32564 non-null  object\n",
      " 3   education       32564 non-null  object\n",
      " 4   education_num   32564 non-null  object\n",
      " 5   marital_status  30721 non-null  object\n",
      " 6   occupation      32564 non-null  object\n",
      " 7   relationship    32564 non-null  object\n",
      " 8   race            32564 non-null  object\n",
      " 9   sex             32564 non-null  object\n",
      " 10  capital_gain    31981 non-null  object\n",
      " 11  capital_loss    32564 non-null  object\n",
      " 12  hours_per_week  32564 non-null  object\n",
      " 13  native_country  32564 non-null  object\n",
      " 14  income          32564 non-null  object\n",
      "dtypes: object(15)\n",
      "memory usage: 7.1+ MB\n",
      "Pourcentage de valeurs manquantes par colonne :\n",
      "age               0.000000\n",
      "workclass         5.638128\n",
      "fnlwgt            0.000000\n",
      "education         0.000000\n",
      "education_num     0.000000\n",
      "marital_status    5.659624\n",
      "occupation        0.000000\n",
      "relationship      0.000000\n",
      "race              0.000000\n",
      "sex               0.000000\n",
      "capital_gain      1.790321\n",
      "capital_loss      0.000000\n",
      "hours_per_week    0.000000\n",
      "native_country    0.000000\n",
      "income            0.000000\n",
      "dtype: float64\n"
     ]
    }
   ],
   "source": [
    "data.info()\n",
    "missing_percentage = data.isnull().mean() * 100\n",
    "\n",
    "# Afficher les résultats\n",
    "print(\"Pourcentage de valeurs manquantes par colonne :\")\n",
    "print(missing_percentage)"
   ]
  },
  {
   "cell_type": "code",
   "execution_count": 12,
   "id": "1c93f4c2",
   "metadata": {},
   "outputs": [
    {
     "name": "stdout",
     "output_type": "stream",
     "text": [
      "age                  0\n",
      "workclass         1836\n",
      "fnlwgt               0\n",
      "education            0\n",
      "education_num        0\n",
      "marital_status    1843\n",
      "occupation           0\n",
      "relationship         0\n",
      "race                 0\n",
      "sex                  0\n",
      "capital_gain       583\n",
      "capital_loss         0\n",
      "hours_per_week       0\n",
      "native_country       0\n",
      "income               0\n",
      "dtype: int64\n",
      "Nombre de lignes restantes : 30165\n",
      "age               0\n",
      "workclass         0\n",
      "fnlwgt            0\n",
      "education         0\n",
      "education_num     0\n",
      "marital_status    0\n",
      "occupation        0\n",
      "relationship      0\n",
      "race              0\n",
      "sex               0\n",
      "capital_gain      0\n",
      "capital_loss      0\n",
      "hours_per_week    0\n",
      "native_country    0\n",
      "income            0\n",
      "dtype: int64\n"
     ]
    }
   ],
   "source": [
    "print(data.isnull().sum())\n",
    "# Supprimer les lignes contenant des valeurs manquantes\n",
    "data = data.dropna()\n",
    "\n",
    "print(f\"Nombre de lignes restantes : {len(data)}\")\n",
    "print(data.isnull().sum())\n"
   ]
  },
  {
   "cell_type": "code",
   "execution_count": 13,
   "id": "289c9570",
   "metadata": {},
   "outputs": [],
   "source": [
    "# Imputer les valeurs manquantes\n",
    "categorical_features = data.select_dtypes(include=['object']).columns.tolist()\n",
    "categorical_features.remove('income')\n",
    "imputer = SimpleImputer(strategy='most_frequent')\n",
    "data[categorical_features] = imputer.fit_transform(data[categorical_features])"
   ]
  },
  {
   "cell_type": "code",
   "execution_count": 34,
   "id": "9b66cfc1",
   "metadata": {},
   "outputs": [
    {
     "ename": "TypeError",
     "evalue": "could not convert string to float: 'Zip'",
     "output_type": "error",
     "traceback": [
      "\u001b[0;31m---------------------------------------------------------------------------\u001b[0m",
      "\u001b[0;31mValueError\u001b[0m                                Traceback (most recent call last)",
      "File \u001b[0;32m~/.local/lib/python3.10/site-packages/pandas/core/nanops.py:786\u001b[0m, in \u001b[0;36mnanmedian\u001b[0;34m(values, axis, skipna, mask)\u001b[0m\n\u001b[1;32m    785\u001b[0m \u001b[38;5;28;01mtry\u001b[39;00m:\n\u001b[0;32m--> 786\u001b[0m     values \u001b[38;5;241m=\u001b[39m \u001b[43mvalues\u001b[49m\u001b[38;5;241;43m.\u001b[39;49m\u001b[43mastype\u001b[49m\u001b[43m(\u001b[49m\u001b[38;5;124;43m\"\u001b[39;49m\u001b[38;5;124;43mf8\u001b[39;49m\u001b[38;5;124;43m\"\u001b[39;49m\u001b[43m)\u001b[49m\n\u001b[1;32m    787\u001b[0m \u001b[38;5;28;01mexcept\u001b[39;00m \u001b[38;5;167;01mValueError\u001b[39;00m \u001b[38;5;28;01mas\u001b[39;00m err:\n\u001b[1;32m    788\u001b[0m     \u001b[38;5;66;03m# e.g. \"could not convert string to float: 'a'\"\u001b[39;00m\n",
      "\u001b[0;31mValueError\u001b[0m: could not convert string to float: 'Zip'",
      "\nThe above exception was the direct cause of the following exception:\n",
      "\u001b[0;31mTypeError\u001b[0m                                 Traceback (most recent call last)",
      "Cell \u001b[0;32mIn[34], line 2\u001b[0m\n\u001b[1;32m      1\u001b[0m \u001b[38;5;66;03m# Binarisation de l'âge\u001b[39;00m\n\u001b[0;32m----> 2\u001b[0m median_age \u001b[38;5;241m=\u001b[39m \u001b[43mdata\u001b[49m\u001b[43m[\u001b[49m\u001b[38;5;124;43m'\u001b[39;49m\u001b[38;5;124;43mage\u001b[39;49m\u001b[38;5;124;43m'\u001b[39;49m\u001b[43m]\u001b[49m\u001b[38;5;241;43m.\u001b[39;49m\u001b[43mmedian\u001b[49m\u001b[43m(\u001b[49m\u001b[43m)\u001b[49m\n\u001b[1;32m      3\u001b[0m \u001b[38;5;28mprint\u001b[39m(median_age)\n\u001b[1;32m      4\u001b[0m data[\u001b[38;5;124m'\u001b[39m\u001b[38;5;124mage_binary\u001b[39m\u001b[38;5;124m'\u001b[39m] \u001b[38;5;241m=\u001b[39m data[\u001b[38;5;124m'\u001b[39m\u001b[38;5;124mage\u001b[39m\u001b[38;5;124m'\u001b[39m]\u001b[38;5;241m.\u001b[39mapply(\u001b[38;5;28;01mlambda\u001b[39;00m x: \u001b[38;5;124m'\u001b[39m\u001b[38;5;124mYoung\u001b[39m\u001b[38;5;124m'\u001b[39m \u001b[38;5;28;01mif\u001b[39;00m x \u001b[38;5;241m<\u001b[39m\u001b[38;5;241m=\u001b[39m median_age \u001b[38;5;28;01melse\u001b[39;00m \u001b[38;5;124m'\u001b[39m\u001b[38;5;124mOld\u001b[39m\u001b[38;5;124m'\u001b[39m)\n",
      "File \u001b[0;32m~/.local/lib/python3.10/site-packages/pandas/core/generic.py:11623\u001b[0m, in \u001b[0;36mNDFrame._add_numeric_operations.<locals>.median\u001b[0;34m(self, axis, skipna, numeric_only, **kwargs)\u001b[0m\n\u001b[1;32m  11606\u001b[0m \u001b[38;5;129m@doc\u001b[39m(\n\u001b[1;32m  11607\u001b[0m     _num_doc,\n\u001b[1;32m  11608\u001b[0m     desc\u001b[38;5;241m=\u001b[39m\u001b[38;5;124m\"\u001b[39m\u001b[38;5;124mReturn the median of the values over the requested axis.\u001b[39m\u001b[38;5;124m\"\u001b[39m,\n\u001b[0;32m   (...)\u001b[0m\n\u001b[1;32m  11621\u001b[0m     \u001b[38;5;241m*\u001b[39m\u001b[38;5;241m*\u001b[39mkwargs,\n\u001b[1;32m  11622\u001b[0m ):\n\u001b[0;32m> 11623\u001b[0m     \u001b[38;5;28;01mreturn\u001b[39;00m \u001b[43mNDFrame\u001b[49m\u001b[38;5;241;43m.\u001b[39;49m\u001b[43mmedian\u001b[49m\u001b[43m(\u001b[49m\u001b[38;5;28;43mself\u001b[39;49m\u001b[43m,\u001b[49m\u001b[43m \u001b[49m\u001b[43maxis\u001b[49m\u001b[43m,\u001b[49m\u001b[43m \u001b[49m\u001b[43mskipna\u001b[49m\u001b[43m,\u001b[49m\u001b[43m \u001b[49m\u001b[43mnumeric_only\u001b[49m\u001b[43m,\u001b[49m\u001b[43m \u001b[49m\u001b[38;5;241;43m*\u001b[39;49m\u001b[38;5;241;43m*\u001b[39;49m\u001b[43mkwargs\u001b[49m\u001b[43m)\u001b[49m\n",
      "File \u001b[0;32m~/.local/lib/python3.10/site-packages/pandas/core/generic.py:11212\u001b[0m, in \u001b[0;36mNDFrame.median\u001b[0;34m(self, axis, skipna, numeric_only, **kwargs)\u001b[0m\n\u001b[1;32m  11205\u001b[0m \u001b[38;5;28;01mdef\u001b[39;00m \u001b[38;5;21mmedian\u001b[39m(\n\u001b[1;32m  11206\u001b[0m     \u001b[38;5;28mself\u001b[39m,\n\u001b[1;32m  11207\u001b[0m     axis: Axis \u001b[38;5;241m|\u001b[39m \u001b[38;5;28;01mNone\u001b[39;00m \u001b[38;5;241m=\u001b[39m \u001b[38;5;241m0\u001b[39m,\n\u001b[0;32m   (...)\u001b[0m\n\u001b[1;32m  11210\u001b[0m     \u001b[38;5;241m*\u001b[39m\u001b[38;5;241m*\u001b[39mkwargs,\n\u001b[1;32m  11211\u001b[0m ) \u001b[38;5;241m-\u001b[39m\u001b[38;5;241m>\u001b[39m Series \u001b[38;5;241m|\u001b[39m \u001b[38;5;28mfloat\u001b[39m:\n\u001b[0;32m> 11212\u001b[0m     \u001b[38;5;28;01mreturn\u001b[39;00m \u001b[38;5;28;43mself\u001b[39;49m\u001b[38;5;241;43m.\u001b[39;49m\u001b[43m_stat_function\u001b[49m\u001b[43m(\u001b[49m\n\u001b[1;32m  11213\u001b[0m \u001b[43m        \u001b[49m\u001b[38;5;124;43m\"\u001b[39;49m\u001b[38;5;124;43mmedian\u001b[39;49m\u001b[38;5;124;43m\"\u001b[39;49m\u001b[43m,\u001b[49m\u001b[43m \u001b[49m\u001b[43mnanops\u001b[49m\u001b[38;5;241;43m.\u001b[39;49m\u001b[43mnanmedian\u001b[49m\u001b[43m,\u001b[49m\u001b[43m \u001b[49m\u001b[43maxis\u001b[49m\u001b[43m,\u001b[49m\u001b[43m \u001b[49m\u001b[43mskipna\u001b[49m\u001b[43m,\u001b[49m\u001b[43m \u001b[49m\u001b[43mnumeric_only\u001b[49m\u001b[43m,\u001b[49m\u001b[43m \u001b[49m\u001b[38;5;241;43m*\u001b[39;49m\u001b[38;5;241;43m*\u001b[39;49m\u001b[43mkwargs\u001b[49m\n\u001b[1;32m  11214\u001b[0m \u001b[43m    \u001b[49m\u001b[43m)\u001b[49m\n",
      "File \u001b[0;32m~/.local/lib/python3.10/site-packages/pandas/core/generic.py:11158\u001b[0m, in \u001b[0;36mNDFrame._stat_function\u001b[0;34m(self, name, func, axis, skipna, numeric_only, **kwargs)\u001b[0m\n\u001b[1;32m  11154\u001b[0m     nv\u001b[38;5;241m.\u001b[39mvalidate_stat_func((), kwargs, fname\u001b[38;5;241m=\u001b[39mname)\n\u001b[1;32m  11156\u001b[0m validate_bool_kwarg(skipna, \u001b[38;5;124m\"\u001b[39m\u001b[38;5;124mskipna\u001b[39m\u001b[38;5;124m\"\u001b[39m, none_allowed\u001b[38;5;241m=\u001b[39m\u001b[38;5;28;01mFalse\u001b[39;00m)\n\u001b[0;32m> 11158\u001b[0m \u001b[38;5;28;01mreturn\u001b[39;00m \u001b[38;5;28;43mself\u001b[39;49m\u001b[38;5;241;43m.\u001b[39;49m\u001b[43m_reduce\u001b[49m\u001b[43m(\u001b[49m\n\u001b[1;32m  11159\u001b[0m \u001b[43m    \u001b[49m\u001b[43mfunc\u001b[49m\u001b[43m,\u001b[49m\u001b[43m \u001b[49m\u001b[43mname\u001b[49m\u001b[38;5;241;43m=\u001b[39;49m\u001b[43mname\u001b[49m\u001b[43m,\u001b[49m\u001b[43m \u001b[49m\u001b[43maxis\u001b[49m\u001b[38;5;241;43m=\u001b[39;49m\u001b[43maxis\u001b[49m\u001b[43m,\u001b[49m\u001b[43m \u001b[49m\u001b[43mskipna\u001b[49m\u001b[38;5;241;43m=\u001b[39;49m\u001b[43mskipna\u001b[49m\u001b[43m,\u001b[49m\u001b[43m \u001b[49m\u001b[43mnumeric_only\u001b[49m\u001b[38;5;241;43m=\u001b[39;49m\u001b[43mnumeric_only\u001b[49m\n\u001b[1;32m  11160\u001b[0m \u001b[43m\u001b[49m\u001b[43m)\u001b[49m\n",
      "File \u001b[0;32m~/.local/lib/python3.10/site-packages/pandas/core/series.py:4670\u001b[0m, in \u001b[0;36mSeries._reduce\u001b[0;34m(self, op, name, axis, skipna, numeric_only, filter_type, **kwds)\u001b[0m\n\u001b[1;32m   4665\u001b[0m     \u001b[38;5;28;01mraise\u001b[39;00m \u001b[38;5;167;01mTypeError\u001b[39;00m(\n\u001b[1;32m   4666\u001b[0m         \u001b[38;5;124mf\u001b[39m\u001b[38;5;124m\"\u001b[39m\u001b[38;5;124mSeries.\u001b[39m\u001b[38;5;132;01m{\u001b[39;00mname\u001b[38;5;132;01m}\u001b[39;00m\u001b[38;5;124m does not allow \u001b[39m\u001b[38;5;132;01m{\u001b[39;00mkwd_name\u001b[38;5;132;01m}\u001b[39;00m\u001b[38;5;124m=\u001b[39m\u001b[38;5;132;01m{\u001b[39;00mnumeric_only\u001b[38;5;132;01m}\u001b[39;00m\u001b[38;5;124m \u001b[39m\u001b[38;5;124m\"\u001b[39m\n\u001b[1;32m   4667\u001b[0m         \u001b[38;5;124m\"\u001b[39m\u001b[38;5;124mwith non-numeric dtypes.\u001b[39m\u001b[38;5;124m\"\u001b[39m\n\u001b[1;32m   4668\u001b[0m     )\n\u001b[1;32m   4669\u001b[0m \u001b[38;5;28;01mwith\u001b[39;00m np\u001b[38;5;241m.\u001b[39merrstate(\u001b[38;5;28mall\u001b[39m\u001b[38;5;241m=\u001b[39m\u001b[38;5;124m\"\u001b[39m\u001b[38;5;124mignore\u001b[39m\u001b[38;5;124m\"\u001b[39m):\n\u001b[0;32m-> 4670\u001b[0m     \u001b[38;5;28;01mreturn\u001b[39;00m \u001b[43mop\u001b[49m\u001b[43m(\u001b[49m\u001b[43mdelegate\u001b[49m\u001b[43m,\u001b[49m\u001b[43m \u001b[49m\u001b[43mskipna\u001b[49m\u001b[38;5;241;43m=\u001b[39;49m\u001b[43mskipna\u001b[49m\u001b[43m,\u001b[49m\u001b[43m \u001b[49m\u001b[38;5;241;43m*\u001b[39;49m\u001b[38;5;241;43m*\u001b[39;49m\u001b[43mkwds\u001b[49m\u001b[43m)\u001b[49m\n",
      "File \u001b[0;32m~/.local/lib/python3.10/site-packages/pandas/core/nanops.py:158\u001b[0m, in \u001b[0;36mbottleneck_switch.__call__.<locals>.f\u001b[0;34m(values, axis, skipna, **kwds)\u001b[0m\n\u001b[1;32m    156\u001b[0m         result \u001b[38;5;241m=\u001b[39m alt(values, axis\u001b[38;5;241m=\u001b[39maxis, skipna\u001b[38;5;241m=\u001b[39mskipna, \u001b[38;5;241m*\u001b[39m\u001b[38;5;241m*\u001b[39mkwds)\n\u001b[1;32m    157\u001b[0m \u001b[38;5;28;01melse\u001b[39;00m:\n\u001b[0;32m--> 158\u001b[0m     result \u001b[38;5;241m=\u001b[39m \u001b[43malt\u001b[49m\u001b[43m(\u001b[49m\u001b[43mvalues\u001b[49m\u001b[43m,\u001b[49m\u001b[43m \u001b[49m\u001b[43maxis\u001b[49m\u001b[38;5;241;43m=\u001b[39;49m\u001b[43maxis\u001b[49m\u001b[43m,\u001b[49m\u001b[43m \u001b[49m\u001b[43mskipna\u001b[49m\u001b[38;5;241;43m=\u001b[39;49m\u001b[43mskipna\u001b[49m\u001b[43m,\u001b[49m\u001b[43m \u001b[49m\u001b[38;5;241;43m*\u001b[39;49m\u001b[38;5;241;43m*\u001b[39;49m\u001b[43mkwds\u001b[49m\u001b[43m)\u001b[49m\n\u001b[1;32m    160\u001b[0m \u001b[38;5;28;01mreturn\u001b[39;00m result\n",
      "File \u001b[0;32m~/.local/lib/python3.10/site-packages/pandas/core/nanops.py:789\u001b[0m, in \u001b[0;36mnanmedian\u001b[0;34m(values, axis, skipna, mask)\u001b[0m\n\u001b[1;32m    786\u001b[0m         values \u001b[38;5;241m=\u001b[39m values\u001b[38;5;241m.\u001b[39mastype(\u001b[38;5;124m\"\u001b[39m\u001b[38;5;124mf8\u001b[39m\u001b[38;5;124m\"\u001b[39m)\n\u001b[1;32m    787\u001b[0m     \u001b[38;5;28;01mexcept\u001b[39;00m \u001b[38;5;167;01mValueError\u001b[39;00m \u001b[38;5;28;01mas\u001b[39;00m err:\n\u001b[1;32m    788\u001b[0m         \u001b[38;5;66;03m# e.g. \"could not convert string to float: 'a'\"\u001b[39;00m\n\u001b[0;32m--> 789\u001b[0m         \u001b[38;5;28;01mraise\u001b[39;00m \u001b[38;5;167;01mTypeError\u001b[39;00m(\u001b[38;5;28mstr\u001b[39m(err)) \u001b[38;5;28;01mfrom\u001b[39;00m \u001b[38;5;21;01merr\u001b[39;00m\n\u001b[1;32m    790\u001b[0m \u001b[38;5;28;01mif\u001b[39;00m mask \u001b[38;5;129;01mis\u001b[39;00m \u001b[38;5;129;01mnot\u001b[39;00m \u001b[38;5;28;01mNone\u001b[39;00m:\n\u001b[1;32m    791\u001b[0m     values[mask] \u001b[38;5;241m=\u001b[39m np\u001b[38;5;241m.\u001b[39mnan\n",
      "\u001b[0;31mTypeError\u001b[0m: could not convert string to float: 'Zip'"
     ]
    }
   ],
   "source": [
    "# Binarisation de l'âge\n",
    "median_age = data['age'].median()\n",
    "print(median_age)\n",
    "data['age_binary'] = data['age'].apply(lambda x: 'Young' if x <= median_age else 'Old')\n",
    "data = data.drop('age', axis=1)"
   ]
  },
  {
   "cell_type": "code",
   "execution_count": 35,
   "id": "0a3821eb",
   "metadata": {},
   "outputs": [],
   "source": [
    "# Prétraitement des variables catégorielles et numériques\n",
    "categorical_features = data.select_dtypes(include=['object']).columns.tolist()\n",
    "categorical_features.remove('income')\n",
    "\n",
    "preprocessor = ColumnTransformer(\n",
    "    transformers=[\n",
    "        ('num', StandardScaler(), ['fnlwgt', 'education_num', 'capital_gain', 'capital_loss', 'hours_per_week']),\n",
    "        ('cat', OneHotEncoder(handle_unknown='ignore'), categorical_features)\n",
    "    ])"
   ]
  },
  {
   "cell_type": "code",
   "execution_count": null,
   "id": "17ad7403",
   "metadata": {},
   "outputs": [],
   "source": [
    "# Séparer les caractéristiques et la cible\n",
    "X = data.drop('income', axis=1)\n",
    "y = data['income'].apply(lambda x: 1 if x.strip() == '>50K' else 0)"
   ]
  },
  {
   "cell_type": "code",
   "execution_count": null,
   "id": "b1e793b8",
   "metadata": {},
   "outputs": [
    {
     "name": "stdout",
     "output_type": "stream",
     "text": [
      "Taille de l'ensemble d'entraînement : 21716\n",
      "Taille de l'ensemble de validation : 5429\n",
      "Taille de l'ensemble de test : 3017\n"
     ]
    }
   ],
   "source": [
    "\n",
    "X_train_val, X_test, y_train_val, y_test = train_test_split(\n",
    "    X, y, test_size=0.1, random_state=42, stratify=y\n",
    ")\n",
    "\n",
    "X_train, X_val, y_train, y_val = train_test_split(\n",
    "    X_train_val, y_train_val, test_size=0.2, random_state=42, stratify=y_train_val\n",
    ")\n",
    "\n",
    "# Afficher les proportions\n",
    "print(f\"Taille de l'ensemble d'entraînement : {len(X_train)}\")\n",
    "print(f\"Taille de l'ensemble de validation : {len(X_val)}\")\n",
    "print(f\"Taille de l'ensemble de test : {len(X_test)}\")\n"
   ]
  },
  {
   "cell_type": "code",
   "execution_count": null,
   "id": "bc3cb67e",
   "metadata": {},
   "outputs": [],
   "source": [
    "# Pipeline avec XGBoost\n",
    "clf_pipeline = Pipeline(steps=[\n",
    "    ('preprocessor', preprocessor),\n",
    "    ('classifier', XGBClassifier(use_label_encoder=False, eval_metric='logloss', random_state=42))\n",
    "])\n",
    "clf_pipeline.fit(X_train, y_train)"
   ]
  },
  {
   "cell_type": "code",
   "execution_count": null,
   "id": "92b0db98",
   "metadata": {},
   "outputs": [
    {
     "name": "stdout",
     "output_type": "stream",
     "text": [
      "Rapport de Classification :\n",
      "               precision    recall  f1-score   support\n",
      "\n",
      "           0       0.90      0.93      0.91      2266\n",
      "           1       0.77      0.68      0.72       751\n",
      "\n",
      "    accuracy                           0.87      3017\n",
      "   macro avg       0.83      0.80      0.82      3017\n",
      "weighted avg       0.86      0.87      0.87      3017\n",
      "\n",
      "Exactitude : 0.8684\n",
      "F1 Score : 0.7186\n"
     ]
    },
    {
     "data": {
      "image/png": "[encoded data removed]",
      "text/plain": [
       "<Figure size 800x600 with 2 Axes>"
      ]
     },
     "metadata": {},
     "output_type": "display_data"
    }
   ],
   "source": [
    "\n",
    "\n",
    "# Prédire les résultats sur l'ensemble de test\n",
    "y_pred = clf_pipeline.predict(X_test)\n",
    "\n",
    "# Imprimer le rapport de classification\n",
    "print(\"Rapport de Classification :\\n\", classification_report(y_test, y_pred))\n",
    "print(f\"Exactitude : {accuracy_score(y_test, y_pred):.4f}\")\n",
    "print(f\"F1 Score : {f1_score(y_test, y_pred):.4f}\")\n",
    "\n",
    "# Générer la matrice de confusion\n",
    "conf_matrix = confusion_matrix(y_test, y_pred)\n",
    "\n",
    "# Créer une heatmap pour visualiser la matrice de confusion\n",
    "plt.figure(figsize=(8, 6))\n",
    "sns.heatmap(conf_matrix, annot=True, fmt='d', cmap='Blues', xticklabels=['<=50K', '>50K'], yticklabels=['<=50K', '>50K'])\n",
    "plt.xlabel('Prédictions')\n",
    "plt.ylabel('Valeurs Réelles')\n",
    "plt.title('Matrice de Confusion')\n",
    "plt.show()\n"
   ]
  },
  {
   "cell_type": "markdown",
   "id": "c1500800",
   "metadata": {},
   "source": [
    "# Test for part 1"
   ]
  },
  {
   "cell_type": "code",
   "execution_count": 62,
   "id": "0ef7735c",
   "metadata": {},
   "outputs": [
    {
     "name": "stderr",
     "output_type": "stream",
     "text": [
      "WARNING:root:Missing Data: 3620 rows removed from AdultDataset.\n"
     ]
    },
    {
     "name": "stdout",
     "output_type": "stream",
     "text": [
      "Accuracy: 1.0\n",
      "Classification Report:\n",
      "               precision    recall  f1-score   support\n",
      "\n",
      "           0       1.00      1.00      1.00      9045\n",
      "\n",
      "    accuracy                           1.00      9045\n",
      "   macro avg       1.00      1.00      1.00      9045\n",
      "weighted avg       1.00      1.00      1.00      9045\n",
      "\n",
      "Rapport de Classification :\n",
      "               precision    recall  f1-score   support\n",
      "\n",
      "           0       1.00      1.00      1.00      9045\n",
      "\n",
      "    accuracy                           1.00      9045\n",
      "   macro avg       1.00      1.00      1.00      9045\n",
      "weighted avg       1.00      1.00      1.00      9045\n",
      "\n",
      "Exactitude : 1.0000\n",
      "F1 Score : 0.0000\n"
     ]
    },
    {
     "name": "stderr",
     "output_type": "stream",
     "text": [
      "/home/plouis/.local/lib/python3.10/site-packages/sklearn/metrics/_classification.py:1509: UndefinedMetricWarning: F-score is ill-defined and being set to 0.0 due to no true nor predicted samples. Use `zero_division` parameter to control this behavior.\n",
      "  _warn_prf(average, modifier, f\"{metric.capitalize()} is\", len(result))\n",
      "/home/plouis/.local/lib/python3.10/site-packages/sklearn/metrics/_classification.py:386: UserWarning: A single label was found in 'y_true' and 'y_pred'. For the confusion matrix to have the correct shape, use the 'labels' parameter to pass all known labels.\n",
      "  warnings.warn(\n"
     ]
    },
    {
     "data": {
      "image/png": "[encoded data removed]",
      "text/plain": [
       "<Figure size 800x600 with 2 Axes>"
      ]
     },
     "metadata": {},
     "output_type": "display_data"
    }
   ],
   "source": [
    "\n",
    "from aif360.datasets import AdultDataset\n",
    "from xgboost import XGBClassifier\n",
    "from sklearn.model_selection import train_test_split\n",
    "from sklearn.metrics import accuracy_score, classification_report\n",
    "from aif360.algorithms.preprocessing import Reweighing\n",
    "\n",
    "# Define the custom preprocessing function\n",
    "def custom_preprocessing(df):\n",
    "    median_age = df['age'].median()\n",
    "    df['age_binary'] = df['age'].apply(lambda x: 1 if x <= median_age else 0)\n",
    "    df = df.drop('age', axis=1)\n",
    "    return df\n",
    "\n",
    "# Load the dataset with the custom preprocessing\n",
    "dataset_orig = AdultDataset(\n",
    "    custom_preprocessing=custom_preprocessing,\n",
    "    protected_attribute_names=['age_binary', 'sex', 'race'], \n",
    "    privileged_classes=[[1], ['Male'], ['White']]\n",
    ")\n",
    "\n",
    "privileged_groups = [{'age_binary': 1, 'sex': 1}]  # Old males\n",
    "unprivileged_groups = [{'age_binary': 0, 'sex': 0}]  # Young females\n",
    "RW = Reweighing(unprivileged_groups=unprivileged_groups,\n",
    "                privileged_groups=privileged_groups)\n",
    "dataset_transf_train = RW.fit_transform(dataset_orig)\n",
    "\n",
    "# Convert dataset to pandas DataFrame for compatibility with XGBoost\n",
    "df, _ = dataset_transf_train.convert_to_dataframe()\n",
    "\n",
    "# Separate features (X) and target variable (y)\n",
    "X = df.drop(columns=['income-per-year'])  # Replace 'income-per-year' with the actual target column name\n",
    "y = df['income-per-year'].apply(lambda x: 1 if x == '>50K' else 0)  # Binary encoding for target variable\n",
    "\n",
    "# Handle missing data (if any)\n",
    "df.fillna(df.median(), inplace=True)  # Example: Replace missing values with column medians\n",
    "\n",
    "# Proper train-test split with stratification\n",
    "X_train, X_test, y_train, y_test = train_test_split(\n",
    "    X, y, test_size=0.2, random_state=42, stratify=y\n",
    ")\n",
    "\n",
    "# Initialize XGBoost classifier\n",
    "xgb_classifier = XGBClassifier(eval_metric='logloss')  # Remove use_label_encoder\n",
    "\n",
    "# Train the model\n",
    "xgb_classifier.fit(X_train, y_train)\n",
    "\n",
    "# Evaluate the model\n",
    "y_pred = xgb_classifier.predict(X_test)\n",
    "\n",
    "print(\"Accuracy:\", accuracy_score(y_test, y_pred))\n",
    "print(\"Classification Report:\\n\", classification_report(y_test, y_pred))\n",
    "\n",
    "\n",
    "# Imprimer le rapport de classification\n",
    "print(\"Rapport de Classification :\\n\", classification_report(y_test, y_pred))\n",
    "print(f\"Exactitude : {accuracy_score(y_test, y_pred):.4f}\")\n",
    "print(f\"F1 Score : {f1_score(y_test, y_pred):.4f}\")\n",
    "\n",
    "# Générer la matrice de confusion\n",
    "conf_matrix = confusion_matrix(y_test, y_pred)\n",
    "\n",
    "# Créer une heatmap pour visualiser la matrice de confusion\n",
    "plt.figure(figsize=(8, 6))\n",
    "sns.heatmap(conf_matrix, annot=True, fmt='d', cmap='Blues', xticklabels=['<=50K', '>50K'], yticklabels=['<=50K', '>50K'])\n",
    "plt.xlabel('Prédictions')\n",
    "plt.ylabel('Valeurs Réelles')\n",
    "plt.title('Matrice de Confusion')\n",
    "plt.show()\n"
   ]
  },
  {
   "cell_type": "markdown",
   "id": "01be99ef",
   "metadata": {},
   "source": [
    "# Part 2 : Fairness of the classifier"
   ]
  },
  {
   "cell_type": "markdown",
   "id": "4f4b6fa0",
   "metadata": {},
   "source": [
    "### Importation of needed libraires"
   ]
  },
  {
   "cell_type": "code",
   "execution_count": 19,
   "id": "bcd875ab",
   "metadata": {},
   "outputs": [],
   "source": [
    "import numpy as np\n",
    "np.random.seed(42)\n",
    "\n",
    "from aif360.metrics import BinaryLabelDatasetMetric\n",
    "from aif360.datasets import AdultDataset , BinaryLabelDataset\n",
    "from aif360.algorithms.preprocessing import Reweighing\n",
    "from aif360.algorithms.preprocessing.optim_preproc_helpers.data_preproc_functions import load_preproc_data_adult\n",
    "\n",
    "from IPython.display import Markdown, display"
   ]
  },
  {
   "cell_type": "code",
   "execution_count": 48,
   "id": "1f9e1538",
   "metadata": {},
   "outputs": [
    {
     "name": "stderr",
     "output_type": "stream",
     "text": [
      "WARNING:root:Missing Data: 3620 rows removed from AdultDataset.\n"
     ]
    },
    {
     "name": "stdout",
     "output_type": "stream",
     "text": [
      "               instance weights features                                    \\\n",
      "                                                       protected attribute   \n",
      "                                     age education-num                race   \n",
      "instance names                                                               \n",
      "0                           1.0     25.0           7.0                 0.0   \n",
      "1                           1.0     38.0           9.0                 1.0   \n",
      "2                           1.0     28.0          12.0                 1.0   \n",
      "3                           1.0     44.0          10.0                 0.0   \n",
      "5                           1.0     34.0           6.0                 1.0   \n",
      "...                         ...      ...           ...                 ...   \n",
      "48837                       1.0     27.0          12.0                 1.0   \n",
      "48838                       1.0     40.0           9.0                 1.0   \n",
      "48839                       1.0     58.0           9.0                 1.0   \n",
      "48840                       1.0     22.0           9.0                 1.0   \n",
      "48841                       1.0     52.0           9.0                 1.0   \n",
      "\n",
      "                                                              \\\n",
      "                                                               \n",
      "                sex capital-gain capital-loss hours-per-week   \n",
      "instance names                                                 \n",
      "0               1.0          0.0          0.0           40.0   \n",
      "1               1.0          0.0          0.0           50.0   \n",
      "2               1.0          0.0          0.0           40.0   \n",
      "3               1.0       7688.0          0.0           40.0   \n",
      "5               1.0          0.0          0.0           30.0   \n",
      "...             ...          ...          ...            ...   \n",
      "48837           0.0          0.0          0.0           38.0   \n",
      "48838           1.0          0.0          0.0           40.0   \n",
      "48839           0.0          0.0          0.0           40.0   \n",
      "48840           1.0          0.0          0.0           20.0   \n",
      "48841           0.0      15024.0          0.0           40.0   \n",
      "\n",
      "                                                          ...  \\\n",
      "                                                          ...   \n",
      "               workclass=Federal-gov workclass=Local-gov  ...   \n",
      "instance names                                            ...   \n",
      "0                                0.0                 0.0  ...   \n",
      "1                                0.0                 0.0  ...   \n",
      "2                                0.0                 1.0  ...   \n",
      "3                                0.0                 0.0  ...   \n",
      "5                                0.0                 0.0  ...   \n",
      "...                              ...                 ...  ...   \n",
      "48837                            0.0                 0.0  ...   \n",
      "48838                            0.0                 0.0  ...   \n",
      "48839                            0.0                 0.0  ...   \n",
      "48840                            0.0                 0.0  ...   \n",
      "48841                            0.0                 0.0  ...   \n",
      "\n",
      "                                                                   \\\n",
      "                                                                    \n",
      "               native-country=Puerto-Rico native-country=Scotland   \n",
      "instance names                                                      \n",
      "0                                     0.0                     0.0   \n",
      "1                                     0.0                     0.0   \n",
      "2                                     0.0                     0.0   \n",
      "3                                     0.0                     0.0   \n",
      "5                                     0.0                     0.0   \n",
      "...                                   ...                     ...   \n",
      "48837                                 0.0                     0.0   \n",
      "48838                                 0.0                     0.0   \n",
      "48839                                 0.0                     0.0   \n",
      "48840                                 0.0                     0.0   \n",
      "48841                                 0.0                     0.0   \n",
      "\n",
      "                                                           \\\n",
      "                                                            \n",
      "               native-country=South native-country=Taiwan   \n",
      "instance names                                              \n",
      "0                               0.0                   0.0   \n",
      "1                               0.0                   0.0   \n",
      "2                               0.0                   0.0   \n",
      "3                               0.0                   0.0   \n",
      "5                               0.0                   0.0   \n",
      "...                             ...                   ...   \n",
      "48837                           0.0                   0.0   \n",
      "48838                           0.0                   0.0   \n",
      "48839                           0.0                   0.0   \n",
      "48840                           0.0                   0.0   \n",
      "48841                           0.0                   0.0   \n",
      "\n",
      "                                                                       \\\n",
      "                                                                        \n",
      "               native-country=Thailand native-country=Trinadad&Tobago   \n",
      "instance names                                                          \n",
      "0                                  0.0                            0.0   \n",
      "1                                  0.0                            0.0   \n",
      "2                                  0.0                            0.0   \n",
      "3                                  0.0                            0.0   \n",
      "5                                  0.0                            0.0   \n",
      "...                                ...                            ...   \n",
      "48837                              0.0                            0.0   \n",
      "48838                              0.0                            0.0   \n",
      "48839                              0.0                            0.0   \n",
      "48840                              0.0                            0.0   \n",
      "48841                              0.0                            0.0   \n",
      "\n",
      "                                                                    \\\n",
      "                                                                     \n",
      "               native-country=United-States native-country=Vietnam   \n",
      "instance names                                                       \n",
      "0                                       1.0                    0.0   \n",
      "1                                       1.0                    0.0   \n",
      "2                                       1.0                    0.0   \n",
      "3                                       1.0                    0.0   \n",
      "5                                       1.0                    0.0   \n",
      "...                                     ...                    ...   \n",
      "48837                                   1.0                    0.0   \n",
      "48838                                   1.0                    0.0   \n",
      "48839                                   1.0                    0.0   \n",
      "48840                                   1.0                    0.0   \n",
      "48841                                   1.0                    0.0   \n",
      "\n",
      "                                         labels  \n",
      "                                                 \n",
      "               native-country=Yugoslavia         \n",
      "instance names                                   \n",
      "0                                    0.0    0.0  \n",
      "1                                    0.0    0.0  \n",
      "2                                    0.0    1.0  \n",
      "3                                    0.0    1.0  \n",
      "5                                    0.0    0.0  \n",
      "...                                  ...    ...  \n",
      "48837                                0.0    0.0  \n",
      "48838                                0.0    1.0  \n",
      "48839                                0.0    0.0  \n",
      "48840                                0.0    0.0  \n",
      "48841                                0.0    1.0  \n",
      "\n",
      "[45222 rows x 100 columns]\n"
     ]
    }
   ],
   "source": [
    "print(AdultDataset())"
   ]
  },
  {
   "cell_type": "code",
   "execution_count": null,
   "metadata": {},
   "outputs": [],
   "source": []
  },
  {
   "cell_type": "markdown",
   "id": "5f6ce86b",
   "metadata": {},
   "source": [
    "Step 2 Load dataset, specifying protected attribute, and split dataset into train and test"
   ]
  },
  {
   "cell_type": "code",
   "execution_count": 20,
   "id": "2509f413",
   "metadata": {},
   "outputs": [],
   "source": [
    "#import pandas as pd\n",
    "#from aif360.datasets import BinaryLabelDataset\n",
    "\n",
    "# Load the dataset produced from part 1\n",
    "#train_data = pd.concat([X_train, y_train.reset_index(drop=True)], axis=1)\n",
    "#train_data = train_data.dropna()\n",
    "# Est ce que c'est une alternative de faire \n",
    "# data = pd.read_csv('path_to_your_processed_data.csv')\n",
    "\n",
    "# This filters the columns of the train_data to include only those columns that have numeric data types.\n",
    "#train_data = train_data.select_dtypes(include=['number'])\n",
    "\n",
    "# Specify protected attributes\n",
    "#protected_attributes = ['age_binary', 'sex']\n",
    "\n",
    "# Split the dataset into train and test sets\n",
    "#train_data, test_data = train_test_split(data, test_size=0.2, random_state=42, stratify=data['income'])\n",
    "\n",
    "# Create BinaryLabelDataset for train and test sets\n",
    "#train_dataset = BinaryLabelDataset(\n",
    "#    df=train_data,\n",
    "#    label_names=['income'],\n",
    "#    protected_attribute_names=protected_attributes\n",
    "#)\n",
    "\n",
    "#test_dataset = BinaryLabelDataset(\n",
    "#    df=test_data,\n",
    "#    label_names=['income'],\n",
    "#    protected_attribute_names=protected_attributes\n",
    "#)\n"
   ]
  },
  {
   "cell_type": "code",
   "execution_count": 21,
   "id": "4a7c6b55",
   "metadata": {},
   "outputs": [
    {
     "name": "stderr",
     "output_type": "stream",
     "text": [
      "WARNING:root:Missing Data: 3620 rows removed from AdultDataset.\n"
     ]
    }
   ],
   "source": [
    "# We want to difine a custom preprocesing function (custom_preprocessing(df)) from the standat dataset class \n",
    "# that will be used to transform the dataset\n",
    "def custom_preprocessing(df):\n",
    "    median_age = df['age'].median()\n",
    "    df['age_binary'] = df['age'].apply(lambda x: 1 if x <= median_age else 0)\n",
    "    df = df.drop('age', axis=1)\n",
    "    return df\n",
    "# So what we did is to add a new column 'age_binary' to the dataset and drop the 'age' column, in order to \n",
    "# binarise the age column.\n",
    "\n",
    "# Load the dataset with the library aif360\n",
    "dataset_orig = AdultDataset(custom_preprocessing=custom_preprocessing,\n",
    "                          protected_attribute_names=['age_binary', 'sex','race'], # race will remain because in the original library is defined with this protecte attribute\n",
    "                          privileged_classes=[[1], ['Male'],['White']]) # We supposed that the privileged class is the old white male. It's also defined like this in the original library\n"
   ]
  },
  {
   "cell_type": "markdown",
   "id": "dc7c0d1e",
   "metadata": {},
   "source": [
    "Step 3 Compute fairness metric on original training dataset\n",
    "The fairness metric is Statistical Parity Difference whitch measures the disparity in positive outcomes between unprivileged and privileged groups. It compares the probability of receiving a positive outcome for members of the unprivileged group against that for members of the privileged group."
   ]
  },
  {
   "cell_type": "code",
   "execution_count": 22,
   "id": "271b30b1",
   "metadata": {},
   "outputs": [],
   "source": [
    "# Define the privileged and unprivileged groups in order to compute the disparate impact\n",
    "privileged_groups = [{'age_binary': 1, 'sex': 1}]  # Old males\n",
    "unprivileged_groups = [{'age_binary': 0, 'sex': 0}]  # Young females"
   ]
  },
  {
   "cell_type": "code",
   "execution_count": 23,
   "id": "573b48be",
   "metadata": {},
   "outputs": [
    {
     "data": {
      "text/markdown": [
       "#### Original training dataset"
      ],
      "text/plain": [
       "<IPython.core.display.Markdown object>"
      ]
     },
     "metadata": {},
     "output_type": "display_data"
    },
    {
     "name": "stdout",
     "output_type": "stream",
     "text": [
      "Difference in mean outcomes between unprivileged and privileged groups = -0.015898\n"
     ]
    }
   ],
   "source": [
    "# Compute the fairness metric statistical parity measure, which is the difference in the mean prediction between the unprivileged and privileged groups.\n",
    "# A negative value indicates less favorable outcomes for the unprivileged groups. in order to see if the dataset is biased\n",
    "metric_orig_train = BinaryLabelDatasetMetric(dataset_orig, \n",
    "                                             unprivileged_groups=unprivileged_groups,\n",
    "                                             privileged_groups=privileged_groups)\n",
    "\n",
    "display(Markdown(\"#### Original training dataset\"))\n",
    "print(\"Difference in mean outcomes between unprivileged and privileged groups = %f\" % metric_orig_train.mean_difference())"
   ]
  },
  {
   "cell_type": "markdown",
   "id": "2a3599aa",
   "metadata": {},
   "source": [
    "As it can be seen from the privious cell, we conclude that there is a bias in this dataset because the statistical paity metric is not equal to zero. More specifficaly, in the unprivileged group we have 2% of peopele are suffering of unfairness.  "
   ]
  },
  {
   "cell_type": "markdown",
   "id": "38d81c8b",
   "metadata": {},
   "source": [
    " Step 4 Mitigate bias by transforming the original dataset via technique to ensure the classifier is fair. Here we want to use the Pre-Processing method Reweighting for fairness. This method will simply assigns weights to samples to balance the representation of protected groups in the training process."
   ]
  },
  {
   "cell_type": "code",
   "execution_count": 24,
   "id": "3f749322",
   "metadata": {},
   "outputs": [],
   "source": [
    "RW = Reweighing(unprivileged_groups=unprivileged_groups,\n",
    "                privileged_groups=privileged_groups)\n",
    "dataset_transf_train = RW.fit_transform(dataset_orig)"
   ]
  },
  {
   "cell_type": "code",
   "execution_count": 25,
   "id": "9c9c656f",
   "metadata": {},
   "outputs": [
    {
     "name": "stdout",
     "output_type": "stream",
     "text": [
      "The 50 first instance weights originally:\n"
     ]
    },
    {
     "data": {
      "text/plain": [
       "array([1., 1., 1., 1., 1., 1., 1., 1., 1., 1., 1., 1., 1., 1., 1., 1., 1.,\n",
       "       1., 1., 1., 1., 1., 1., 1., 1., 1., 1., 1., 1., 1., 1., 1., 1., 1.,\n",
       "       1., 1., 1., 1., 1., 1., 1., 1., 1., 1., 1., 1., 1., 1., 1., 1.])"
      ]
     },
     "execution_count": 25,
     "metadata": {},
     "output_type": "execute_result"
    }
   ],
   "source": [
    "print('The 50 first instance weights originally:')\n",
    "dataset_orig.instance_weights[:50]"
   ]
  },
  {
   "cell_type": "code",
   "execution_count": 26,
   "id": "657ba5fe",
   "metadata": {},
   "outputs": [
    {
     "name": "stdout",
     "output_type": "stream",
     "text": [
      "The 50 first instance weights after reweighing:\n"
     ]
    },
    {
     "data": {
      "text/plain": [
       "array([0.91752147, 1.        , 1.37514924, 1.        , 0.91752147,\n",
       "       1.        , 1.        , 1.        , 1.        , 0.91752147,\n",
       "       1.        , 1.        , 1.        , 0.91752147, 0.90006666,\n",
       "       1.        , 1.37514924, 1.        , 0.91752147, 0.91752147,\n",
       "       1.        , 0.91752147, 0.91752147, 1.        , 0.91752147,\n",
       "       1.        , 0.90006666, 0.91752147, 0.91752147, 1.        ,\n",
       "       1.37514924, 0.91752147, 0.91752147, 0.91752147, 1.        ,\n",
       "       1.        , 0.91752147, 0.91752147, 0.91752147, 1.        ,\n",
       "       1.        , 1.        , 0.90006666, 0.90006666, 0.91752147,\n",
       "       1.        , 1.        , 1.37514924, 1.        , 1.        ])"
      ]
     },
     "execution_count": 26,
     "metadata": {},
     "output_type": "execute_result"
    }
   ],
   "source": [
    "print('The 50 first instance weights after reweighing:')\n",
    "dataset_transf_train.instance_weights[:50]"
   ]
  },
  {
   "cell_type": "markdown",
   "id": "5d92c3db",
   "metadata": {},
   "source": [
    "We can clearly see from the cell above that the reweight method of transforming the dataset into a fair one worked.\n"
   ]
  },
  {
   "cell_type": "markdown",
   "id": "887fb859",
   "metadata": {},
   "source": [
    "Step 5 Compute fairness metric on transformed dataset\n"
   ]
  },
  {
   "cell_type": "code",
   "execution_count": 27,
   "id": "c333a742",
   "metadata": {},
   "outputs": [
    {
     "data": {
      "text/markdown": [
       "#### Transformed training dataset"
      ],
      "text/plain": [
       "<IPython.core.display.Markdown object>"
      ]
     },
     "metadata": {},
     "output_type": "display_data"
    },
    {
     "name": "stdout",
     "output_type": "stream",
     "text": [
      "Difference in mean outcomes between unprivileged and privileged groups = -0.000000\n"
     ]
    }
   ],
   "source": [
    "metric_transf_train = BinaryLabelDatasetMetric(dataset_transf_train, \n",
    "                                               unprivileged_groups=unprivileged_groups,\n",
    "                                               privileged_groups=privileged_groups)\n",
    "display(Markdown(\"#### Transformed training dataset\"))\n",
    "print(\"Difference in mean outcomes between unprivileged and privileged groups = %f\" % metric_transf_train.mean_difference())"
   ]
  },
  {
   "cell_type": "markdown",
   "id": "3d29f3f3",
   "metadata": {},
   "source": [
    "Step 6: Comparision between the classifier and the fair classifier"
   ]
  },
  {
   "cell_type": "code",
   "execution_count": 58,
   "id": "fc21f60a",
   "metadata": {},
   "outputs": [],
   "source": [
    "# Convert dataset to pandas DataFrame for compatibility with XGBoost\n",
    "df, _ = dataset_orig.convert_to_dataframe()\n",
    "\n",
    "# Extract features and labels\n",
    "X = df.drop(columns=['income-per-year'])  # Replace 'income-per-year' with the actual target column name\n",
    "y = df['income-per-year'].apply(lambda x: 1 if x == '>50K' else 0)  # Binary encoding for target variable\n",
    "\n",
    "\n",
    "# Split the dataset into train and test sets for the original dataset\n",
    "X_train, X_test, y_train, y_test = train_test_split(X, y, test_size=0.3, shuffle=True)\n",
    "\n",
    "# Extract features and labels for the transformed dataset\n",
    "Xt = dataset_transf_train.features\n",
    "yt = dataset_transf_train.labels.ravel()\n",
    "\n",
    "# Split the transformed dataset into train and test sets\n",
    "X_trans_train, X_trans_test, y_trans_train, y_trans_test = train_test_split(Xt, yt, test_size=0.3, shuffle=True)\n",
    "\n",
    "\n",
    "\n"
   ]
  },
  {
   "cell_type": "code",
   "execution_count": null,
   "id": "f7965c29",
   "metadata": {},
   "outputs": [
    {
     "ename": "ValueError",
     "evalue": "A given column is not a column of the dataframe",
     "output_type": "error",
     "traceback": [
      "\u001b[0;31m---------------------------------------------------------------------------\u001b[0m",
      "\u001b[0;31mKeyError\u001b[0m                                  Traceback (most recent call last)",
      "File \u001b[0;32m~/.local/lib/python3.10/site-packages/pandas/core/indexes/base.py:3653\u001b[0m, in \u001b[0;36mIndex.get_loc\u001b[0;34m(self, key)\u001b[0m\n\u001b[1;32m   3652\u001b[0m \u001b[38;5;28;01mtry\u001b[39;00m:\n\u001b[0;32m-> 3653\u001b[0m     \u001b[38;5;28;01mreturn\u001b[39;00m \u001b[38;5;28;43mself\u001b[39;49m\u001b[38;5;241;43m.\u001b[39;49m\u001b[43m_engine\u001b[49m\u001b[38;5;241;43m.\u001b[39;49m\u001b[43mget_loc\u001b[49m\u001b[43m(\u001b[49m\u001b[43mcasted_key\u001b[49m\u001b[43m)\u001b[49m\n\u001b[1;32m   3654\u001b[0m \u001b[38;5;28;01mexcept\u001b[39;00m \u001b[38;5;167;01mKeyError\u001b[39;00m \u001b[38;5;28;01mas\u001b[39;00m err:\n",
      "File \u001b[0;32m~/.local/lib/python3.10/site-packages/pandas/_libs/index.pyx:147\u001b[0m, in \u001b[0;36mpandas._libs.index.IndexEngine.get_loc\u001b[0;34m()\u001b[0m\n",
      "File \u001b[0;32m~/.local/lib/python3.10/site-packages/pandas/_libs/index.pyx:176\u001b[0m, in \u001b[0;36mpandas._libs.index.IndexEngine.get_loc\u001b[0;34m()\u001b[0m\n",
      "File \u001b[0;32mpandas/_libs/hashtable_class_helper.pxi:7080\u001b[0m, in \u001b[0;36mpandas._libs.hashtable.PyObjectHashTable.get_item\u001b[0;34m()\u001b[0m\n",
      "File \u001b[0;32mpandas/_libs/hashtable_class_helper.pxi:7088\u001b[0m, in \u001b[0;36mpandas._libs.hashtable.PyObjectHashTable.get_item\u001b[0;34m()\u001b[0m\n",
      "\u001b[0;31mKeyError\u001b[0m: 'feature_1'",
      "\nThe above exception was the direct cause of the following exception:\n",
      "\u001b[0;31mKeyError\u001b[0m                                  Traceback (most recent call last)",
      "File \u001b[0;32m~/.local/lib/python3.10/site-packages/sklearn/utils/__init__.py:505\u001b[0m, in \u001b[0;36m_get_column_indices\u001b[0;34m(X, key)\u001b[0m\n\u001b[1;32m    504\u001b[0m \u001b[38;5;28;01mfor\u001b[39;00m col \u001b[38;5;129;01min\u001b[39;00m columns:\n\u001b[0;32m--> 505\u001b[0m     col_idx \u001b[38;5;241m=\u001b[39m \u001b[43mall_columns\u001b[49m\u001b[38;5;241;43m.\u001b[39;49m\u001b[43mget_loc\u001b[49m\u001b[43m(\u001b[49m\u001b[43mcol\u001b[49m\u001b[43m)\u001b[49m\n\u001b[1;32m    506\u001b[0m     \u001b[38;5;28;01mif\u001b[39;00m \u001b[38;5;129;01mnot\u001b[39;00m \u001b[38;5;28misinstance\u001b[39m(col_idx, numbers\u001b[38;5;241m.\u001b[39mIntegral):\n",
      "File \u001b[0;32m~/.local/lib/python3.10/site-packages/pandas/core/indexes/base.py:3655\u001b[0m, in \u001b[0;36mIndex.get_loc\u001b[0;34m(self, key)\u001b[0m\n\u001b[1;32m   3654\u001b[0m \u001b[38;5;28;01mexcept\u001b[39;00m \u001b[38;5;167;01mKeyError\u001b[39;00m \u001b[38;5;28;01mas\u001b[39;00m err:\n\u001b[0;32m-> 3655\u001b[0m     \u001b[38;5;28;01mraise\u001b[39;00m \u001b[38;5;167;01mKeyError\u001b[39;00m(key) \u001b[38;5;28;01mfrom\u001b[39;00m \u001b[38;5;21;01merr\u001b[39;00m\n\u001b[1;32m   3656\u001b[0m \u001b[38;5;28;01mexcept\u001b[39;00m \u001b[38;5;167;01mTypeError\u001b[39;00m:\n\u001b[1;32m   3657\u001b[0m     \u001b[38;5;66;03m# If we have a listlike key, _check_indexing_error will raise\u001b[39;00m\n\u001b[1;32m   3658\u001b[0m     \u001b[38;5;66;03m#  InvalidIndexError. Otherwise we fall through and re-raise\u001b[39;00m\n\u001b[1;32m   3659\u001b[0m     \u001b[38;5;66;03m#  the TypeError.\u001b[39;00m\n",
      "\u001b[0;31mKeyError\u001b[0m: 'feature_1'",
      "\nThe above exception was the direct cause of the following exception:\n",
      "\u001b[0;31mValueError\u001b[0m                                Traceback (most recent call last)",
      "Cell \u001b[0;32mIn[56], line 6\u001b[0m\n\u001b[1;32m      1\u001b[0m \u001b[38;5;66;03m# Pipeline with XGBoost\u001b[39;00m\n\u001b[1;32m      2\u001b[0m clf_pipeline \u001b[38;5;241m=\u001b[39m Pipeline(steps\u001b[38;5;241m=\u001b[39m[\n\u001b[1;32m      3\u001b[0m     (\u001b[38;5;124m'\u001b[39m\u001b[38;5;124mpreprocessor\u001b[39m\u001b[38;5;124m'\u001b[39m, preprocessor),\n\u001b[1;32m      4\u001b[0m     (\u001b[38;5;124m'\u001b[39m\u001b[38;5;124mclassifier\u001b[39m\u001b[38;5;124m'\u001b[39m, XGBClassifier(use_label_encoder\u001b[38;5;241m=\u001b[39m\u001b[38;5;28;01mFalse\u001b[39;00m, eval_metric\u001b[38;5;241m=\u001b[39m\u001b[38;5;124m'\u001b[39m\u001b[38;5;124mlogloss\u001b[39m\u001b[38;5;124m'\u001b[39m, random_state\u001b[38;5;241m=\u001b[39m\u001b[38;5;241m42\u001b[39m))\n\u001b[1;32m      5\u001b[0m ])\n\u001b[0;32m----> 6\u001b[0m \u001b[43mclf_pipeline\u001b[49m\u001b[38;5;241;43m.\u001b[39;49m\u001b[43mfit\u001b[49m\u001b[43m(\u001b[49m\u001b[43mX_train\u001b[49m\u001b[43m,\u001b[49m\u001b[43m \u001b[49m\u001b[43my_train\u001b[49m\u001b[43m)\u001b[49m\n\u001b[1;32m      7\u001b[0m \u001b[38;5;66;03m# Prediction\u001b[39;00m\n\u001b[1;32m      8\u001b[0m y_pred \u001b[38;5;241m=\u001b[39m clf_pipeline\u001b[38;5;241m.\u001b[39mpredict(X_test)\n",
      "File \u001b[0;32m~/.local/lib/python3.10/site-packages/sklearn/base.py:1474\u001b[0m, in \u001b[0;36m_fit_context.<locals>.decorator.<locals>.wrapper\u001b[0;34m(estimator, *args, **kwargs)\u001b[0m\n\u001b[1;32m   1467\u001b[0m     estimator\u001b[38;5;241m.\u001b[39m_validate_params()\n\u001b[1;32m   1469\u001b[0m \u001b[38;5;28;01mwith\u001b[39;00m config_context(\n\u001b[1;32m   1470\u001b[0m     skip_parameter_validation\u001b[38;5;241m=\u001b[39m(\n\u001b[1;32m   1471\u001b[0m         prefer_skip_nested_validation \u001b[38;5;129;01mor\u001b[39;00m global_skip_validation\n\u001b[1;32m   1472\u001b[0m     )\n\u001b[1;32m   1473\u001b[0m ):\n\u001b[0;32m-> 1474\u001b[0m     \u001b[38;5;28;01mreturn\u001b[39;00m \u001b[43mfit_method\u001b[49m\u001b[43m(\u001b[49m\u001b[43mestimator\u001b[49m\u001b[43m,\u001b[49m\u001b[43m \u001b[49m\u001b[38;5;241;43m*\u001b[39;49m\u001b[43margs\u001b[49m\u001b[43m,\u001b[49m\u001b[43m \u001b[49m\u001b[38;5;241;43m*\u001b[39;49m\u001b[38;5;241;43m*\u001b[39;49m\u001b[43mkwargs\u001b[49m\u001b[43m)\u001b[49m\n",
      "File \u001b[0;32m~/.local/lib/python3.10/site-packages/sklearn/pipeline.py:471\u001b[0m, in \u001b[0;36mPipeline.fit\u001b[0;34m(self, X, y, **params)\u001b[0m\n\u001b[1;32m    428\u001b[0m \u001b[38;5;250m\u001b[39m\u001b[38;5;124;03m\"\"\"Fit the model.\u001b[39;00m\n\u001b[1;32m    429\u001b[0m \n\u001b[1;32m    430\u001b[0m \u001b[38;5;124;03mFit all the transformers one after the other and sequentially transform the\u001b[39;00m\n\u001b[0;32m   (...)\u001b[0m\n\u001b[1;32m    468\u001b[0m \u001b[38;5;124;03m    Pipeline with fitted steps.\u001b[39;00m\n\u001b[1;32m    469\u001b[0m \u001b[38;5;124;03m\"\"\"\u001b[39;00m\n\u001b[1;32m    470\u001b[0m routed_params \u001b[38;5;241m=\u001b[39m \u001b[38;5;28mself\u001b[39m\u001b[38;5;241m.\u001b[39m_check_method_params(method\u001b[38;5;241m=\u001b[39m\u001b[38;5;124m\"\u001b[39m\u001b[38;5;124mfit\u001b[39m\u001b[38;5;124m\"\u001b[39m, props\u001b[38;5;241m=\u001b[39mparams)\n\u001b[0;32m--> 471\u001b[0m Xt \u001b[38;5;241m=\u001b[39m \u001b[38;5;28;43mself\u001b[39;49m\u001b[38;5;241;43m.\u001b[39;49m\u001b[43m_fit\u001b[49m\u001b[43m(\u001b[49m\u001b[43mX\u001b[49m\u001b[43m,\u001b[49m\u001b[43m \u001b[49m\u001b[43my\u001b[49m\u001b[43m,\u001b[49m\u001b[43m \u001b[49m\u001b[43mrouted_params\u001b[49m\u001b[43m)\u001b[49m\n\u001b[1;32m    472\u001b[0m \u001b[38;5;28;01mwith\u001b[39;00m _print_elapsed_time(\u001b[38;5;124m\"\u001b[39m\u001b[38;5;124mPipeline\u001b[39m\u001b[38;5;124m\"\u001b[39m, \u001b[38;5;28mself\u001b[39m\u001b[38;5;241m.\u001b[39m_log_message(\u001b[38;5;28mlen\u001b[39m(\u001b[38;5;28mself\u001b[39m\u001b[38;5;241m.\u001b[39msteps) \u001b[38;5;241m-\u001b[39m \u001b[38;5;241m1\u001b[39m)):\n\u001b[1;32m    473\u001b[0m     \u001b[38;5;28;01mif\u001b[39;00m \u001b[38;5;28mself\u001b[39m\u001b[38;5;241m.\u001b[39m_final_estimator \u001b[38;5;241m!=\u001b[39m \u001b[38;5;124m\"\u001b[39m\u001b[38;5;124mpassthrough\u001b[39m\u001b[38;5;124m\"\u001b[39m:\n",
      "File \u001b[0;32m~/.local/lib/python3.10/site-packages/sklearn/pipeline.py:408\u001b[0m, in \u001b[0;36mPipeline._fit\u001b[0;34m(self, X, y, routed_params)\u001b[0m\n\u001b[1;32m    406\u001b[0m     cloned_transformer \u001b[38;5;241m=\u001b[39m clone(transformer)\n\u001b[1;32m    407\u001b[0m \u001b[38;5;66;03m# Fit or load from cache the current transformer\u001b[39;00m\n\u001b[0;32m--> 408\u001b[0m X, fitted_transformer \u001b[38;5;241m=\u001b[39m \u001b[43mfit_transform_one_cached\u001b[49m\u001b[43m(\u001b[49m\n\u001b[1;32m    409\u001b[0m \u001b[43m    \u001b[49m\u001b[43mcloned_transformer\u001b[49m\u001b[43m,\u001b[49m\n\u001b[1;32m    410\u001b[0m \u001b[43m    \u001b[49m\u001b[43mX\u001b[49m\u001b[43m,\u001b[49m\n\u001b[1;32m    411\u001b[0m \u001b[43m    \u001b[49m\u001b[43my\u001b[49m\u001b[43m,\u001b[49m\n\u001b[1;32m    412\u001b[0m \u001b[43m    \u001b[49m\u001b[38;5;28;43;01mNone\u001b[39;49;00m\u001b[43m,\u001b[49m\n\u001b[1;32m    413\u001b[0m \u001b[43m    \u001b[49m\u001b[43mmessage_clsname\u001b[49m\u001b[38;5;241;43m=\u001b[39;49m\u001b[38;5;124;43m\"\u001b[39;49m\u001b[38;5;124;43mPipeline\u001b[39;49m\u001b[38;5;124;43m\"\u001b[39;49m\u001b[43m,\u001b[49m\n\u001b[1;32m    414\u001b[0m \u001b[43m    \u001b[49m\u001b[43mmessage\u001b[49m\u001b[38;5;241;43m=\u001b[39;49m\u001b[38;5;28;43mself\u001b[39;49m\u001b[38;5;241;43m.\u001b[39;49m\u001b[43m_log_message\u001b[49m\u001b[43m(\u001b[49m\u001b[43mstep_idx\u001b[49m\u001b[43m)\u001b[49m\u001b[43m,\u001b[49m\n\u001b[1;32m    415\u001b[0m \u001b[43m    \u001b[49m\u001b[43mparams\u001b[49m\u001b[38;5;241;43m=\u001b[39;49m\u001b[43mrouted_params\u001b[49m\u001b[43m[\u001b[49m\u001b[43mname\u001b[49m\u001b[43m]\u001b[49m\u001b[43m,\u001b[49m\n\u001b[1;32m    416\u001b[0m \u001b[43m\u001b[49m\u001b[43m)\u001b[49m\n\u001b[1;32m    417\u001b[0m \u001b[38;5;66;03m# Replace the transformer of the step with the fitted\u001b[39;00m\n\u001b[1;32m    418\u001b[0m \u001b[38;5;66;03m# transformer. This is necessary when loading the transformer\u001b[39;00m\n\u001b[1;32m    419\u001b[0m \u001b[38;5;66;03m# from the cache.\u001b[39;00m\n\u001b[1;32m    420\u001b[0m \u001b[38;5;28mself\u001b[39m\u001b[38;5;241m.\u001b[39msteps[step_idx] \u001b[38;5;241m=\u001b[39m (name, fitted_transformer)\n",
      "File \u001b[0;32m~/.local/lib/python3.10/site-packages/joblib/memory.py:353\u001b[0m, in \u001b[0;36mNotMemorizedFunc.__call__\u001b[0;34m(self, *args, **kwargs)\u001b[0m\n\u001b[1;32m    352\u001b[0m \u001b[38;5;28;01mdef\u001b[39;00m \u001b[38;5;21m__call__\u001b[39m(\u001b[38;5;28mself\u001b[39m, \u001b[38;5;241m*\u001b[39margs, \u001b[38;5;241m*\u001b[39m\u001b[38;5;241m*\u001b[39mkwargs):\n\u001b[0;32m--> 353\u001b[0m     \u001b[38;5;28;01mreturn\u001b[39;00m \u001b[38;5;28;43mself\u001b[39;49m\u001b[38;5;241;43m.\u001b[39;49m\u001b[43mfunc\u001b[49m\u001b[43m(\u001b[49m\u001b[38;5;241;43m*\u001b[39;49m\u001b[43margs\u001b[49m\u001b[43m,\u001b[49m\u001b[43m \u001b[49m\u001b[38;5;241;43m*\u001b[39;49m\u001b[38;5;241;43m*\u001b[39;49m\u001b[43mkwargs\u001b[49m\u001b[43m)\u001b[49m\n",
      "File \u001b[0;32m~/.local/lib/python3.10/site-packages/sklearn/pipeline.py:1303\u001b[0m, in \u001b[0;36m_fit_transform_one\u001b[0;34m(transformer, X, y, weight, message_clsname, message, params)\u001b[0m\n\u001b[1;32m   1301\u001b[0m \u001b[38;5;28;01mwith\u001b[39;00m _print_elapsed_time(message_clsname, message):\n\u001b[1;32m   1302\u001b[0m     \u001b[38;5;28;01mif\u001b[39;00m \u001b[38;5;28mhasattr\u001b[39m(transformer, \u001b[38;5;124m\"\u001b[39m\u001b[38;5;124mfit_transform\u001b[39m\u001b[38;5;124m\"\u001b[39m):\n\u001b[0;32m-> 1303\u001b[0m         res \u001b[38;5;241m=\u001b[39m \u001b[43mtransformer\u001b[49m\u001b[38;5;241;43m.\u001b[39;49m\u001b[43mfit_transform\u001b[49m\u001b[43m(\u001b[49m\u001b[43mX\u001b[49m\u001b[43m,\u001b[49m\u001b[43m \u001b[49m\u001b[43my\u001b[49m\u001b[43m,\u001b[49m\u001b[43m \u001b[49m\u001b[38;5;241;43m*\u001b[39;49m\u001b[38;5;241;43m*\u001b[39;49m\u001b[43mparams\u001b[49m\u001b[38;5;241;43m.\u001b[39;49m\u001b[43mget\u001b[49m\u001b[43m(\u001b[49m\u001b[38;5;124;43m\"\u001b[39;49m\u001b[38;5;124;43mfit_transform\u001b[39;49m\u001b[38;5;124;43m\"\u001b[39;49m\u001b[43m,\u001b[49m\u001b[43m \u001b[49m\u001b[43m{\u001b[49m\u001b[43m}\u001b[49m\u001b[43m)\u001b[49m\u001b[43m)\u001b[49m\n\u001b[1;32m   1304\u001b[0m     \u001b[38;5;28;01melse\u001b[39;00m:\n\u001b[1;32m   1305\u001b[0m         res \u001b[38;5;241m=\u001b[39m transformer\u001b[38;5;241m.\u001b[39mfit(X, y, \u001b[38;5;241m*\u001b[39m\u001b[38;5;241m*\u001b[39mparams\u001b[38;5;241m.\u001b[39mget(\u001b[38;5;124m\"\u001b[39m\u001b[38;5;124mfit\u001b[39m\u001b[38;5;124m\"\u001b[39m, {}))\u001b[38;5;241m.\u001b[39mtransform(\n\u001b[1;32m   1306\u001b[0m             X, \u001b[38;5;241m*\u001b[39m\u001b[38;5;241m*\u001b[39mparams\u001b[38;5;241m.\u001b[39mget(\u001b[38;5;124m\"\u001b[39m\u001b[38;5;124mtransform\u001b[39m\u001b[38;5;124m\"\u001b[39m, {})\n\u001b[1;32m   1307\u001b[0m         )\n",
      "File \u001b[0;32m~/.local/lib/python3.10/site-packages/sklearn/utils/_set_output.py:295\u001b[0m, in \u001b[0;36m_wrap_method_output.<locals>.wrapped\u001b[0;34m(self, X, *args, **kwargs)\u001b[0m\n\u001b[1;32m    293\u001b[0m \u001b[38;5;129m@wraps\u001b[39m(f)\n\u001b[1;32m    294\u001b[0m \u001b[38;5;28;01mdef\u001b[39;00m \u001b[38;5;21mwrapped\u001b[39m(\u001b[38;5;28mself\u001b[39m, X, \u001b[38;5;241m*\u001b[39margs, \u001b[38;5;241m*\u001b[39m\u001b[38;5;241m*\u001b[39mkwargs):\n\u001b[0;32m--> 295\u001b[0m     data_to_wrap \u001b[38;5;241m=\u001b[39m \u001b[43mf\u001b[49m\u001b[43m(\u001b[49m\u001b[38;5;28;43mself\u001b[39;49m\u001b[43m,\u001b[49m\u001b[43m \u001b[49m\u001b[43mX\u001b[49m\u001b[43m,\u001b[49m\u001b[43m \u001b[49m\u001b[38;5;241;43m*\u001b[39;49m\u001b[43margs\u001b[49m\u001b[43m,\u001b[49m\u001b[43m \u001b[49m\u001b[38;5;241;43m*\u001b[39;49m\u001b[38;5;241;43m*\u001b[39;49m\u001b[43mkwargs\u001b[49m\u001b[43m)\u001b[49m\n\u001b[1;32m    296\u001b[0m     \u001b[38;5;28;01mif\u001b[39;00m \u001b[38;5;28misinstance\u001b[39m(data_to_wrap, \u001b[38;5;28mtuple\u001b[39m):\n\u001b[1;32m    297\u001b[0m         \u001b[38;5;66;03m# only wrap the first output for cross decomposition\u001b[39;00m\n\u001b[1;32m    298\u001b[0m         return_tuple \u001b[38;5;241m=\u001b[39m (\n\u001b[1;32m    299\u001b[0m             _wrap_data_with_container(method, data_to_wrap[\u001b[38;5;241m0\u001b[39m], X, \u001b[38;5;28mself\u001b[39m),\n\u001b[1;32m    300\u001b[0m             \u001b[38;5;241m*\u001b[39mdata_to_wrap[\u001b[38;5;241m1\u001b[39m:],\n\u001b[1;32m    301\u001b[0m         )\n",
      "File \u001b[0;32m~/.local/lib/python3.10/site-packages/sklearn/base.py:1474\u001b[0m, in \u001b[0;36m_fit_context.<locals>.decorator.<locals>.wrapper\u001b[0;34m(estimator, *args, **kwargs)\u001b[0m\n\u001b[1;32m   1467\u001b[0m     estimator\u001b[38;5;241m.\u001b[39m_validate_params()\n\u001b[1;32m   1469\u001b[0m \u001b[38;5;28;01mwith\u001b[39;00m config_context(\n\u001b[1;32m   1470\u001b[0m     skip_parameter_validation\u001b[38;5;241m=\u001b[39m(\n\u001b[1;32m   1471\u001b[0m         prefer_skip_nested_validation \u001b[38;5;129;01mor\u001b[39;00m global_skip_validation\n\u001b[1;32m   1472\u001b[0m     )\n\u001b[1;32m   1473\u001b[0m ):\n\u001b[0;32m-> 1474\u001b[0m     \u001b[38;5;28;01mreturn\u001b[39;00m \u001b[43mfit_method\u001b[49m\u001b[43m(\u001b[49m\u001b[43mestimator\u001b[49m\u001b[43m,\u001b[49m\u001b[43m \u001b[49m\u001b[38;5;241;43m*\u001b[39;49m\u001b[43margs\u001b[49m\u001b[43m,\u001b[49m\u001b[43m \u001b[49m\u001b[38;5;241;43m*\u001b[39;49m\u001b[38;5;241;43m*\u001b[39;49m\u001b[43mkwargs\u001b[49m\u001b[43m)\u001b[49m\n",
      "File \u001b[0;32m~/.local/lib/python3.10/site-packages/sklearn/compose/_column_transformer.py:906\u001b[0m, in \u001b[0;36mColumnTransformer.fit_transform\u001b[0;34m(self, X, y, **params)\u001b[0m\n\u001b[1;32m    903\u001b[0m \u001b[38;5;28mself\u001b[39m\u001b[38;5;241m.\u001b[39m_validate_transformers()\n\u001b[1;32m    904\u001b[0m n_samples \u001b[38;5;241m=\u001b[39m _num_samples(X)\n\u001b[0;32m--> 906\u001b[0m \u001b[38;5;28;43mself\u001b[39;49m\u001b[38;5;241;43m.\u001b[39;49m\u001b[43m_validate_column_callables\u001b[49m\u001b[43m(\u001b[49m\u001b[43mX\u001b[49m\u001b[43m)\u001b[49m\n\u001b[1;32m    907\u001b[0m \u001b[38;5;28mself\u001b[39m\u001b[38;5;241m.\u001b[39m_validate_remainder(X)\n\u001b[1;32m    909\u001b[0m \u001b[38;5;28;01mif\u001b[39;00m _routing_enabled():\n",
      "File \u001b[0;32m~/.local/lib/python3.10/site-packages/sklearn/compose/_column_transformer.py:496\u001b[0m, in \u001b[0;36mColumnTransformer._validate_column_callables\u001b[0;34m(self, X)\u001b[0m\n\u001b[1;32m    494\u001b[0m         columns \u001b[38;5;241m=\u001b[39m columns(X)\n\u001b[1;32m    495\u001b[0m     all_columns\u001b[38;5;241m.\u001b[39mappend(columns)\n\u001b[0;32m--> 496\u001b[0m     transformer_to_input_indices[name] \u001b[38;5;241m=\u001b[39m \u001b[43m_get_column_indices\u001b[49m\u001b[43m(\u001b[49m\u001b[43mX\u001b[49m\u001b[43m,\u001b[49m\u001b[43m \u001b[49m\u001b[43mcolumns\u001b[49m\u001b[43m)\u001b[49m\n\u001b[1;32m    498\u001b[0m \u001b[38;5;28mself\u001b[39m\u001b[38;5;241m.\u001b[39m_columns \u001b[38;5;241m=\u001b[39m all_columns\n\u001b[1;32m    499\u001b[0m \u001b[38;5;28mself\u001b[39m\u001b[38;5;241m.\u001b[39m_transformer_to_input_indices \u001b[38;5;241m=\u001b[39m transformer_to_input_indices\n",
      "File \u001b[0;32m~/.local/lib/python3.10/site-packages/sklearn/utils/__init__.py:513\u001b[0m, in \u001b[0;36m_get_column_indices\u001b[0;34m(X, key)\u001b[0m\n\u001b[1;32m    510\u001b[0m         column_indices\u001b[38;5;241m.\u001b[39mappend(col_idx)\n\u001b[1;32m    512\u001b[0m \u001b[38;5;28;01mexcept\u001b[39;00m \u001b[38;5;167;01mKeyError\u001b[39;00m \u001b[38;5;28;01mas\u001b[39;00m e:\n\u001b[0;32m--> 513\u001b[0m     \u001b[38;5;28;01mraise\u001b[39;00m \u001b[38;5;167;01mValueError\u001b[39;00m(\u001b[38;5;124m\"\u001b[39m\u001b[38;5;124mA given column is not a column of the dataframe\u001b[39m\u001b[38;5;124m\"\u001b[39m) \u001b[38;5;28;01mfrom\u001b[39;00m \u001b[38;5;21;01me\u001b[39;00m\n\u001b[1;32m    515\u001b[0m \u001b[38;5;28;01mreturn\u001b[39;00m column_indices\n",
      "\u001b[0;31mValueError\u001b[0m: A given column is not a column of the dataframe"
     ]
    }
   ],
   "source": [
    "# Pipeline with XGBoost\n",
    "clf_pipeline = Pipeline(steps=[\n",
    "    ('preprocessor', preprocessor),\n",
    "    ('classifier', XGBClassifier(use_label_encoder=False, eval_metric='logloss', random_state=42))\n",
    "])\n",
    "\n",
    "clf_pipeline.fit(X_train, y_train)\n",
    "# Prediction\n",
    "y_pred = clf_pipeline.predict(X_test)"
   ]
  },
  {
   "cell_type": "code",
   "execution_count": null,
   "id": "bcfc5eaa",
   "metadata": {},
   "outputs": [],
   "source": [
    "# Pipeline with XGBoost\n",
    "clf_pipeline = Pipeline(steps=[\n",
    "    ('preprocessor', preprocessor),\n",
    "    ('classifier', XGBClassifier(use_label_encoder=False, eval_metric='logloss', random_state=42))\n",
    "])\n",
    "clf_pipeline.fit(X_train, y_train)\n",
    "# Prediction\n",
    "y_pred = clf_pipeline.predict(X_test)"
   ]
  },
  {
   "cell_type": "code",
   "execution_count": null,
   "id": "4a7e9905",
   "metadata": {},
   "outputs": [],
   "source": [
    "#Comparaison between the original and the fair dataset"
   ]
  },
  {
   "cell_type": "code",
   "execution_count": 60,
   "id": "c2fc082f",
   "metadata": {},
   "outputs": [
    {
     "name": "stderr",
     "output_type": "stream",
     "text": [
      "WARNING:root:Missing Data: 3620 rows removed from AdultDataset.\n"
     ]
    },
    {
     "name": "stdout",
     "output_type": "stream",
     "text": [
      "Accuracy: 1.0\n",
      "Classification Report:\n",
      "               precision    recall  f1-score   support\n",
      "\n",
      "           0       1.00      1.00      1.00      9045\n",
      "\n",
      "    accuracy                           1.00      9045\n",
      "   macro avg       1.00      1.00      1.00      9045\n",
      "weighted avg       1.00      1.00      1.00      9045\n",
      "\n"
     ]
    },
    {
     "name": "stderr",
     "output_type": "stream",
     "text": [
      "/home/plouis/.local/lib/python3.10/site-packages/xgboost/core.py:158: UserWarning: [12:54:43] WARNING: /workspace/src/learner.cc:740: \n",
      "Parameters: { \"use_label_encoder\" } are not used.\n",
      "\n",
      "  warnings.warn(smsg, UserWarning)\n"
     ]
    }
   ],
   "source": [
    "from aif360.datasets import AdultDataset\n",
    "from xgboost import XGBClassifier\n",
    "from sklearn.model_selection import train_test_split\n",
    "from sklearn.metrics import accuracy_score, classification_report\n",
    "from sklearn.pipeline import Pipeline\n",
    "from sklearn.compose import ColumnTransformer\n",
    "from sklearn.preprocessing import OneHotEncoder, StandardScaler\n",
    "from aif360.algorithms.preprocessing import Reweighing\n",
    "\n",
    "# Define the custom preprocessing function\n",
    "def custom_preprocessing(df):\n",
    "    median_age = df['age'].median()\n",
    "    df['age_binary'] = df['age'].apply(lambda x: 1 if x <= median_age else 0)\n",
    "    df = df.drop('age', axis=1)\n",
    "    return df\n",
    "\n",
    "# Load the dataset with the custom preprocessing\n",
    "dataset_orig = AdultDataset(\n",
    "    custom_preprocessing=custom_preprocessing,\n",
    "    protected_attribute_names=['age_binary', 'sex', 'race'], \n",
    "    privileged_classes=[[1], ['Male'], ['White']]\n",
    ")\n",
    "\n",
    "privileged_groups = [{'age_binary': 1, 'sex': 1}]  # Old males\n",
    "unprivileged_groups = [{'age_binary': 0, 'sex': 0}]  # Young females\n",
    "RW = Reweighing(unprivileged_groups=unprivileged_groups,\n",
    "                privileged_groups=privileged_groups)\n",
    "dataset_transf_train = RW.fit_transform(dataset_orig)\n",
    "\n",
    "# Convert dataset to pandas DataFrame for compatibility with sklearn pipeline\n",
    "df, _ = dataset_transf_train.convert_to_dataframe()\n",
    "\n",
    "# Separate features (X) and target variable (y)\n",
    "X = df.drop(columns=['income-per-year'])  # Replace 'income-per-year' with the actual target column name\n",
    "y = df['income-per-year'].apply(lambda x: 1 if x == '>50K' else 0)  # Binary encoding for target variable\n",
    "\n",
    "# Define preprocessing steps\n",
    "numerical_features = X.select_dtypes(include=['int64', 'float64']).columns\n",
    "categorical_features = X.select_dtypes(include=['object']).columns\n",
    "\n",
    "preprocessor = ColumnTransformer(\n",
    "    transformers=[\n",
    "        ('num', StandardScaler(), numerical_features),\n",
    "        ('cat', OneHotEncoder(handle_unknown='ignore'), categorical_features)\n",
    "    ]\n",
    ")\n",
    "\n",
    "# Define pipeline with preprocessing and XGBClassifier\n",
    "clf_pipeline = Pipeline(steps=[\n",
    "    ('preprocessor', preprocessor),\n",
    "    ('classifier', XGBClassifier(use_label_encoder=False, eval_metric='logloss', random_state=42))\n",
    "])\n",
    "\n",
    "# Split the data\n",
    "X_train, X_test, y_train, y_test = train_test_split(\n",
    "    X, y, test_size=0.2, random_state=42, stratify=y\n",
    ")\n",
    "\n",
    "# Train the pipeline\n",
    "clf_pipeline.fit(X_train, y_train)\n",
    "\n",
    "# Make predictions\n",
    "y_pred = clf_pipeline.predict(X_test)\n",
    "\n",
    "# Evaluate the model\n",
    "print(\"Accuracy:\", accuracy_score(y_test, y_pred))\n",
    "print(\"Classification Report:\\n\", classification_report(y_test, y_pred))\n"
   ]
  }
 ],
 "metadata": {
  "kernelspec": {
   "display_name": "Python 3",
   "language": "python",
   "name": "python3"
  },
  "language_info": {
   "codemirror_mode": {
    "name": "ipython",
    "version": 3
   },
   "file_extension": ".py",
   "mimetype": "text/x-python",
   "name": "python",
   "nbconvert_exporter": "python",
   "pygments_lexer": "ipython3",
   "version": "3.10.12"
  }
 },
 "nbformat": 4,
 "nbformat_minor": 5
}

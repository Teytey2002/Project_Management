{
 "cells": [
  {
   "cell_type": "code",
   "id": "initial_id",
   "metadata": {
    "collapsed": true,
    "ExecuteTime": {
     "end_time": "2024-12-09T15:32:56.310202Z",
     "start_time": "2024-12-09T15:32:56.305148Z"
    }
   },
   "source": [
    "import numpy as np\n",
    "import pandas as pd\n",
    "from sklearn.metrics import classification_report, accuracy_score, confusion_matrix\n",
    "import sklearn\n",
    "from omnixai.data.tabular import Tabular\n",
    "from omnixai.preprocessing.tabular import TabularTransform\n",
    "from omnixai.explainers.tabular import TabularExplainer\n",
    "import shap\n",
    "import joblib"
   ],
   "outputs": [],
   "execution_count": 30
  },
  {
   "metadata": {},
   "cell_type": "markdown",
   "source": [
    "Assuming model, test_data, test_labels, and original_data are already defined\n",
    "\n",
    "Instantiate and fit the transformer"
   ],
   "id": "632fe28d81791ba5"
  },
  {
   "metadata": {
    "ExecuteTime": {
     "end_time": "2024-12-09T15:37:54.332374Z",
     "start_time": "2024-12-09T15:37:53.781360Z"
    }
   },
   "cell_type": "code",
   "source": [
    "\n",
    "model = joblib.load('xgb_model.pkl')\n",
    "df_private = joblib.load('df_private.pkl')\n",
    "# Ensure the data types are correct\n",
    "\n",
    "tabular_data = Tabular(\n",
    "    df_private,\n",
    "    categorical_columns=[\n",
    "        \"education-num\", \"race\", \"sex\", \"capital-gain\", \"capital-loss\", \"hours-per-week\",\n",
    "        \"workclass=Federal-gov\", \"workclass=Local-gov\", \"workclass=Private\",\n",
    "        \"workclass=Self-emp-inc\", \"native-country=Taiwan\", \"native-country=Thailand\",\n",
    "        \"native-country=Trinadad&Tobago\", \"native-country=United-States\",\n",
    "        \"native-country=Vietnam\", \"native-country=Yugoslavia\", \"age_binary\", \"sex_private\"\n",
    "    ],\n",
    "    target_column='income-per-year'\n",
    ")\n",
    "transformer = TabularTransform().fit(tabular_data)\n",
    "x = transformer.transform(tabular_data)\n",
    "train, test, train_labels, test_labels = \\\n",
    "    sklearn.model_selection.train_test_split(x[:, :-1], x[:, -1], train_size=0.70,random_state = 1234)\n",
    "train_data = transformer.invert(train)\n"
   ],
   "id": "a34cf9adde5f6ca0",
   "outputs": [],
   "execution_count": 35
  },
  {
   "metadata": {},
   "cell_type": "markdown",
   "source": "Step 1: Identify misclassified and confident instances",
   "id": "349aa93c293af85"
  },
  {
   "metadata": {
    "ExecuteTime": {
     "end_time": "2024-12-09T15:37:56.934430Z",
     "start_time": "2024-12-09T15:37:56.896187Z"
    }
   },
   "cell_type": "code",
   "source": [
    "selected_features = [\"education-num\", \"race\", \"sex\", \"capital-gain\", \"capital-loss\", \"hours-per-week\"]\n",
    "train_data_selected = train_data[selected_features]\n",
    "explainers = TabularExplainer(\n",
    "    explainers=[\"ale\", \"shap_global\"],                 # The explainers to apply\n",
    "    mode=\"classification\",                             # The task type\n",
    "    data=train_data_selected,                                   # The data for initializing the explainers\n",
    "    model=model,                                       # The ML model to explain\n",
    "    preprocess=lambda z: transformer.transform(z[selected_features])  # Converts raw features into the model inputs\n",
    ")\n",
    "global_explanations = explainers.explain_global()\n"
   ],
   "id": "7ab805fcd1c51f03",
   "outputs": [
    {
     "ename": "ValueError",
     "evalue": "invalid literal for int() with base 10: 'education-num'",
     "output_type": "error",
     "traceback": [
      "\u001B[1;31m---------------------------------------------------------------------------\u001B[0m",
      "\u001B[1;31mValueError\u001B[0m                                Traceback (most recent call last)",
      "\u001B[1;32m~\\AppData\\Local\\Temp\\ipykernel_17160\\1413821640.py\u001B[0m in \u001B[0;36m?\u001B[1;34m()\u001B[0m\n\u001B[0;32m      1\u001B[0m \u001B[0mselected_features\u001B[0m \u001B[1;33m=\u001B[0m \u001B[1;33m[\u001B[0m\u001B[1;34m\"education-num\"\u001B[0m\u001B[1;33m,\u001B[0m \u001B[1;34m\"race\"\u001B[0m\u001B[1;33m,\u001B[0m \u001B[1;34m\"sex\"\u001B[0m\u001B[1;33m,\u001B[0m \u001B[1;34m\"capital-gain\"\u001B[0m\u001B[1;33m,\u001B[0m \u001B[1;34m\"capital-loss\"\u001B[0m\u001B[1;33m,\u001B[0m \u001B[1;34m\"hours-per-week\"\u001B[0m\u001B[1;33m]\u001B[0m\u001B[1;33m\u001B[0m\u001B[1;33m\u001B[0m\u001B[0m\n\u001B[1;32m----> 2\u001B[1;33m \u001B[0mtrain_data_selected\u001B[0m \u001B[1;33m=\u001B[0m \u001B[0mtrain_data\u001B[0m\u001B[1;33m[\u001B[0m\u001B[0mselected_features\u001B[0m\u001B[1;33m]\u001B[0m\u001B[1;33m\u001B[0m\u001B[1;33m\u001B[0m\u001B[0m\n\u001B[0m\u001B[0;32m      3\u001B[0m explainers = TabularExplainer(\n\u001B[0;32m      4\u001B[0m     \u001B[0mexplainers\u001B[0m\u001B[1;33m=\u001B[0m\u001B[1;33m[\u001B[0m\u001B[1;34m\"ale\"\u001B[0m\u001B[1;33m,\u001B[0m \u001B[1;34m\"shap_global\"\u001B[0m\u001B[1;33m]\u001B[0m\u001B[1;33m,\u001B[0m                 \u001B[1;31m# The explainers to apply\u001B[0m\u001B[1;33m\u001B[0m\u001B[1;33m\u001B[0m\u001B[0m\n\u001B[0;32m      5\u001B[0m     \u001B[0mmode\u001B[0m\u001B[1;33m=\u001B[0m\u001B[1;34m\"classification\"\u001B[0m\u001B[1;33m,\u001B[0m                             \u001B[1;31m# The task type\u001B[0m\u001B[1;33m\u001B[0m\u001B[1;33m\u001B[0m\u001B[0m\n",
      "\u001B[1;32m~\\PycharmProjects\\Project_Management\\.venv\\Lib\\site-packages\\omnixai\\data\\tabular.py\u001B[0m in \u001B[0;36m?\u001B[1;34m(self, i)\u001B[0m\n\u001B[0;32m    102\u001B[0m             \u001B[0mindices\u001B[0m \u001B[1;33m=\u001B[0m \u001B[0mi\u001B[0m\u001B[1;33m\u001B[0m\u001B[1;33m\u001B[0m\u001B[0m\n\u001B[0;32m    103\u001B[0m         \u001B[1;32melse\u001B[0m\u001B[1;33m:\u001B[0m\u001B[1;33m\u001B[0m\u001B[1;33m\u001B[0m\u001B[0m\n\u001B[0;32m    104\u001B[0m             \u001B[1;32mraise\u001B[0m \u001B[0mKeyError\u001B[0m\u001B[1;33m(\u001B[0m\u001B[1;34mf\"Indexing a `Tabular` with key {i} of \"\u001B[0m \u001B[1;34mf\"type {type(i).__name__} is not supported.\"\u001B[0m\u001B[1;33m)\u001B[0m\u001B[1;33m\u001B[0m\u001B[1;33m\u001B[0m\u001B[0m\n\u001B[0;32m    105\u001B[0m         return Tabular(\n\u001B[1;32m--> 106\u001B[1;33m             \u001B[0mdata\u001B[0m\u001B[1;33m=\u001B[0m\u001B[0mself\u001B[0m\u001B[1;33m.\u001B[0m\u001B[0mdata\u001B[0m\u001B[1;33m.\u001B[0m\u001B[0miloc\u001B[0m\u001B[1;33m[\u001B[0m\u001B[0mindices\u001B[0m\u001B[1;33m]\u001B[0m\u001B[1;33m,\u001B[0m \u001B[0mcategorical_columns\u001B[0m\u001B[1;33m=\u001B[0m\u001B[0mself\u001B[0m\u001B[1;33m.\u001B[0m\u001B[0mcategorical_columns\u001B[0m\u001B[1;33m,\u001B[0m \u001B[0mtarget_column\u001B[0m\u001B[1;33m=\u001B[0m\u001B[0mself\u001B[0m\u001B[1;33m.\u001B[0m\u001B[0mtarget_column\u001B[0m\u001B[1;33m\u001B[0m\u001B[1;33m\u001B[0m\u001B[0m\n\u001B[0m\u001B[0;32m    107\u001B[0m         )\n",
      "\u001B[1;32m~\\PycharmProjects\\Project_Management\\.venv\\Lib\\site-packages\\pandas\\core\\indexing.py\u001B[0m in \u001B[0;36m?\u001B[1;34m(self, key)\u001B[0m\n\u001B[0;32m   1187\u001B[0m             \u001B[0maxis\u001B[0m \u001B[1;33m=\u001B[0m \u001B[0mself\u001B[0m\u001B[1;33m.\u001B[0m\u001B[0maxis\u001B[0m \u001B[1;32mor\u001B[0m \u001B[1;36m0\u001B[0m\u001B[1;33m\u001B[0m\u001B[1;33m\u001B[0m\u001B[0m\n\u001B[0;32m   1188\u001B[0m \u001B[1;33m\u001B[0m\u001B[0m\n\u001B[0;32m   1189\u001B[0m             \u001B[0mmaybe_callable\u001B[0m \u001B[1;33m=\u001B[0m \u001B[0mcom\u001B[0m\u001B[1;33m.\u001B[0m\u001B[0mapply_if_callable\u001B[0m\u001B[1;33m(\u001B[0m\u001B[0mkey\u001B[0m\u001B[1;33m,\u001B[0m \u001B[0mself\u001B[0m\u001B[1;33m.\u001B[0m\u001B[0mobj\u001B[0m\u001B[1;33m)\u001B[0m\u001B[1;33m\u001B[0m\u001B[1;33m\u001B[0m\u001B[0m\n\u001B[0;32m   1190\u001B[0m             \u001B[0mmaybe_callable\u001B[0m \u001B[1;33m=\u001B[0m \u001B[0mself\u001B[0m\u001B[1;33m.\u001B[0m\u001B[0m_check_deprecated_callable_usage\u001B[0m\u001B[1;33m(\u001B[0m\u001B[0mkey\u001B[0m\u001B[1;33m,\u001B[0m \u001B[0mmaybe_callable\u001B[0m\u001B[1;33m)\u001B[0m\u001B[1;33m\u001B[0m\u001B[1;33m\u001B[0m\u001B[0m\n\u001B[1;32m-> 1191\u001B[1;33m             \u001B[1;32mreturn\u001B[0m \u001B[0mself\u001B[0m\u001B[1;33m.\u001B[0m\u001B[0m_getitem_axis\u001B[0m\u001B[1;33m(\u001B[0m\u001B[0mmaybe_callable\u001B[0m\u001B[1;33m,\u001B[0m \u001B[0maxis\u001B[0m\u001B[1;33m=\u001B[0m\u001B[0maxis\u001B[0m\u001B[1;33m)\u001B[0m\u001B[1;33m\u001B[0m\u001B[1;33m\u001B[0m\u001B[0m\n\u001B[0m",
      "\u001B[1;32m~\\PycharmProjects\\Project_Management\\.venv\\Lib\\site-packages\\pandas\\core\\indexing.py\u001B[0m in \u001B[0;36m?\u001B[1;34m(self, key, axis)\u001B[0m\n\u001B[0;32m   1739\u001B[0m             \u001B[1;32mreturn\u001B[0m \u001B[0mself\u001B[0m\u001B[1;33m.\u001B[0m\u001B[0m_getbool_axis\u001B[0m\u001B[1;33m(\u001B[0m\u001B[0mkey\u001B[0m\u001B[1;33m,\u001B[0m \u001B[0maxis\u001B[0m\u001B[1;33m=\u001B[0m\u001B[0maxis\u001B[0m\u001B[1;33m)\u001B[0m\u001B[1;33m\u001B[0m\u001B[1;33m\u001B[0m\u001B[0m\n\u001B[0;32m   1740\u001B[0m \u001B[1;33m\u001B[0m\u001B[0m\n\u001B[0;32m   1741\u001B[0m         \u001B[1;31m# a list of integers\u001B[0m\u001B[1;33m\u001B[0m\u001B[1;33m\u001B[0m\u001B[0m\n\u001B[0;32m   1742\u001B[0m         \u001B[1;32melif\u001B[0m \u001B[0mis_list_like_indexer\u001B[0m\u001B[1;33m(\u001B[0m\u001B[0mkey\u001B[0m\u001B[1;33m)\u001B[0m\u001B[1;33m:\u001B[0m\u001B[1;33m\u001B[0m\u001B[1;33m\u001B[0m\u001B[0m\n\u001B[1;32m-> 1743\u001B[1;33m             \u001B[1;32mreturn\u001B[0m \u001B[0mself\u001B[0m\u001B[1;33m.\u001B[0m\u001B[0m_get_list_axis\u001B[0m\u001B[1;33m(\u001B[0m\u001B[0mkey\u001B[0m\u001B[1;33m,\u001B[0m \u001B[0maxis\u001B[0m\u001B[1;33m=\u001B[0m\u001B[0maxis\u001B[0m\u001B[1;33m)\u001B[0m\u001B[1;33m\u001B[0m\u001B[1;33m\u001B[0m\u001B[0m\n\u001B[0m\u001B[0;32m   1744\u001B[0m \u001B[1;33m\u001B[0m\u001B[0m\n\u001B[0;32m   1745\u001B[0m         \u001B[1;31m# a single integer\u001B[0m\u001B[1;33m\u001B[0m\u001B[1;33m\u001B[0m\u001B[0m\n\u001B[0;32m   1746\u001B[0m         \u001B[1;32melse\u001B[0m\u001B[1;33m:\u001B[0m\u001B[1;33m\u001B[0m\u001B[1;33m\u001B[0m\u001B[0m\n",
      "\u001B[1;32m~\\PycharmProjects\\Project_Management\\.venv\\Lib\\site-packages\\pandas\\core\\indexing.py\u001B[0m in \u001B[0;36m?\u001B[1;34m(self, key, axis)\u001B[0m\n\u001B[0;32m   1711\u001B[0m         \u001B[0;31m`\u001B[0m\u001B[0maxis\u001B[0m\u001B[0;31m`\u001B[0m \u001B[0mcan\u001B[0m \u001B[0monly\u001B[0m \u001B[0mbe\u001B[0m \u001B[0mzero\u001B[0m\u001B[1;33m.\u001B[0m\u001B[1;33m\u001B[0m\u001B[1;33m\u001B[0m\u001B[0m\n\u001B[0;32m   1712\u001B[0m         \"\"\"\n\u001B[0;32m   1713\u001B[0m         \u001B[1;32mtry\u001B[0m\u001B[1;33m:\u001B[0m\u001B[1;33m\u001B[0m\u001B[1;33m\u001B[0m\u001B[0m\n\u001B[0;32m   1714\u001B[0m             \u001B[1;32mreturn\u001B[0m \u001B[0mself\u001B[0m\u001B[1;33m.\u001B[0m\u001B[0mobj\u001B[0m\u001B[1;33m.\u001B[0m\u001B[0m_take_with_is_copy\u001B[0m\u001B[1;33m(\u001B[0m\u001B[0mkey\u001B[0m\u001B[1;33m,\u001B[0m \u001B[0maxis\u001B[0m\u001B[1;33m=\u001B[0m\u001B[0maxis\u001B[0m\u001B[1;33m)\u001B[0m\u001B[1;33m\u001B[0m\u001B[1;33m\u001B[0m\u001B[0m\n\u001B[1;32m-> 1715\u001B[1;33m         \u001B[1;32mexcept\u001B[0m \u001B[0mIndexError\u001B[0m \u001B[1;32mas\u001B[0m \u001B[0merr\u001B[0m\u001B[1;33m:\u001B[0m\u001B[1;33m\u001B[0m\u001B[1;33m\u001B[0m\u001B[0m\n\u001B[0m\u001B[0;32m   1716\u001B[0m             \u001B[1;31m# re-raise with different error message, e.g. test_getitem_ndarray_3d\u001B[0m\u001B[1;33m\u001B[0m\u001B[1;33m\u001B[0m\u001B[0m\n\u001B[0;32m   1717\u001B[0m             \u001B[1;32mraise\u001B[0m \u001B[0mIndexError\u001B[0m\u001B[1;33m(\u001B[0m\u001B[1;34m\"positional indexers are out-of-bounds\"\u001B[0m\u001B[1;33m)\u001B[0m \u001B[1;32mfrom\u001B[0m \u001B[0merr\u001B[0m\u001B[1;33m\u001B[0m\u001B[1;33m\u001B[0m\u001B[0m\n",
      "\u001B[1;32m~\\PycharmProjects\\Project_Management\\.venv\\Lib\\site-packages\\pandas\\core\\generic.py\u001B[0m in \u001B[0;36m?\u001B[1;34m(self, indices, axis)\u001B[0m\n\u001B[0;32m   4149\u001B[0m         \u001B[0mFor\u001B[0m \u001B[0mSeries\u001B[0m \u001B[0mthis\u001B[0m \u001B[0mdoes\u001B[0m \u001B[0mthe\u001B[0m \u001B[0msame\u001B[0m \u001B[1;32mas\u001B[0m \u001B[0mthe\u001B[0m \u001B[0mpublic\u001B[0m \u001B[0mtake\u001B[0m \u001B[1;33m(\u001B[0m\u001B[0mit\u001B[0m \u001B[0mnever\u001B[0m \u001B[0msets\u001B[0m\u001B[0;31m \u001B[0m\u001B[0;31m`\u001B[0m\u001B[0m_is_copy\u001B[0m\u001B[0;31m`\u001B[0m\u001B[1;33m)\u001B[0m\u001B[1;33m.\u001B[0m\u001B[1;33m\u001B[0m\u001B[1;33m\u001B[0m\u001B[0m\n\u001B[0;32m   4150\u001B[0m \u001B[1;33m\u001B[0m\u001B[0m\n\u001B[0;32m   4151\u001B[0m         \u001B[0mSee\u001B[0m \u001B[0mthe\u001B[0m \u001B[0mdocstring\u001B[0m \u001B[0mof\u001B[0m\u001B[0;31m \u001B[0m\u001B[0;31m`\u001B[0m\u001B[0mtake\u001B[0m\u001B[0;31m`\u001B[0m \u001B[1;32mfor\u001B[0m \u001B[0mfull\u001B[0m \u001B[0mexplanation\u001B[0m \u001B[0mof\u001B[0m \u001B[0mthe\u001B[0m \u001B[0mparameters\u001B[0m\u001B[1;33m.\u001B[0m\u001B[1;33m\u001B[0m\u001B[1;33m\u001B[0m\u001B[0m\n\u001B[0;32m   4152\u001B[0m         \"\"\"\n\u001B[1;32m-> 4153\u001B[1;33m         \u001B[0mresult\u001B[0m \u001B[1;33m=\u001B[0m \u001B[0mself\u001B[0m\u001B[1;33m.\u001B[0m\u001B[0mtake\u001B[0m\u001B[1;33m(\u001B[0m\u001B[0mindices\u001B[0m\u001B[1;33m=\u001B[0m\u001B[0mindices\u001B[0m\u001B[1;33m,\u001B[0m \u001B[0maxis\u001B[0m\u001B[1;33m=\u001B[0m\u001B[0maxis\u001B[0m\u001B[1;33m)\u001B[0m\u001B[1;33m\u001B[0m\u001B[1;33m\u001B[0m\u001B[0m\n\u001B[0m\u001B[0;32m   4154\u001B[0m         \u001B[1;31m# Maybe set copy if we didn't actually change the index.\u001B[0m\u001B[1;33m\u001B[0m\u001B[1;33m\u001B[0m\u001B[0m\n\u001B[0;32m   4155\u001B[0m         \u001B[1;32mif\u001B[0m \u001B[0mself\u001B[0m\u001B[1;33m.\u001B[0m\u001B[0mndim\u001B[0m \u001B[1;33m==\u001B[0m \u001B[1;36m2\u001B[0m \u001B[1;32mand\u001B[0m \u001B[1;32mnot\u001B[0m \u001B[0mresult\u001B[0m\u001B[1;33m.\u001B[0m\u001B[0m_get_axis\u001B[0m\u001B[1;33m(\u001B[0m\u001B[0maxis\u001B[0m\u001B[1;33m)\u001B[0m\u001B[1;33m.\u001B[0m\u001B[0mequals\u001B[0m\u001B[1;33m(\u001B[0m\u001B[0mself\u001B[0m\u001B[1;33m.\u001B[0m\u001B[0m_get_axis\u001B[0m\u001B[1;33m(\u001B[0m\u001B[0maxis\u001B[0m\u001B[1;33m)\u001B[0m\u001B[1;33m)\u001B[0m\u001B[1;33m:\u001B[0m\u001B[1;33m\u001B[0m\u001B[1;33m\u001B[0m\u001B[0m\n\u001B[0;32m   4156\u001B[0m             \u001B[0mresult\u001B[0m\u001B[1;33m.\u001B[0m\u001B[0m_set_is_copy\u001B[0m\u001B[1;33m(\u001B[0m\u001B[0mself\u001B[0m\u001B[1;33m)\u001B[0m\u001B[1;33m\u001B[0m\u001B[1;33m\u001B[0m\u001B[0m\n",
      "\u001B[1;32m~\\PycharmProjects\\Project_Management\\.venv\\Lib\\site-packages\\pandas\\core\\generic.py\u001B[0m in \u001B[0;36m?\u001B[1;34m(self, indices, axis, **kwargs)\u001B[0m\n\u001B[0;32m   4102\u001B[0m \u001B[1;33m\u001B[0m\u001B[0m\n\u001B[0;32m   4103\u001B[0m         \u001B[0mnv\u001B[0m\u001B[1;33m.\u001B[0m\u001B[0mvalidate_take\u001B[0m\u001B[1;33m(\u001B[0m\u001B[1;33m(\u001B[0m\u001B[1;33m)\u001B[0m\u001B[1;33m,\u001B[0m \u001B[0mkwargs\u001B[0m\u001B[1;33m)\u001B[0m\u001B[1;33m\u001B[0m\u001B[1;33m\u001B[0m\u001B[0m\n\u001B[0;32m   4104\u001B[0m \u001B[1;33m\u001B[0m\u001B[0m\n\u001B[0;32m   4105\u001B[0m         \u001B[1;32mif\u001B[0m \u001B[1;32mnot\u001B[0m \u001B[0misinstance\u001B[0m\u001B[1;33m(\u001B[0m\u001B[0mindices\u001B[0m\u001B[1;33m,\u001B[0m \u001B[0mslice\u001B[0m\u001B[1;33m)\u001B[0m\u001B[1;33m:\u001B[0m\u001B[1;33m\u001B[0m\u001B[1;33m\u001B[0m\u001B[0m\n\u001B[1;32m-> 4106\u001B[1;33m             \u001B[0mindices\u001B[0m \u001B[1;33m=\u001B[0m \u001B[0mnp\u001B[0m\u001B[1;33m.\u001B[0m\u001B[0masarray\u001B[0m\u001B[1;33m(\u001B[0m\u001B[0mindices\u001B[0m\u001B[1;33m,\u001B[0m \u001B[0mdtype\u001B[0m\u001B[1;33m=\u001B[0m\u001B[0mnp\u001B[0m\u001B[1;33m.\u001B[0m\u001B[0mintp\u001B[0m\u001B[1;33m)\u001B[0m\u001B[1;33m\u001B[0m\u001B[1;33m\u001B[0m\u001B[0m\n\u001B[0m\u001B[0;32m   4107\u001B[0m             if (\n\u001B[0;32m   4108\u001B[0m                 \u001B[0maxis\u001B[0m \u001B[1;33m==\u001B[0m \u001B[1;36m0\u001B[0m\u001B[1;33m\u001B[0m\u001B[1;33m\u001B[0m\u001B[0m\n\u001B[0;32m   4109\u001B[0m                 \u001B[1;32mand\u001B[0m \u001B[0mindices\u001B[0m\u001B[1;33m.\u001B[0m\u001B[0mndim\u001B[0m \u001B[1;33m==\u001B[0m \u001B[1;36m1\u001B[0m\u001B[1;33m\u001B[0m\u001B[1;33m\u001B[0m\u001B[0m\n",
      "\u001B[1;31mValueError\u001B[0m: invalid literal for int() with base 10: 'education-num'"
     ]
    }
   ],
   "execution_count": 36
  },
  {
   "metadata": {
    "ExecuteTime": {
     "end_time": "2024-12-09T15:32:57.118202Z",
     "start_time": "2024-12-09T15:32:57.118202Z"
    }
   },
   "cell_type": "code",
   "source": [
    "print(\"ALE results:\")\n",
    "global_explanations[\"ale\"].ipython_plot(class_names=transformer.class_names)"
   ],
   "id": "5a2023bfb2d23303",
   "outputs": [],
   "execution_count": null
  },
  {
   "metadata": {
    "ExecuteTime": {
     "end_time": "2024-12-09T15:32:57.119211Z",
     "start_time": "2024-12-09T15:32:57.119211Z"
    }
   },
   "cell_type": "code",
   "source": [
    "print(\"SHAP results:\")\n",
    "global_explanations[\"shap_global\"].ipython_plot(class_names=transformer.class_names)"
   ],
   "id": "dfa3ae47b72dadfa",
   "outputs": [],
   "execution_count": null
  },
  {
   "metadata": {
    "ExecuteTime": {
     "end_time": "2024-12-09T15:32:57.120386Z",
     "start_time": "2024-12-09T15:32:57.120386Z"
    }
   },
   "cell_type": "code",
   "source": [
    "def get_confident_misclassifications(model, test_data, test_labels, threshold=0.9):\n",
    "    predictions_proba = model.predict_proba(test_data)  # Probabilities for each class\n",
    "    predictions = model.predict(test_data)\n",
    "    confidence = np.max(predictions_proba, axis=1)\n",
    "    misclassified = (predictions != test_labels)\n",
    "    high_confidence = confidence > threshold\n",
    "    indices = np.where(misclassified & high_confidence)[0]\n",
    "    return test_data[indices], test_labels[indices], predictions[indices], confidence[indices]"
   ],
   "id": "34860702ba53bc81",
   "outputs": [],
   "execution_count": null
  },
  {
   "metadata": {},
   "cell_type": "markdown",
   "source": "Step 2: Explain misclassifications using SHAP and LIME",
   "id": "69e99d6ef6e1ffef"
  },
  {
   "metadata": {
    "ExecuteTime": {
     "end_time": "2024-12-09T15:32:57.121676Z",
     "start_time": "2024-12-09T15:32:57.121676Z"
    }
   },
   "cell_type": "code",
   "source": [
    "def explain_with_shap_and_lime(model, data_instance, transformer, test_data):\n",
    "    # SHAP explanation\n",
    "    explainer = shap.TreeExplainer(model)\n",
    "    shap_values = explainer.shap_values(data_instance)\n",
    "    print(\"SHAP values:\")\n",
    "    shap.initjs()\n",
    "    shap.force_plot(explainer.expected_value[1], shap_values[1], data_instance)\n",
    "\n",
    "    # LIME explanation\n",
    "    explainers = TabularExplainer(\n",
    "        explainers=['lime'],\n",
    "        mode=\"classification\",\n",
    "        data=test_data,\n",
    "        model=model,\n",
    "        preprocess=lambda z: transformer.transform(z)\n",
    "    )\n",
    "    lime_explanation = explainers.explain(data_instance)\n",
    "    lime_explanation['lime'].ipython_plot(index=0)"
   ],
   "id": "4f79785add623974",
   "outputs": [],
   "execution_count": null
  },
  {
   "metadata": {},
   "cell_type": "markdown",
   "source": "Step 3: Analyze the impact of noisy attributes\n",
   "id": "d9d87ea8b98f772c"
  },
  {
   "metadata": {
    "ExecuteTime": {
     "end_time": "2024-12-09T15:32:57.126277Z",
     "start_time": "2024-12-09T15:32:57.122762Z"
    }
   },
   "cell_type": "code",
   "source": [
    "def compare_noisy_and_original_attributes(misclassified_data, original_data):\n",
    "    noisy_attributes = misclassified_data[['Age', 'Sex']]\n",
    "    original_attributes = original_data.loc[misclassified_data.index, ['Age', 'Sex']]\n",
    "    difference = noisy_attributes - original_attributes\n",
    "    print(\"Differences in noisy vs original attributes:\")\n",
    "    print(difference)"
   ],
   "id": "24f9d309090a94fe",
   "outputs": [],
   "execution_count": null
  },
  {
   "metadata": {},
   "cell_type": "markdown",
   "source": [
    "Example usage :\n",
    "Get confident misclassified instances"
   ],
   "id": "365bc44091fbc546"
  },
  {
   "metadata": {
    "ExecuteTime": {
     "end_time": "2024-12-09T15:32:57.128242Z",
     "start_time": "2024-12-09T15:32:57.128242Z"
    }
   },
   "cell_type": "code",
   "source": [
    "confident_misclassified_data, confident_misclassified_labels, confident_predictions, confidences = get_confident_misclassifications(\n",
    "    model, test_data, test_labels\n",
    ")"
   ],
   "id": "2e3e395388b6e375",
   "outputs": [],
   "execution_count": null
  },
  {
   "metadata": {},
   "cell_type": "markdown",
   "source": "Explain a misclassified instance",
   "id": "b238093f7ef3cf91"
  },
  {
   "metadata": {},
   "cell_type": "code",
   "source": [
    "if len(confident_misclassified_data) > 0:\n",
    "    instance_id = 0  # Select the first misclassified instance\n",
    "    instance_data = confident_misclassified_data[instance_id:instance_id + 1]\n",
    "    explain_with_shap_and_lime(model, instance_data, transformer, test_data)\n",
    "\n",
    "    # Compare noisy and original attributes for the misclassified instance\n",
    "    compare_noisy_and_original_attributes(\n",
    "        confident_misclassified_data.iloc[instance_id:instance_id + 1],\n",
    "        original_data\n",
    "    )\n",
    "else:\n",
    "    print(\"No confident misclassified instances found.\")"
   ],
   "id": "8ed80aa46a245f3a",
   "outputs": [],
   "execution_count": null
  }
 ],
 "metadata": {
  "kernelspec": {
   "display_name": "Python 3",
   "language": "python",
   "name": "python3"
  },
  "language_info": {
   "codemirror_mode": {
    "name": "ipython",
    "version": 2
   },
   "file_extension": ".py",
   "mimetype": "text/x-python",
   "name": "python",
   "nbconvert_exporter": "python",
   "pygments_lexer": "ipython2",
   "version": "2.7.6"
  }
 },
 "nbformat": 4,
 "nbformat_minor": 5
}

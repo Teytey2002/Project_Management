{
 "cells": [
  {
   "cell_type": "markdown",
   "metadata": {},
   "source": [
    "## 6. Explainability and LLMs"
   ]
  },
  {
   "cell_type": "markdown",
   "metadata": {},
   "source": [
    "In this section why use the LLM model to better understand informations about our classifier"
   ]
  },
  {
   "cell_type": "markdown",
   "metadata": {},
   "source": [
    "#### Importation of the librairies needed"
   ]
  },
  {
   "cell_type": "code",
   "execution_count": 1,
   "metadata": {},
   "outputs": [],
   "source": [
    "import warnings\n",
    "warnings.filterwarnings(\"ignore\")\n",
    "\n",
    "import sys\n",
    "sys.path.append(\"dependencies\")\n",
    "\n",
    "from omnixai.data.tabular import Tabular\n",
    "from omnixai.preprocessing.tabular import TabularTransform\n",
    "from omnixai.explainers.tabular import TabularExplainer\n",
    "import xgboost as xgboost\n",
    "\n",
    "import pandas as pd\n",
    "import numpy as np\n",
    "import sklearn\n",
    "\n",
    "import math\n",
    "import random\n",
    "\n",
    "from openai import OpenAI"
   ]
  },
  {
   "cell_type": "markdown",
   "metadata": {},
   "source": [
    "### Load and preprocess the dataset"
   ]
  },
  {
   "cell_type": "code",
   "execution_count": null,
   "metadata": {},
   "outputs": [],
   "source": [
    "# Load Dataset\n",
    "feature_names = [\n",
    "    \"Age\", \"Workclass\", \"Education\",\"Marital Status\", \"Occupation\", \"Relationship\", \n",
    "    \"Race\", \"Sex\", \"Capital Gain\",\"Capital Loss\", \"Hours per week\", \"Country\", \n",
    "    \"label\"\n",
    "]\n",
    "\n",
    "# Load the dataset into a DataFrame\n",
    "df = pd.DataFrame(\n",
    "  np.genfromtxt('adult.data', delimiter=', ', dtype=str, usecols=(0,1,3,5,6,7,8,9,10,11,12,13,14)),    \n",
    "  columns=feature_names\n",
    ")\n",
    "\n",
    "\n",
    "#Drop missing values denoted as ?\n",
    "cols = list(df.columns)\n",
    "df[cols] = df[cols].replace(['?'], np.nan)\n",
    "df = df.dropna()\n",
    "\n",
    "# Binarize age\n",
    "df['Age'] = pd.to_numeric(df['Age'], errors='coerce')\n",
    "median_age = df['Age'].median()\n",
    "\n",
    "# Create binary columns for 'Age' and 'Sex'\n",
    "df['age_binary'] = df['Age'].apply(lambda x: 0 if x <= median_age else 1)\n",
    "df['sex_binary'] = df['Sex'].apply(lambda x: 0 if x == 'Female' else 1)\n",
    "\n",
    "# Drop the original 'Age' and 'Sex' columns\n",
    "df = df.drop('Age', axis=1)\n",
    "df = df.drop('Sex', axis=1)\n",
    "\n",
    "# Convert the 'label' column to binary\n",
    "df[\"label\"] = df[\"label\"].replace('>50K',1)\n",
    "df[\"label\"] = df[\"label\"].replace('<=50K',0)\n"
   ]
  },
  {
   "cell_type": "markdown",
   "metadata": {},
   "source": [
    "### Apply LDP on Data set "
   ]
  },
  {
   "cell_type": "code",
   "execution_count": 3,
   "metadata": {},
   "outputs": [],
   "source": [
    "# Define functions for local differential privacy\n",
    "def get_epsilon(p=0.75, q=0.75):\n",
    "    return math.log( max(q/(1-p), p/(1-q)) )\n",
    "\n",
    "def rand_resp(x, p=0.75, q=0.75):\n",
    "    toss = random.random()\n",
    "    if x == 0:\n",
    "        y = 0 if toss <= q else 1\n",
    "    else:\n",
    "        y = 1 if toss <= p else 0\n",
    "    return y"
   ]
  },
  {
   "cell_type": "code",
   "execution_count": null,
   "metadata": {},
   "outputs": [],
   "source": [
    "# Create a copy of the original DataFrame\n",
    "df_private = df.copy()\n",
    "epsilon = get_epsilon()\n",
    "\n",
    "# Apply local differential privacy to 'age_binary' and 'sex_binary' columns\n",
    "df_private['age_binary_private'] = df_private['age_binary'].apply(lambda x: rand_resp(x))\n",
    "df_private['sex_binary_private'] = df_private['sex_binary'].apply(lambda x: rand_resp(x))\n",
    "\n",
    "# Define feature names and categorical columns\n",
    "feature_names = [\n",
    "    \"age_binary_private\", \"Workclass\", \"Education\",\"Marital Status\", \"Occupation\", \"Relationship\", \n",
    "    \"Race\", \"sex_binary_private\", \"Capital Gain\",\"Capital Loss\", \"Hours per week\", \"Country\", \n",
    "    \"label\"\n",
    "]\n",
    "categorical_columns=[\n",
    "   \"Workclass\", \"Education\", \"Marital Status\", \"Occupation\", \"Relationship\", \"Race\", \"sex_binary_private\", 'age_binary_private', \"Country\", \"label\"\n",
    "]\n",
    "\n",
    "# Convert columns to appropriate data types\n",
    "for feature in feature_names:\n",
    "    if feature in categorical_columns:\n",
    "        df_private[feature] = df_private[feature].astype(\"category\")\n",
    "    else:\n",
    "        df_private[feature] = df_private[feature].astype(\"int64\")"
   ]
  },
  {
   "cell_type": "markdown",
   "metadata": {},
   "source": [
    "### Split and Train Data"
   ]
  },
  {
   "cell_type": "code",
   "execution_count": 5,
   "metadata": {},
   "outputs": [
    {
     "name": "stdout",
     "output_type": "stream",
     "text": [
      "Training data shape: (21113, 404)\n",
      "Test data shape:     (9049, 404)\n"
     ]
    }
   ],
   "source": [
    "# Data preprocessing to train model\n",
    "columns = [\n",
    "    \"age_binary_private\", \"Workclass\", \"Education\",\"Marital Status\", \"Occupation\", \"Relationship\", \n",
    "    \"Race\", \"sex_binary_private\", \"Capital Gain\",\"Capital Loss\", \"Hours per week\", \"Country\"]\n",
    "\n",
    "# Create a Tabular object for the private data\n",
    "tabular_data = Tabular(\n",
    "   df_private,\n",
    "   categorical_columns=columns,\n",
    "   target_column='label'\n",
    ")\n",
    "\n",
    "# Divide into training and test set\n",
    "transformer = TabularTransform().fit(tabular_data)\n",
    "class_names = transformer.class_names\n",
    "x = transformer.transform(tabular_data)\n",
    "train, test, train_labels, test_labels = \\\n",
    "    sklearn.model_selection.train_test_split(x[:, :-1], x[:, -1], train_size=0.70,random_state = 1234)\n",
    "\n",
    "# Convert test labels to integers\n",
    "test_labels = test_labels.astype(int)\n",
    "\n",
    "# Print the shapes of the training and test data\n",
    "print('Training data shape: {}'.format(train.shape))\n",
    "print('Test data shape:     {}'.format(test.shape))\n",
    "\n",
    "# Train an XGBoost model\n",
    "model = xgboost.XGBClassifier(n_estimators=300, max_depth=5)\n",
    "model.fit(train, train_labels)\n",
    "\n",
    "# Define a prediction function\n",
    "predict_function=lambda z: model.predict_proba(transformer.transform(z))\n",
    "\n",
    "\n",
    "# Convert the transformed data back to Tabular instances\n",
    "train_data = transformer.invert(train)\n",
    "test_data = transformer.invert(test)\n",
    "\n",
    "# Display the target column and the first two training labels\n",
    "#display(tabular_data.target_column)\n",
    "#display(train_labels[:2])"
   ]
  },
  {
   "cell_type": "code",
   "execution_count": null,
   "metadata": {},
   "outputs": [],
   "source": [
    "test_df = test_data.to_pd()\n",
    "test_df[\"income-per-year\"] = test_labels\n",
    "predictions = model.predict(test)\n",
    "test_df[\"prediction\"] = predictions\n",
    "\n",
    "# Display a sample of the test DataFrame\n",
    "# test_df.sample(5)"
   ]
  },
  {
   "cell_type": "markdown",
   "metadata": {},
   "source": [
    "### Identify instances where the model is wrong but highly confident "
   ]
  },
  {
   "cell_type": "code",
   "execution_count": 7,
   "metadata": {},
   "outputs": [
    {
     "name": "stdout",
     "output_type": "stream",
     "text": [
      "There are 58 instances where the model is very confident but wrong.\n",
      "For example, instance 122 has label 1 and prediction 0, with probs [0.96228683 0.03771318]\n"
     ]
    }
   ],
   "source": [
    "# Find instances where the predicted label is different from the actual label\n",
    "miss_indices = np.where(predictions != test_labels)[0]\n",
    "\n",
    "# Create the prediction probabilities\n",
    "proba = model.predict_proba(test)\n",
    "\n",
    "# Find instances where the model is very confident but wrong\n",
    "miss_but_confident = []\n",
    "\n",
    "for idx in miss_indices:\n",
    "    if max(proba[idx]) > 0.95:\n",
    "        miss_but_confident.append(idx)\n",
    "    \n",
    "# Print the number of instances where the model is very confident but wrong\n",
    "print(f\"There are {len(miss_but_confident)} instances where the model is very confident but wrong.\")\n",
    "\n",
    "instance_ids = miss_but_confident\n",
    "\n",
    "# Print an example of a highly confident but wrong prediction\n",
    "print(f\"For example, instance {instance_ids[0]} has label {test_labels[instance_ids[0]]} and prediction {predictions[instance_ids[0]]}, with probs {model.predict_proba(test[instance_ids[0]:instance_ids[0]+1])[0]}\")"
   ]
  },
  {
   "cell_type": "markdown",
   "metadata": {},
   "source": [
    "### Explanation of instances where the model is wrong but highly confident."
   ]
  },
  {
   "cell_type": "code",
   "execution_count": 8,
   "metadata": {},
   "outputs": [],
   "source": [
    "# Initialize the explainers for the identified instances\n",
    "explainers = TabularExplainer(\n",
    "  explainers=['lime'],                       # The explainers to apply\n",
    "  mode=\"classification\",                             # The task type\n",
    "  data=train_data,                                   # The data for initializing the explainers\n",
    "  model=model,                                       # The ML model to explain\n",
    "  preprocess=lambda z: transformer.transform(z),     # Converts raw features into the model inputs\n",
    ")\n",
    "# Select the instances to explain\n",
    "instance_ids = instance_ids[:1]  # Select the first 10 instances to better visualization \n",
    "test_instances = test_data[instance_ids]\n",
    "local_explanations = explainers.explain(X=test_instances)"
   ]
  },
  {
   "cell_type": "markdown",
   "metadata": {},
   "source": [
    "### LIME explanations for the identified instances"
   ]
  },
  {
   "cell_type": "code",
   "execution_count": 9,
   "metadata": {},
   "outputs": [
    {
     "name": "stdout",
     "output_type": "stream",
     "text": [
      "LIME explanation\n",
      "Instance 122 has 1 and prediction 0, with probs [0.96228683 0.03771318]\n"
     ]
    },
    {
     "data": {
      "application/vnd.plotly.v1+json": {
       "config": {
        "linkText": "Export to plot.ly",
        "plotlyServerURL": "https://plot.ly",
        "showLink": false
       },
       "data": [
        {
         "alignmentgroup": "True",
         "hovertemplate": "Positive=False<br>Importance scores=%{x}<br>Features=%{y}<extra></extra>",
         "legendgroup": "False",
         "marker": {
          "color": "#DC143C",
          "pattern": {
           "shape": ""
          }
         },
         "name": "False",
         "offsetgroup": "False",
         "orientation": "h",
         "showlegend": true,
         "textposition": "auto",
         "type": "bar",
         "x": [
          -0.009712237972903666,
          -0.017337342707204835,
          -0.023888852064590137,
          -0.035585915604035845,
          -0.062088669820060144,
          -0.22745123103035825
         ],
         "xaxis": "x",
         "y": [
          "Relationship = Husband",
          "Race = White",
          "Occupation = Sales",
          "sex_binary = 1",
          "age_binary = 1",
          "Marital Status = Married-civ-spo*"
         ],
         "yaxis": "y"
        },
        {
         "alignmentgroup": "True",
         "hovertemplate": "Positive=True<br>Importance scores=%{x}<br>Features=%{y}<extra></extra>",
         "legendgroup": "True",
         "marker": {
          "color": "#008B8B",
          "pattern": {
           "shape": ""
          }
         },
         "name": "True",
         "offsetgroup": "True",
         "orientation": "h",
         "showlegend": true,
         "textposition": "auto",
         "type": "bar",
         "x": [
          0.030733481654917152,
          0.16225261115512912,
          0.20317234558970282,
          0.39425625930072794
         ],
         "xaxis": "x",
         "y": [
          "Country = Mexico",
          "Education = 5th-6th",
          "Capital Loss = 0",
          "Capital Gain = 0"
         ],
         "yaxis": "y"
        }
       ],
       "layout": {
        "barmode": "relative",
        "legend": {
         "title": {
          "text": "Positive"
         },
         "tracegroupgap": 0
        },
        "template": {
         "data": {
          "bar": [
           {
            "error_x": {
             "color": "#2a3f5f"
            },
            "error_y": {
             "color": "#2a3f5f"
            },
            "marker": {
             "line": {
              "color": "#E5ECF6",
              "width": 0.5
             },
             "pattern": {
              "fillmode": "overlay",
              "size": 10,
              "solidity": 0.2
             }
            },
            "type": "bar"
           }
          ],
          "barpolar": [
           {
            "marker": {
             "line": {
              "color": "#E5ECF6",
              "width": 0.5
             },
             "pattern": {
              "fillmode": "overlay",
              "size": 10,
              "solidity": 0.2
             }
            },
            "type": "barpolar"
           }
          ],
          "carpet": [
           {
            "aaxis": {
             "endlinecolor": "#2a3f5f",
             "gridcolor": "white",
             "linecolor": "white",
             "minorgridcolor": "white",
             "startlinecolor": "#2a3f5f"
            },
            "baxis": {
             "endlinecolor": "#2a3f5f",
             "gridcolor": "white",
             "linecolor": "white",
             "minorgridcolor": "white",
             "startlinecolor": "#2a3f5f"
            },
            "type": "carpet"
           }
          ],
          "choropleth": [
           {
            "colorbar": {
             "outlinewidth": 0,
             "ticks": ""
            },
            "type": "choropleth"
           }
          ],
          "contour": [
           {
            "colorbar": {
             "outlinewidth": 0,
             "ticks": ""
            },
            "colorscale": [
             [
              0,
              "#0d0887"
             ],
             [
              0.1111111111111111,
              "#46039f"
             ],
             [
              0.2222222222222222,
              "#7201a8"
             ],
             [
              0.3333333333333333,
              "#9c179e"
             ],
             [
              0.4444444444444444,
              "#bd3786"
             ],
             [
              0.5555555555555556,
              "#d8576b"
             ],
             [
              0.6666666666666666,
              "#ed7953"
             ],
             [
              0.7777777777777778,
              "#fb9f3a"
             ],
             [
              0.8888888888888888,
              "#fdca26"
             ],
             [
              1,
              "#f0f921"
             ]
            ],
            "type": "contour"
           }
          ],
          "contourcarpet": [
           {
            "colorbar": {
             "outlinewidth": 0,
             "ticks": ""
            },
            "type": "contourcarpet"
           }
          ],
          "heatmap": [
           {
            "colorbar": {
             "outlinewidth": 0,
             "ticks": ""
            },
            "colorscale": [
             [
              0,
              "#0d0887"
             ],
             [
              0.1111111111111111,
              "#46039f"
             ],
             [
              0.2222222222222222,
              "#7201a8"
             ],
             [
              0.3333333333333333,
              "#9c179e"
             ],
             [
              0.4444444444444444,
              "#bd3786"
             ],
             [
              0.5555555555555556,
              "#d8576b"
             ],
             [
              0.6666666666666666,
              "#ed7953"
             ],
             [
              0.7777777777777778,
              "#fb9f3a"
             ],
             [
              0.8888888888888888,
              "#fdca26"
             ],
             [
              1,
              "#f0f921"
             ]
            ],
            "type": "heatmap"
           }
          ],
          "heatmapgl": [
           {
            "colorbar": {
             "outlinewidth": 0,
             "ticks": ""
            },
            "colorscale": [
             [
              0,
              "#0d0887"
             ],
             [
              0.1111111111111111,
              "#46039f"
             ],
             [
              0.2222222222222222,
              "#7201a8"
             ],
             [
              0.3333333333333333,
              "#9c179e"
             ],
             [
              0.4444444444444444,
              "#bd3786"
             ],
             [
              0.5555555555555556,
              "#d8576b"
             ],
             [
              0.6666666666666666,
              "#ed7953"
             ],
             [
              0.7777777777777778,
              "#fb9f3a"
             ],
             [
              0.8888888888888888,
              "#fdca26"
             ],
             [
              1,
              "#f0f921"
             ]
            ],
            "type": "heatmapgl"
           }
          ],
          "histogram": [
           {
            "marker": {
             "pattern": {
              "fillmode": "overlay",
              "size": 10,
              "solidity": 0.2
             }
            },
            "type": "histogram"
           }
          ],
          "histogram2d": [
           {
            "colorbar": {
             "outlinewidth": 0,
             "ticks": ""
            },
            "colorscale": [
             [
              0,
              "#0d0887"
             ],
             [
              0.1111111111111111,
              "#46039f"
             ],
             [
              0.2222222222222222,
              "#7201a8"
             ],
             [
              0.3333333333333333,
              "#9c179e"
             ],
             [
              0.4444444444444444,
              "#bd3786"
             ],
             [
              0.5555555555555556,
              "#d8576b"
             ],
             [
              0.6666666666666666,
              "#ed7953"
             ],
             [
              0.7777777777777778,
              "#fb9f3a"
             ],
             [
              0.8888888888888888,
              "#fdca26"
             ],
             [
              1,
              "#f0f921"
             ]
            ],
            "type": "histogram2d"
           }
          ],
          "histogram2dcontour": [
           {
            "colorbar": {
             "outlinewidth": 0,
             "ticks": ""
            },
            "colorscale": [
             [
              0,
              "#0d0887"
             ],
             [
              0.1111111111111111,
              "#46039f"
             ],
             [
              0.2222222222222222,
              "#7201a8"
             ],
             [
              0.3333333333333333,
              "#9c179e"
             ],
             [
              0.4444444444444444,
              "#bd3786"
             ],
             [
              0.5555555555555556,
              "#d8576b"
             ],
             [
              0.6666666666666666,
              "#ed7953"
             ],
             [
              0.7777777777777778,
              "#fb9f3a"
             ],
             [
              0.8888888888888888,
              "#fdca26"
             ],
             [
              1,
              "#f0f921"
             ]
            ],
            "type": "histogram2dcontour"
           }
          ],
          "mesh3d": [
           {
            "colorbar": {
             "outlinewidth": 0,
             "ticks": ""
            },
            "type": "mesh3d"
           }
          ],
          "parcoords": [
           {
            "line": {
             "colorbar": {
              "outlinewidth": 0,
              "ticks": ""
             }
            },
            "type": "parcoords"
           }
          ],
          "pie": [
           {
            "automargin": true,
            "type": "pie"
           }
          ],
          "scatter": [
           {
            "fillpattern": {
             "fillmode": "overlay",
             "size": 10,
             "solidity": 0.2
            },
            "type": "scatter"
           }
          ],
          "scatter3d": [
           {
            "line": {
             "colorbar": {
              "outlinewidth": 0,
              "ticks": ""
             }
            },
            "marker": {
             "colorbar": {
              "outlinewidth": 0,
              "ticks": ""
             }
            },
            "type": "scatter3d"
           }
          ],
          "scattercarpet": [
           {
            "marker": {
             "colorbar": {
              "outlinewidth": 0,
              "ticks": ""
             }
            },
            "type": "scattercarpet"
           }
          ],
          "scattergeo": [
           {
            "marker": {
             "colorbar": {
              "outlinewidth": 0,
              "ticks": ""
             }
            },
            "type": "scattergeo"
           }
          ],
          "scattergl": [
           {
            "marker": {
             "colorbar": {
              "outlinewidth": 0,
              "ticks": ""
             }
            },
            "type": "scattergl"
           }
          ],
          "scattermapbox": [
           {
            "marker": {
             "colorbar": {
              "outlinewidth": 0,
              "ticks": ""
             }
            },
            "type": "scattermapbox"
           }
          ],
          "scatterpolar": [
           {
            "marker": {
             "colorbar": {
              "outlinewidth": 0,
              "ticks": ""
             }
            },
            "type": "scatterpolar"
           }
          ],
          "scatterpolargl": [
           {
            "marker": {
             "colorbar": {
              "outlinewidth": 0,
              "ticks": ""
             }
            },
            "type": "scatterpolargl"
           }
          ],
          "scatterternary": [
           {
            "marker": {
             "colorbar": {
              "outlinewidth": 0,
              "ticks": ""
             }
            },
            "type": "scatterternary"
           }
          ],
          "surface": [
           {
            "colorbar": {
             "outlinewidth": 0,
             "ticks": ""
            },
            "colorscale": [
             [
              0,
              "#0d0887"
             ],
             [
              0.1111111111111111,
              "#46039f"
             ],
             [
              0.2222222222222222,
              "#7201a8"
             ],
             [
              0.3333333333333333,
              "#9c179e"
             ],
             [
              0.4444444444444444,
              "#bd3786"
             ],
             [
              0.5555555555555556,
              "#d8576b"
             ],
             [
              0.6666666666666666,
              "#ed7953"
             ],
             [
              0.7777777777777778,
              "#fb9f3a"
             ],
             [
              0.8888888888888888,
              "#fdca26"
             ],
             [
              1,
              "#f0f921"
             ]
            ],
            "type": "surface"
           }
          ],
          "table": [
           {
            "cells": {
             "fill": {
              "color": "#EBF0F8"
             },
             "line": {
              "color": "white"
             }
            },
            "header": {
             "fill": {
              "color": "#C8D4E3"
             },
             "line": {
              "color": "white"
             }
            },
            "type": "table"
           }
          ]
         },
         "layout": {
          "annotationdefaults": {
           "arrowcolor": "#2a3f5f",
           "arrowhead": 0,
           "arrowwidth": 1
          },
          "autotypenumbers": "strict",
          "coloraxis": {
           "colorbar": {
            "outlinewidth": 0,
            "ticks": ""
           }
          },
          "colorscale": {
           "diverging": [
            [
             0,
             "#8e0152"
            ],
            [
             0.1,
             "#c51b7d"
            ],
            [
             0.2,
             "#de77ae"
            ],
            [
             0.3,
             "#f1b6da"
            ],
            [
             0.4,
             "#fde0ef"
            ],
            [
             0.5,
             "#f7f7f7"
            ],
            [
             0.6,
             "#e6f5d0"
            ],
            [
             0.7,
             "#b8e186"
            ],
            [
             0.8,
             "#7fbc41"
            ],
            [
             0.9,
             "#4d9221"
            ],
            [
             1,
             "#276419"
            ]
           ],
           "sequential": [
            [
             0,
             "#0d0887"
            ],
            [
             0.1111111111111111,
             "#46039f"
            ],
            [
             0.2222222222222222,
             "#7201a8"
            ],
            [
             0.3333333333333333,
             "#9c179e"
            ],
            [
             0.4444444444444444,
             "#bd3786"
            ],
            [
             0.5555555555555556,
             "#d8576b"
            ],
            [
             0.6666666666666666,
             "#ed7953"
            ],
            [
             0.7777777777777778,
             "#fb9f3a"
            ],
            [
             0.8888888888888888,
             "#fdca26"
            ],
            [
             1,
             "#f0f921"
            ]
           ],
           "sequentialminus": [
            [
             0,
             "#0d0887"
            ],
            [
             0.1111111111111111,
             "#46039f"
            ],
            [
             0.2222222222222222,
             "#7201a8"
            ],
            [
             0.3333333333333333,
             "#9c179e"
            ],
            [
             0.4444444444444444,
             "#bd3786"
            ],
            [
             0.5555555555555556,
             "#d8576b"
            ],
            [
             0.6666666666666666,
             "#ed7953"
            ],
            [
             0.7777777777777778,
             "#fb9f3a"
            ],
            [
             0.8888888888888888,
             "#fdca26"
            ],
            [
             1,
             "#f0f921"
            ]
           ]
          },
          "colorway": [
           "#636efa",
           "#EF553B",
           "#00cc96",
           "#ab63fa",
           "#FFA15A",
           "#19d3f3",
           "#FF6692",
           "#B6E880",
           "#FF97FF",
           "#FECB52"
          ],
          "font": {
           "color": "#2a3f5f"
          },
          "geo": {
           "bgcolor": "white",
           "lakecolor": "white",
           "landcolor": "#E5ECF6",
           "showlakes": true,
           "showland": true,
           "subunitcolor": "white"
          },
          "hoverlabel": {
           "align": "left"
          },
          "hovermode": "closest",
          "mapbox": {
           "style": "light"
          },
          "paper_bgcolor": "white",
          "plot_bgcolor": "#E5ECF6",
          "polar": {
           "angularaxis": {
            "gridcolor": "white",
            "linecolor": "white",
            "ticks": ""
           },
           "bgcolor": "#E5ECF6",
           "radialaxis": {
            "gridcolor": "white",
            "linecolor": "white",
            "ticks": ""
           }
          },
          "scene": {
           "xaxis": {
            "backgroundcolor": "#E5ECF6",
            "gridcolor": "white",
            "gridwidth": 2,
            "linecolor": "white",
            "showbackground": true,
            "ticks": "",
            "zerolinecolor": "white"
           },
           "yaxis": {
            "backgroundcolor": "#E5ECF6",
            "gridcolor": "white",
            "gridwidth": 2,
            "linecolor": "white",
            "showbackground": true,
            "ticks": "",
            "zerolinecolor": "white"
           },
           "zaxis": {
            "backgroundcolor": "#E5ECF6",
            "gridcolor": "white",
            "gridwidth": 2,
            "linecolor": "white",
            "showbackground": true,
            "ticks": "",
            "zerolinecolor": "white"
           }
          },
          "shapedefaults": {
           "line": {
            "color": "#2a3f5f"
           }
          },
          "ternary": {
           "aaxis": {
            "gridcolor": "white",
            "linecolor": "white",
            "ticks": ""
           },
           "baxis": {
            "gridcolor": "white",
            "linecolor": "white",
            "ticks": ""
           },
           "bgcolor": "#E5ECF6",
           "caxis": {
            "gridcolor": "white",
            "linecolor": "white",
            "ticks": ""
           }
          },
          "title": {
           "x": 0.05
          },
          "xaxis": {
           "automargin": true,
           "gridcolor": "white",
           "linecolor": "white",
           "ticks": "",
           "title": {
            "standoff": 15
           },
           "zerolinecolor": "white",
           "zerolinewidth": 2
          },
          "yaxis": {
           "automargin": true,
           "gridcolor": "white",
           "linecolor": "white",
           "ticks": "",
           "title": {
            "standoff": 15
           },
           "zerolinecolor": "white",
           "zerolinewidth": 2
          }
         }
        },
        "title": {
         "text": "Label: Class 0"
        },
        "xaxis": {
         "anchor": "y",
         "domain": [
          0,
          1
         ],
         "title": {
          "text": "Importance scores"
         }
        },
        "yaxis": {
         "anchor": "x",
         "domain": [
          0,
          1
         ],
         "title": {
          "text": "Features"
         }
        }
       }
      }
     },
     "metadata": {},
     "output_type": "display_data"
    }
   ],
   "source": [
    "print(\"LIME explanation\")\n",
    "\n",
    "for i, instance_id in enumerate(instance_ids):\n",
    "    print(f\"Instance {instance_id} has {test_labels[instance_id]} and prediction {predictions[instance_id]}, with probs {model.predict_proba(test[instance_id:instance_id+1])[0]}\")\n",
    "    local_explanations[\"lime\"].ipython_plot(index=i, class_names=class_names)"
   ]
  },
  {
   "cell_type": "markdown",
   "metadata": {},
   "source": [
    "### Translate explanation to Natural language"
   ]
  },
  {
   "cell_type": "code",
   "execution_count": 10,
   "metadata": {},
   "outputs": [
    {
     "name": "stdout",
     "output_type": "stream",
     "text": [
      "LIME Explanation (as text):\n",
      "Instance 122:\n",
      "For this individual, the key factors are:\n",
      "- Capital Gain: contribution of 0.39\n",
      "- Marital Status: contribution of -0.23\n",
      "- Capital Loss: contribution of 0.20\n",
      "- Education: contribution of 0.16\n",
      "- age_binary: contribution of -0.06\n",
      "- sex_binary: contribution of -0.04\n",
      "- Country: contribution of 0.03\n",
      "- Occupation: contribution of -0.02\n",
      "- Race: contribution of -0.02\n",
      "- Relationship: contribution of -0.01\n",
      "\n",
      "\n",
      "--------------------------------------------------\n",
      "\n"
     ]
    }
   ],
   "source": [
    "# Extract explanations in a readable text format\n",
    "print(\"LIME Explanation (as text):\")\n",
    "\n",
    "for i, instance_id in enumerate(instance_ids):\n",
    "    # Access the explanation for the current instance\n",
    "    explanation = local_explanations[\"lime\"][i]  # Access the i-th explanation\n",
    "\n",
    "    # Extract features and their importance scores\n",
    "    features = explanation.explanations[0][\"features\"]  # List of feature names\n",
    "    scores = explanation.explanations[0][\"scores\"]  # List of importance scores\n",
    "\n",
    "    # Build the textual explanation\n",
    "    formatted_explanation = \"For this individual, the key factors are:\\n\"\n",
    "    for feature, score in zip(features, scores):\n",
    "        formatted_explanation += f\"- {feature}: contribution of {float(score):.2f}\\n\"\n",
    "\n",
    "    print(f\"Instance {instance_id}:\")\n",
    "    print(formatted_explanation)\n",
    "    print(\"\\n\" + \"-\"*50 + \"\\n\")\n",
    "\n",
    "\n"
   ]
  },
  {
   "cell_type": "code",
   "execution_count": 11,
   "metadata": {},
   "outputs": [],
   "source": [
    "# Connection to local OpenAI server\n",
    "client = OpenAI(\n",
    "    api_key=\"your-api-key\",\n",
    "    base_url=\"http://localhost:1234/v1\"\n",
    ")"
   ]
  },
  {
   "cell_type": "markdown",
   "metadata": {},
   "source": [
    "Each time we interact with it, the LLM starts anew. So we need to store and replay the messages.\n",
    "And we'll build a function to interact with the LLM. "
   ]
  },
  {
   "cell_type": "code",
   "execution_count": 12,
   "metadata": {},
   "outputs": [],
   "source": [
    "messages = [\n",
    "    {\"role\": \"system\", \"content\": \"Hello! How can I help you today?\"}\n",
    "]\n",
    "\n",
    "def get_response(message, messages):\n",
    "    messages.append({\"role\": \"user\", \"content\": message})\n",
    "    completion = client.chat.completions.create(\n",
    "        messages=messages,\n",
    "        temperature=0.8,\n",
    "        model=\"model\"\n",
    "    )\n",
    "    response = completion.choices[0].message.content\n",
    "    messages.append({\"role\": \"assistant\", \"content\": response})\n",
    "    return response, messages"
   ]
  },
  {
   "cell_type": "markdown",
   "metadata": {},
   "source": [
    "Send formatted_explanation to LLM"
   ]
  },
  {
   "cell_type": "code",
   "execution_count": 14,
   "metadata": {},
   "outputs": [
    {
     "name": "stdout",
     "output_type": "stream",
     "text": [
      "**Breaking down the numbers**\n",
      "\n",
      "Let's look at the factors that affect this individual, along with how much each factor affects their situation.\n",
      "\n",
      "* **Capital Gain**: For every dollar earned in capital gains (like from investments), they get 39 cents more.\n",
      "* **Marital Status**: Getting married actually hurts them - it gives them a 23-cent penalty.\n",
      "* **Capital Loss**: Losing money is not a big deal for this person - it's only worth about 20 cents less to them.\n",
      "* **Education**: Having a higher education level helps them out - it gives them a 16-cent boost.\n",
      "* **Age**: For every year they get older, their situation gets slightly worse by 6 cents (this is a \"binary\" factor, meaning there are two possible ages).\n",
      "* **Sex**: Being female doesn't have a huge impact on their situation - it only hurts them by 4 cents.\n",
      "* **Country**: The country they live in has no significant effect on their situation, but they get a tiny boost of 3 cents from living in this particular country.\n",
      "* **Occupation**: Their job doesn't hurt or help their situation much - it's worth about 2 cents less to them.\n",
      "* **Race**: Being part of certain racial groups (or not) has only a small impact on their situation, with a 2-cent penalty for being part of one group and no effect for others.\n",
      "* **Relationship Status**: Not having a partner doesn't have any significant effect on their situation - they get a tiny penalty of just 1 cent.\n",
      "\n",
      "These numbers help us understand how each factor affects this individual's situation.\n"
     ]
    }
   ],
   "source": [
    "message = f\"Explain the following explaination as text that a person can easily understand :\\n{formatted_explanation} \"\n",
    "response, messages = get_response(message, messages)\n",
    "print(response)"
   ]
  }
 ],
 "metadata": {
  "kernelspec": {
   "display_name": "omnixai",
   "language": "python",
   "name": "python3"
  },
  "language_info": {
   "codemirror_mode": {
    "name": "ipython",
    "version": 3
   },
   "file_extension": ".py",
   "mimetype": "text/x-python",
   "name": "python",
   "nbconvert_exporter": "python",
   "pygments_lexer": "ipython3",
   "version": "3.11.10"
  }
 },
 "nbformat": 4,
 "nbformat_minor": 2
}
